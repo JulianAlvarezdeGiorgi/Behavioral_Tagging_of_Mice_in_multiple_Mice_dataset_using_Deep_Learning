{
 "cells": [
  {
   "cell_type": "code",
   "execution_count": 57,
   "metadata": {},
   "outputs": [],
   "source": [
    "import models\n",
    "import torch\n",
    "import numpy as np\n",
    "import importlib \n",
    "from torch_geometric.data import Data, DataLoader\n",
    "import tqdm\n",
    "import pandas as pd\n",
    "import torch.nn as nn"
   ]
  },
  {
   "cell_type": "code",
   "execution_count": 58,
   "metadata": {},
   "outputs": [],
   "source": [
    "\n",
    "# Define a Dictionary that contains the models for each behavior\n",
    "MODELS = {'General_Contact': [models.GATEncoder(nout = 64, nhid=32, attention_heads = 2, n_in = 4, n_layers=4, dropout=0.2), models.ClassificationHead(n_latent=64, nhid = 32, nout = 2), 'mean'],\n",
    "        'Sniffing': [models.GATEncoder(nout = 64, nhid=32, attention_heads = 2, n_in = 4, n_layers=4, dropout=0.2), models.ClassificationHead(n_latent=64, nhid = 32, nout = 2), 'mean'],\n",
    "        'Sniffing_head': [models.GATEncoder(nout = 64, nhid=32, attention_heads = 2, n_in = 4, n_layers=4, dropout=0.2), models.ClassificationHead(n_latent=64, nhid = 32, nout = 2), 'mean'],\n",
    "        'Sniffing_other': [models.GATEncoder(nout = 64, nhid=32, attention_heads = 2, n_in = 4, n_layers=4, dropout=0.2), models.ClassificationHead(n_latent=64, nhid = 32, nout = 2), 'mean'],\n",
    "        'Sniffing_anal': [models.GATEncoder(nout = 64, nhid=32, attention_heads = 2, n_in = 4, n_layers=4, dropout=0.2), models.ClassificationHead(n_latent=64, nhid = 32, nout = 2), 'mean'],\n",
    "        'Poursuit': [models.GATEncoder(nout = 64, nhid=32, attention_heads = 2, n_in = 4, n_layers=4, dropout=0.2), models.ClassificationHead(n_latent=64, nhid = 32, nout = 2), 'mean'],\n",
    "        'Dominance': [models.GATEncoder(nout = 64, nhid=32, attention_heads = 2, n_in = 4, n_layers=4, dropout=0.2), models.ClassificationHead(n_latent=64, nhid = 32, nout = 2), 'mean'],\n",
    "        'Rearing': [models.GATEncoder(nout = 64, nhid=32, attention_heads = 2, n_in = 4, n_layers=4, dropout=0.2), models.ClassificationHead(n_latent=64, nhid = 32, nout = 2), 'mean'],\n",
    "        'Grooming': [models.GATEncoder(nout = 64, nhid=32, attention_heads = 2, n_in = 4, n_layers=4, dropout=0.2), models.ClassificationHead(n_latent=64, nhid = 32, nout = 2), 'mean']\n",
    "        }\n",
    "\n",
    "\n",
    "### Function that returns the model based on the behavior\n",
    "def get_model(behavior) -> nn.Module:\n",
    "    ''' Returns the model based on the behavior.\n",
    "        Possible behaviors: 'General_Contact', 'Sniffing', 'Sniffing_head', 'Sniffing_other', 'Sniffing_anal', 'Poursuit', 'Dominance', 'Rearing', 'Grooming'\n",
    "    Parameters:\n",
    "        - behavior: str, the behavior of the model\n",
    "    Returns:\n",
    "        - model: nn.Module, the model\n",
    "    '''\n",
    "    gatencoder = MODELS[behavior][0]\n",
    "    classifier = MODELS[behavior][1]\n",
    "    readout = MODELS[behavior][2]\n",
    "\n",
    "    return models.GraphClassifier(encoder=gatencoder, classifier=classifier, readout=readout)"
   ]
  },
  {
   "cell_type": "code",
   "execution_count": 59,
   "metadata": {},
   "outputs": [
    {
     "data": {
      "text/plain": [
       "<module 'models' from 'c:\\\\Users\\\\jalvarez\\\\Documents\\\\Code\\\\GitHubCOde\\\\Behavioral_Tagging_of_Mice_in_multiple_Mice_dataset_using_Deep_Learning\\\\src\\\\models.py'>"
      ]
     },
     "execution_count": 59,
     "metadata": {},
     "output_type": "execute_result"
    }
   ],
   "source": [
    "importlib.reload(models)"
   ]
  },
  {
   "cell_type": "code",
   "execution_count": 60,
   "metadata": {},
   "outputs": [],
   "source": [
    "def load_model(model_path, device, behaviour = 'General_Contact'):\n",
    "    ''' This function loads a model from a given path and returns it.\n",
    "    Args:\n",
    "        model_path: path to the model\n",
    "        device: device on which the model should be loaded\n",
    "        behaviour: behaviour of the model\n",
    "    Returns:\n",
    "        model: the loaded model\n",
    "    '''\n",
    "    model = get_model(behaviour) # get the model\n",
    "    checkpoint = torch.load(model_path, map_location=device) # load the model\n",
    "    model.load_state_dict(checkpoint['model_state_dict'])\n",
    "    model.to(device) # send the model to the device\n",
    "    model.eval() # set the model to evaluation mode\n",
    "    return model"
   ]
  },
  {
   "cell_type": "code",
   "execution_count": 80,
   "metadata": {},
   "outputs": [],
   "source": [
    "model_path = r'd:\\Backup_mantenimiento_ruche\\Data\\Checkpoints\\new_encoder_no_linearResCon\\General_Contacts\\checkpoint_epoch_310.pth'\n",
    "\n",
    "device = torch.device('cuda' if torch.cuda.is_available() else 'cpu')"
   ]
  },
  {
   "cell_type": "code",
   "execution_count": 81,
   "metadata": {},
   "outputs": [],
   "source": [
    "model = load_model(model_path, device)"
   ]
  },
  {
   "cell_type": "code",
   "execution_count": 82,
   "metadata": {},
   "outputs": [],
   "source": [
    "# Load the data\n",
    "data_path = r'c:\\Users\\jalvarez\\Documents\\Data\\DataLoadaerTESTTSTST\\dataset_test.pkl'"
   ]
  },
  {
   "cell_type": "code",
   "execution_count": 86,
   "metadata": {},
   "outputs": [],
   "source": [
    "# Analyze the data\n",
    "data = torch.load(data_path)"
   ]
  },
  {
   "cell_type": "code",
   "execution_count": 87,
   "metadata": {},
   "outputs": [],
   "source": [
    "# Get the behaviour\n",
    "test_loader = DataLoader(data, batch_size=1, shuffle=False)"
   ]
  },
  {
   "cell_type": "code",
   "execution_count": 85,
   "metadata": {},
   "outputs": [
    {
     "data": {
      "text/plain": [
       "2"
      ]
     },
     "execution_count": 85,
     "metadata": {},
     "output_type": "execute_result"
    }
   ],
   "source": [
    "a = next(iter(test_loader))\n",
    "a.frame_mask.median().item()"
   ]
  },
  {
   "cell_type": "code",
   "execution_count": 88,
   "metadata": {},
   "outputs": [
    {
     "name": "stderr",
     "output_type": "stream",
     "text": [
      "100%|██████████| 2627/2627 [00:29<00:00, 89.35it/s] \n"
     ]
    }
   ],
   "source": [
    "output = np.zeros((len(test_loader),2))\n",
    "softmax = torch.nn.Softmax(dim=1)\n",
    "for i, data in enumerate(tqdm.tqdm(test_loader)):\n",
    "    data = data.to(device)\n",
    "    output[i][0] = int(data.frame_mask.median().item())\n",
    "    with torch.no_grad():\n",
    "        out = model(data)\n",
    "        out = softmax(out)\n",
    "        output[i][1] = out.argmax().item()\n",
    "\n",
    "    "
   ]
  },
  {
   "cell_type": "code",
   "execution_count": 89,
   "metadata": {},
   "outputs": [],
   "source": [
    "def create_csv_with_output_behaviour(output, behaviour, path):\n",
    "    ''' This function creates a csv file with the output of the model for each frame.\n",
    "    Args:\n",
    "        output: the output of the model\n",
    "        behaviour: the behaviour analyzed\n",
    "        path: the path where the csv file should be saved\n",
    "    '''\n",
    "    df = pd.DataFrame(output, columns = ['frame', behaviour])\n",
    "    df.to_csv(path, index = False)"
   ]
  },
  {
   "cell_type": "code",
   "execution_count": 90,
   "metadata": {},
   "outputs": [],
   "source": [
    "path_to_save = r'c:\\Users\\jalvarez\\Documents\\Data\\DataLoadaerTESTTSTST\\output.csv'\n",
    "create_csv_with_output_behaviour(output, 'General_Contact', path_to_save)"
   ]
  },
  {
   "cell_type": "code",
   "execution_count": 92,
   "metadata": {},
   "outputs": [
    {
     "data": {
      "text/plain": [
       "0.677198325085649"
      ]
     },
     "execution_count": 92,
     "metadata": {},
     "output_type": "execute_result"
    }
   ],
   "source": [
    "# ground truth file\n",
    "path_to_ground_truth = r'c:\\Users\\jalvarez\\Documents\\Data\\DataLoadaerTESTTSTST\\GT\\DMD_fem_Test_1.csv'\n",
    "ground_truth = pd.read_csv(path_to_ground_truth)\n",
    "\n",
    "# Get accuracy\n",
    "def get_accuracy(ground_truth, output):\n",
    "    ''' This function returns the accuracy of the model.\n",
    "    Args:\n",
    "        ground_truth: the ground truth\n",
    "        output: the output of the model\n",
    "    Returns:\n",
    "        accuracy: the accuracy of the model\n",
    "    '''\n",
    "    accuracy = (ground_truth.iloc[output[:,0].astype(int)]['General_Contacts'] == output[:,1]).sum()/len(output)\n",
    "    return accuracy\n",
    "\n",
    "get_accuracy(ground_truth, output)"
   ]
  },
  {
   "cell_type": "code",
   "execution_count": 2,
   "metadata": {},
   "outputs": [],
   "source": [
    "# Load the model\n",
    "def load_checkpoint(model, optimizer, path, device):\n",
    "    checkpoint = torch.load(path, map_location=device)\n",
    "    model.load_state_dict(checkpoint['model_state_dict'])\n",
    "    optimizer.load_state_dict(checkpoint['optimizer_state_dict'])\n",
    "    epoch = checkpoint['epoch']\n",
    "    loss = checkpoint['loss']\n",
    "    print(f\"Checkpoint loaded from {path}, at epoch {epoch}\")\n",
    "    return model, optimizer, epoch"
   ]
  },
  {
   "cell_type": "code",
   "execution_count": 3,
   "metadata": {},
   "outputs": [
    {
     "name": "stdout",
     "output_type": "stream",
     "text": [
      "cpu\n"
     ]
    }
   ],
   "source": [
    "device = torch.device('cuda' if torch.cuda.is_available() else 'cpu')\n",
    "print(device)\n",
    "\n",
    "# Load the data\n",
    "dataset = torch.load(r'c:\\Users\\jalvarez\\Documents\\Data\\LargeDataset\\entire_dataset.pkl', map_location=device)\n",
    "\n"
   ]
  },
  {
   "cell_type": "code",
   "execution_count": null,
   "metadata": {},
   "outputs": [],
   "source": []
  }
 ],
 "metadata": {
  "kernelspec": {
   "display_name": "projenv",
   "language": "python",
   "name": "python3"
  },
  "language_info": {
   "codemirror_mode": {
    "name": "ipython",
    "version": 3
   },
   "file_extension": ".py",
   "mimetype": "text/x-python",
   "name": "python",
   "nbconvert_exporter": "python",
   "pygments_lexer": "ipython3",
   "version": "3.12.3"
  }
 },
 "nbformat": 4,
 "nbformat_minor": 2
}
