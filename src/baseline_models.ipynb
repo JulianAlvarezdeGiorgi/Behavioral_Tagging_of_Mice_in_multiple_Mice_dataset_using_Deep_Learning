{
 "cells": [
  {
   "cell_type": "markdown",
   "metadata": {},
   "source": [
    "## Baseline models"
   ]
  },
  {
   "cell_type": "code",
   "execution_count": 30,
   "metadata": {},
   "outputs": [],
   "source": [
    "import dataloader\n",
    "import DataDLC\n",
    "import pandas as pd\n",
    "import numpy as np\n",
    "from matplotlib import pyplot as plt\n",
    "import importlib\n",
    "import tqdm\n",
    "from sklearn.model_selection import train_test_split\n",
    "from sklearn.preprocessing import MinMaxScaler\n",
    "\n",
    "from sklearn.neural_network import MLPClassifier\n",
    "from sklearn.metrics import accuracy_score\n",
    "\n",
    "import joblib\n",
    "from sklearn.metrics import confusion_matrix\n",
    "import seaborn as sns\n",
    "import cv2"
   ]
  },
  {
   "cell_type": "code",
   "execution_count": 31,
   "metadata": {},
   "outputs": [
    {
     "data": {
      "text/plain": [
       "<module 'DataDLC' from 'c:\\\\Users\\\\jalvarez\\\\Documents\\\\Code\\\\GitHubCOde\\\\Behavioral_Tagging_of_Mice_in_multiple_Mice_dataset_using_Deep_Learning\\\\src\\\\DataDLC.py'>"
      ]
     },
     "execution_count": 31,
     "metadata": {},
     "output_type": "execute_result"
    }
   ],
   "source": [
    "importlib.reload(dataloader)\n",
    "importlib.reload(DataDLC)"
   ]
  },
  {
   "cell_type": "markdown",
   "metadata": {},
   "source": [
    "**Load DMD_null male dataset**"
   ]
  },
  {
   "cell_type": "code",
   "execution_count": 32,
   "metadata": {},
   "outputs": [
    {
     "name": "stdout",
     "output_type": "stream",
     "text": [
      "['DMD_fem_Test_10DLC_dlcrnetms5_More_BodyPartsJul9shuffle1_740000_el_filtered.h5', 'DMD_fem_Test_11DLC_dlcrnetms5_More_BodyPartsJul9shuffle1_740000_el_filtered.h5', 'DMD_fem_Test_12DLC_dlcrnetms5_More_BodyPartsJul9shuffle1_740000_el_filtered.h5', 'DMD_fem_Test_13DLC_dlcrnetms5_More_BodyPartsJul9shuffle1_740000_el_filtered.h5', 'DMD_fem_Test_14DLC_dlcrnetms5_More_BodyPartsJul9shuffle1_740000_el_filtered.h5', 'DMD_fem_Test_15DLC_dlcrnetms5_More_BodyPartsJul9shuffle1_740000_el_filtered.h5', 'DMD_fem_Test_16DLC_dlcrnetms5_More_BodyPartsJul9shuffle1_740000_el_filtered.h5', 'DMD_fem_Test_17DLC_dlcrnetms5_More_BodyPartsJul9shuffle1_740000_el_filtered.h5', 'DMD_fem_Test_18DLC_dlcrnetms5_More_BodyPartsJul9shuffle1_740000_el_filtered.h5', 'DMD_fem_Test_19DLC_dlcrnetms5_More_BodyPartsJul9shuffle1_740000_el_filtered.h5', 'DMD_fem_Test_1DLC_dlcrnetms5_More_BodyPartsJul9shuffle1_740000_el_filtered.h5', 'DMD_fem_Test_20DLC_dlcrnetms5_More_BodyPartsJul9shuffle1_740000_el_filtered.h5', 'DMD_fem_Test_21DLC_dlcrnetms5_More_BodyPartsJul9shuffle1_740000_el_filtered.h5', 'DMD_fem_Test_22DLC_dlcrnetms5_More_BodyPartsJul9shuffle1_740000_el_filtered.h5', 'DMD_fem_Test_23DLC_dlcrnetms5_More_BodyPartsJul9shuffle1_740000_el_filtered.h5', 'DMD_fem_Test_24DLC_dlcrnetms5_More_BodyPartsJul9shuffle1_740000_el_filtered.h5', 'DMD_fem_Test_25DLC_dlcrnetms5_More_BodyPartsJul9shuffle1_740000_el_filtered.h5', 'DMD_fem_Test_26DLC_dlcrnetms5_More_BodyPartsJul9shuffle1_740000_el_filtered.h5', 'DMD_fem_Test_27DLC_dlcrnetms5_More_BodyPartsJul9shuffle1_740000_el_filtered.h5', 'DMD_fem_Test_28DLC_dlcrnetms5_More_BodyPartsJul9shuffle1_740000_el_filtered.h5', 'DMD_fem_Test_29DLC_dlcrnetms5_More_BodyPartsJul9shuffle1_740000_el_filtered.h5', 'DMD_fem_Test_2DLC_dlcrnetms5_More_BodyPartsJul9shuffle1_740000_el_filtered.h5', 'DMD_fem_Test_30DLC_dlcrnetms5_More_BodyPartsJul9shuffle1_740000_el_filtered.h5', 'DMD_fem_Test_31DLC_dlcrnetms5_More_BodyPartsJul9shuffle1_740000_el_filtered.h5', 'DMD_fem_Test_32DLC_dlcrnetms5_More_BodyPartsJul9shuffle1_740000_el_filtered.h5', 'DMD_fem_Test_3DLC_dlcrnetms5_More_BodyPartsJul9shuffle1_740000_el_filtered.h5', 'DMD_fem_Test_4DLC_dlcrnetms5_More_BodyPartsJul9shuffle1_740000_el_filtered.h5', 'DMD_fem_Test_5DLC_dlcrnetms5_More_BodyPartsJul9shuffle1_740000_el_filtered.h5', 'DMD_fem_Test_6DLC_dlcrnetms5_More_BodyPartsJul9shuffle1_740000_el_filtered.h5', 'DMD_fem_Test_7DLC_dlcrnetms5_More_BodyPartsJul9shuffle1_740000_el_filtered.h5', 'DMD_fem_Test_8DLC_dlcrnetms5_More_BodyPartsJul9shuffle1_740000_el_filtered.h5', 'DMD_fem_Test_9DLC_dlcrnetms5_More_BodyPartsJul9shuffle1_740000_el_filtered.h5', 'DMD_mal_Test_10DLC_dlcrnetms5_More_BodyPartsJul9shuffle1_740000_el_filtered.h5', 'DMD_mal_Test_11DLC_dlcrnetms5_More_BodyPartsJul9shuffle1_740000_el_filtered.h5', 'DMD_mal_Test_12DLC_dlcrnetms5_More_BodyPartsJul9shuffle1_740000_el_filtered.h5', 'DMD_mal_Test_13DLC_dlcrnetms5_More_BodyPartsJul9shuffle1_740000_el_filtered.h5', 'DMD_mal_Test_14DLC_dlcrnetms5_More_BodyPartsJul9shuffle1_740000_el_filtered.h5', 'DMD_mal_Test_15DLC_dlcrnetms5_More_BodyPartsJul9shuffle1_740000_el_filtered.h5', 'DMD_mal_Test_16DLC_dlcrnetms5_More_BodyPartsJul9shuffle1_740000_el_filtered.h5', 'DMD_mal_Test_17DLC_dlcrnetms5_More_BodyPartsJul9shuffle1_740000_el_filtered.h5', 'DMD_mal_Test_18DLC_dlcrnetms5_More_BodyPartsJul9shuffle1_740000_el_filtered.h5', 'DMD_mal_Test_19DLC_dlcrnetms5_More_BodyPartsJul9shuffle1_740000_el_filtered.h5', 'DMD_mal_Test_1DLC_dlcrnetms5_More_BodyPartsJul9shuffle1_740000_el_filtered.h5', 'DMD_mal_Test_20DLC_dlcrnetms5_More_BodyPartsJul9shuffle1_740000_el_filtered.h5', 'DMD_mal_Test_21DLC_dlcrnetms5_More_BodyPartsJul9shuffle1_740000_el_filtered.h5', 'DMD_mal_Test_22DLC_dlcrnetms5_More_BodyPartsJul9shuffle1_740000_el_filtered.h5', 'DMD_mal_Test_23DLC_dlcrnetms5_More_BodyPartsJul9shuffle1_740000_el_filtered.h5', 'DMD_mal_Test_24DLC_dlcrnetms5_More_BodyPartsJul9shuffle1_740000_el_filtered.h5', 'DMD_mal_Test_25DLC_dlcrnetms5_More_BodyPartsJul9shuffle1_740000_el_filtered.h5', 'DMD_mal_Test_26DLC_dlcrnetms5_More_BodyPartsJul9shuffle1_740000_el_filtered.h5', 'DMD_mal_Test_27DLC_dlcrnetms5_More_BodyPartsJul9shuffle1_740000_el_filtered.h5', 'DMD_mal_Test_28DLC_dlcrnetms5_More_BodyPartsJul9shuffle1_740000_el_filtered.h5', 'DMD_mal_Test_29DLC_dlcrnetms5_More_BodyPartsJul9shuffle1_740000_el_filtered.h5', 'DMD_mal_Test_2DLC_dlcrnetms5_More_BodyPartsJul9shuffle1_740000_el_filtered.h5', 'DMD_mal_Test_30DLC_dlcrnetms5_More_BodyPartsJul9shuffle1_740000_el_filtered.h5', 'DMD_mal_Test_31DLC_dlcrnetms5_More_BodyPartsJul9shuffle1_740000_el_filtered.h5', 'DMD_mal_Test_32DLC_dlcrnetms5_More_BodyPartsJul9shuffle1_740000_el_filtered.h5', 'DMD_mal_Test_3DLC_dlcrnetms5_More_BodyPartsJul9shuffle1_740000_el_filtered.h5', 'DMD_mal_Test_4DLC_dlcrnetms5_More_BodyPartsJul9shuffle1_740000_el_filtered.h5', 'DMD_mal_Test_5DLC_dlcrnetms5_More_BodyPartsJul9shuffle1_740000_el_filtered.h5', 'DMD_mal_Test_6DLC_dlcrnetms5_More_BodyPartsJul9shuffle1_740000_el_filtered.h5', 'DMD_mal_Test_7DLC_dlcrnetms5_More_BodyPartsJul9shuffle1_740000_el_filtered.h5', 'DMD_mal_Test_8DLC_dlcrnetms5_More_BodyPartsJul9shuffle1_740000_el_filtered.h5', 'DMD_mal_Test_9DLC_dlcrnetms5_More_BodyPartsJul9shuffle1_740000_el_filtered.h5', 'MDXCV_fem_Test_10DLC_dlcrnetms5_More_BodyPartsJul9shuffle1_740000_el_filtered.h5', 'MDXCV_fem_Test_11DLC_dlcrnetms5_More_BodyPartsJul9shuffle1_740000_el_filtered.h5', 'MDXCV_fem_Test_12DLC_dlcrnetms5_More_BodyPartsJul9shuffle1_740000_el_filtered.h5', 'MDXCV_fem_Test_13DLC_dlcrnetms5_More_BodyPartsJul9shuffle1_740000_el_filtered.h5', 'MDXCV_fem_Test_14DLC_dlcrnetms5_More_BodyPartsJul9shuffle1_740000_el_filtered.h5', 'MDXCV_fem_Test_15DLC_dlcrnetms5_More_BodyPartsJul9shuffle1_740000_el_filtered.h5', 'MDXCV_fem_Test_16DLC_dlcrnetms5_More_BodyPartsJul9shuffle1_740000_el_filtered.h5', 'MDXCV_fem_Test_17DLC_dlcrnetms5_More_BodyPartsJul9shuffle1_740000_el_filtered.h5', 'MDXCV_fem_Test_18DLC_dlcrnetms5_More_BodyPartsJul9shuffle1_740000_el_filtered.h5', 'MDXCV_fem_Test_19DLC_dlcrnetms5_More_BodyPartsJul9shuffle1_740000_el_filtered.h5', 'MDXCV_fem_Test_1DLC_dlcrnetms5_More_BodyPartsJul9shuffle1_740000_el_filtered.h5', 'MDXCV_fem_Test_20DLC_dlcrnetms5_More_BodyPartsJul9shuffle1_740000_el_filtered.h5', 'MDXCV_fem_Test_21DLC_dlcrnetms5_More_BodyPartsJul9shuffle1_740000_el_filtered.h5', 'MDXCV_fem_Test_22DLC_dlcrnetms5_More_BodyPartsJul9shuffle1_740000_el_filtered.h5', 'MDXCV_fem_Test_23DLC_dlcrnetms5_More_BodyPartsJul9shuffle1_740000_el_filtered.h5', 'MDXCV_fem_Test_24DLC_dlcrnetms5_More_BodyPartsJul9shuffle1_740000_el_filtered.h5', 'MDXCV_fem_Test_25DLC_dlcrnetms5_More_BodyPartsJul9shuffle1_740000_el_filtered.h5', 'MDXCV_fem_Test_26DLC_dlcrnetms5_More_BodyPartsJul9shuffle1_740000_el_filtered.h5', 'MDXCV_fem_Test_27DLC_dlcrnetms5_More_BodyPartsJul9shuffle1_740000_el_filtered.h5', 'MDXCV_fem_Test_2DLC_dlcrnetms5_More_BodyPartsJul9shuffle1_740000_el_filtered.h5', 'MDXCV_fem_Test_3DLC_dlcrnetms5_More_BodyPartsJul9shuffle1_740000_el_filtered.h5', 'MDXCV_fem_Test_4DLC_dlcrnetms5_More_BodyPartsJul9shuffle1_740000_el_filtered.h5', 'MDXCV_fem_Test_5DLC_dlcrnetms5_More_BodyPartsJul9shuffle1_740000_el_filtered.h5', 'MDXCV_fem_Test_6DLC_dlcrnetms5_More_BodyPartsJul9shuffle1_740000_el_filtered.h5', 'MDXCV_fem_Test_7DLC_dlcrnetms5_More_BodyPartsJul9shuffle1_740000_el_filtered.h5', 'MDXCV_fem_Test_8DLC_dlcrnetms5_More_BodyPartsJul9shuffle1_740000_el_filtered.h5', 'MDXCV_fem_Test_9DLC_dlcrnetms5_More_BodyPartsJul9shuffle1_740000_el_filtered.h5', 'MDXCV_mal_Test_10DLC_dlcrnetms5_More_BodyPartsJul9shuffle1_740000_el_filtered.h5', 'MDXCV_mal_Test_11DLC_dlcrnetms5_More_BodyPartsJul9shuffle1_740000_el_filtered.h5', 'MDXCV_mal_Test_12DLC_dlcrnetms5_More_BodyPartsJul9shuffle1_740000_el_filtered.h5', 'MDXCV_mal_Test_13DLC_dlcrnetms5_More_BodyPartsJul9shuffle1_740000_el_filtered.h5', 'MDXCV_mal_Test_14DLC_dlcrnetms5_More_BodyPartsJul9shuffle1_740000_el_filtered.h5', 'MDXCV_mal_Test_15DLC_dlcrnetms5_More_BodyPartsJul9shuffle1_740000_el_filtered.h5', 'MDXCV_mal_Test_16DLC_dlcrnetms5_More_BodyPartsJul9shuffle1_740000_el_filtered.h5', 'MDXCV_mal_Test_17DLC_dlcrnetms5_More_BodyPartsJul9shuffle1_740000_el_filtered.h5', 'MDXCV_mal_Test_18DLC_dlcrnetms5_More_BodyPartsJul9shuffle1_740000_el_filtered.h5', 'MDXCV_mal_Test_19DLC_dlcrnetms5_More_BodyPartsJul9shuffle1_740000_el_filtered.h5', 'MDXCV_mal_Test_1DLC_dlcrnetms5_More_BodyPartsJul9shuffle1_740000_el_filtered.h5', 'MDXCV_mal_Test_20DLC_dlcrnetms5_More_BodyPartsJul9shuffle1_740000_el_filtered.h5', 'MDXCV_mal_Test_21DLC_dlcrnetms5_More_BodyPartsJul9shuffle1_740000_el_filtered.h5', 'MDXCV_mal_Test_22DLC_dlcrnetms5_More_BodyPartsJul9shuffle1_740000_el_filtered.h5', 'MDXCV_mal_Test_23DLC_dlcrnetms5_More_BodyPartsJul9shuffle1_740000_el_filtered.h5', 'MDXCV_mal_Test_24DLC_dlcrnetms5_More_BodyPartsJul9shuffle1_740000_el_filtered.h5', 'MDXCV_mal_Test_25DLC_dlcrnetms5_More_BodyPartsJul9shuffle1_740000_el_filtered.h5', 'MDXCV_mal_Test_26DLC_dlcrnetms5_More_BodyPartsJul9shuffle1_740000_el_filtered.h5', 'MDXCV_mal_Test_27DLC_dlcrnetms5_More_BodyPartsJul9shuffle1_740000_el_filtered.h5', 'MDXCV_mal_Test_2DLC_dlcrnetms5_More_BodyPartsJul9shuffle1_740000_el_filtered.h5', 'MDXCV_mal_Test_3DLC_dlcrnetms5_More_BodyPartsJul9shuffle1_740000_el_filtered.h5', 'MDXCV_mal_Test_4DLC_dlcrnetms5_More_BodyPartsJul9shuffle1_740000_el_filtered.h5', 'MDXCV_mal_Test_5DLC_dlcrnetms5_More_BodyPartsJul9shuffle1_740000_el_filtered.h5', 'MDXCV_mal_Test_6DLC_dlcrnetms5_More_BodyPartsJul9shuffle1_740000_el_filtered.h5', 'MDXCV_mal_Test_7DLC_dlcrnetms5_More_BodyPartsJul9shuffle1_740000_el_filtered.h5', 'MDXCV_mal_Test_8DLC_dlcrnetms5_More_BodyPartsJul9shuffle1_740000_el_filtered.h5', 'MDXCV_mal_Test_9DLC_dlcrnetms5_More_BodyPartsJul9shuffle1_740000_el_filtered.h5']\n",
      "Loading data from c:\\Users\\jalvarez\\Documents\\Data\\LargeDataset, where we have 118 files\n",
      "We have 118 files\n",
      "Loading file DMD_fem_Test_10DLC_dlcrnetms5_More_BodyPartsJul9shuffle1_740000_el_filtered.h5\n",
      "Loading file DMD_fem_Test_11DLC_dlcrnetms5_More_BodyPartsJul9shuffle1_740000_el_filtered.h5\n",
      "Loading file DMD_fem_Test_12DLC_dlcrnetms5_More_BodyPartsJul9shuffle1_740000_el_filtered.h5\n",
      "Loading file DMD_fem_Test_13DLC_dlcrnetms5_More_BodyPartsJul9shuffle1_740000_el_filtered.h5\n",
      "Loading file DMD_fem_Test_14DLC_dlcrnetms5_More_BodyPartsJul9shuffle1_740000_el_filtered.h5\n",
      "Loading file DMD_fem_Test_15DLC_dlcrnetms5_More_BodyPartsJul9shuffle1_740000_el_filtered.h5\n",
      "Loading file DMD_fem_Test_16DLC_dlcrnetms5_More_BodyPartsJul9shuffle1_740000_el_filtered.h5\n",
      "Loading file DMD_fem_Test_17DLC_dlcrnetms5_More_BodyPartsJul9shuffle1_740000_el_filtered.h5\n",
      "Loading file DMD_fem_Test_18DLC_dlcrnetms5_More_BodyPartsJul9shuffle1_740000_el_filtered.h5\n",
      "Loading file DMD_fem_Test_19DLC_dlcrnetms5_More_BodyPartsJul9shuffle1_740000_el_filtered.h5\n",
      "Loading file DMD_fem_Test_1DLC_dlcrnetms5_More_BodyPartsJul9shuffle1_740000_el_filtered.h5\n",
      "Loading file DMD_fem_Test_20DLC_dlcrnetms5_More_BodyPartsJul9shuffle1_740000_el_filtered.h5\n",
      "Loading file DMD_fem_Test_21DLC_dlcrnetms5_More_BodyPartsJul9shuffle1_740000_el_filtered.h5\n",
      "Loading file DMD_fem_Test_22DLC_dlcrnetms5_More_BodyPartsJul9shuffle1_740000_el_filtered.h5\n",
      "Loading file DMD_fem_Test_23DLC_dlcrnetms5_More_BodyPartsJul9shuffle1_740000_el_filtered.h5\n",
      "Loading file DMD_fem_Test_24DLC_dlcrnetms5_More_BodyPartsJul9shuffle1_740000_el_filtered.h5\n",
      "Loading file DMD_fem_Test_25DLC_dlcrnetms5_More_BodyPartsJul9shuffle1_740000_el_filtered.h5\n",
      "Loading file DMD_fem_Test_26DLC_dlcrnetms5_More_BodyPartsJul9shuffle1_740000_el_filtered.h5\n",
      "Loading file DMD_fem_Test_27DLC_dlcrnetms5_More_BodyPartsJul9shuffle1_740000_el_filtered.h5\n",
      "Loading file DMD_fem_Test_28DLC_dlcrnetms5_More_BodyPartsJul9shuffle1_740000_el_filtered.h5\n",
      "Loading file DMD_fem_Test_29DLC_dlcrnetms5_More_BodyPartsJul9shuffle1_740000_el_filtered.h5\n",
      "Loading file DMD_fem_Test_2DLC_dlcrnetms5_More_BodyPartsJul9shuffle1_740000_el_filtered.h5\n",
      "Loading file DMD_fem_Test_30DLC_dlcrnetms5_More_BodyPartsJul9shuffle1_740000_el_filtered.h5\n",
      "Loading file DMD_fem_Test_31DLC_dlcrnetms5_More_BodyPartsJul9shuffle1_740000_el_filtered.h5\n",
      "Loading file DMD_fem_Test_32DLC_dlcrnetms5_More_BodyPartsJul9shuffle1_740000_el_filtered.h5\n",
      "Loading file DMD_fem_Test_3DLC_dlcrnetms5_More_BodyPartsJul9shuffle1_740000_el_filtered.h5\n",
      "Loading file DMD_fem_Test_4DLC_dlcrnetms5_More_BodyPartsJul9shuffle1_740000_el_filtered.h5\n",
      "Loading file DMD_fem_Test_5DLC_dlcrnetms5_More_BodyPartsJul9shuffle1_740000_el_filtered.h5\n",
      "Loading file DMD_fem_Test_6DLC_dlcrnetms5_More_BodyPartsJul9shuffle1_740000_el_filtered.h5\n",
      "Loading file DMD_fem_Test_7DLC_dlcrnetms5_More_BodyPartsJul9shuffle1_740000_el_filtered.h5\n",
      "Loading file DMD_fem_Test_8DLC_dlcrnetms5_More_BodyPartsJul9shuffle1_740000_el_filtered.h5\n",
      "Loading file DMD_fem_Test_9DLC_dlcrnetms5_More_BodyPartsJul9shuffle1_740000_el_filtered.h5\n",
      "Loading file DMD_mal_Test_10DLC_dlcrnetms5_More_BodyPartsJul9shuffle1_740000_el_filtered.h5\n",
      "Loading file DMD_mal_Test_11DLC_dlcrnetms5_More_BodyPartsJul9shuffle1_740000_el_filtered.h5\n",
      "Loading file DMD_mal_Test_12DLC_dlcrnetms5_More_BodyPartsJul9shuffle1_740000_el_filtered.h5\n",
      "Loading file DMD_mal_Test_13DLC_dlcrnetms5_More_BodyPartsJul9shuffle1_740000_el_filtered.h5\n",
      "Loading file DMD_mal_Test_14DLC_dlcrnetms5_More_BodyPartsJul9shuffle1_740000_el_filtered.h5\n",
      "Loading file DMD_mal_Test_15DLC_dlcrnetms5_More_BodyPartsJul9shuffle1_740000_el_filtered.h5\n",
      "Loading file DMD_mal_Test_16DLC_dlcrnetms5_More_BodyPartsJul9shuffle1_740000_el_filtered.h5\n",
      "Loading file DMD_mal_Test_17DLC_dlcrnetms5_More_BodyPartsJul9shuffle1_740000_el_filtered.h5\n",
      "Loading file DMD_mal_Test_18DLC_dlcrnetms5_More_BodyPartsJul9shuffle1_740000_el_filtered.h5\n",
      "Loading file DMD_mal_Test_19DLC_dlcrnetms5_More_BodyPartsJul9shuffle1_740000_el_filtered.h5\n",
      "Loading file DMD_mal_Test_1DLC_dlcrnetms5_More_BodyPartsJul9shuffle1_740000_el_filtered.h5\n",
      "Loading file DMD_mal_Test_20DLC_dlcrnetms5_More_BodyPartsJul9shuffle1_740000_el_filtered.h5\n",
      "Loading file DMD_mal_Test_21DLC_dlcrnetms5_More_BodyPartsJul9shuffle1_740000_el_filtered.h5\n",
      "Loading file DMD_mal_Test_22DLC_dlcrnetms5_More_BodyPartsJul9shuffle1_740000_el_filtered.h5\n",
      "Loading file DMD_mal_Test_23DLC_dlcrnetms5_More_BodyPartsJul9shuffle1_740000_el_filtered.h5\n",
      "Loading file DMD_mal_Test_24DLC_dlcrnetms5_More_BodyPartsJul9shuffle1_740000_el_filtered.h5\n",
      "Loading file DMD_mal_Test_25DLC_dlcrnetms5_More_BodyPartsJul9shuffle1_740000_el_filtered.h5\n",
      "Loading file DMD_mal_Test_26DLC_dlcrnetms5_More_BodyPartsJul9shuffle1_740000_el_filtered.h5\n",
      "Loading file DMD_mal_Test_27DLC_dlcrnetms5_More_BodyPartsJul9shuffle1_740000_el_filtered.h5\n",
      "Loading file DMD_mal_Test_28DLC_dlcrnetms5_More_BodyPartsJul9shuffle1_740000_el_filtered.h5\n",
      "Loading file DMD_mal_Test_29DLC_dlcrnetms5_More_BodyPartsJul9shuffle1_740000_el_filtered.h5\n",
      "Loading file DMD_mal_Test_2DLC_dlcrnetms5_More_BodyPartsJul9shuffle1_740000_el_filtered.h5\n",
      "Loading file DMD_mal_Test_30DLC_dlcrnetms5_More_BodyPartsJul9shuffle1_740000_el_filtered.h5\n",
      "Loading file DMD_mal_Test_31DLC_dlcrnetms5_More_BodyPartsJul9shuffle1_740000_el_filtered.h5\n",
      "Loading file DMD_mal_Test_32DLC_dlcrnetms5_More_BodyPartsJul9shuffle1_740000_el_filtered.h5\n",
      "Loading file DMD_mal_Test_3DLC_dlcrnetms5_More_BodyPartsJul9shuffle1_740000_el_filtered.h5\n",
      "Loading file DMD_mal_Test_4DLC_dlcrnetms5_More_BodyPartsJul9shuffle1_740000_el_filtered.h5\n",
      "Loading file DMD_mal_Test_5DLC_dlcrnetms5_More_BodyPartsJul9shuffle1_740000_el_filtered.h5\n",
      "Loading file DMD_mal_Test_6DLC_dlcrnetms5_More_BodyPartsJul9shuffle1_740000_el_filtered.h5\n",
      "Loading file DMD_mal_Test_7DLC_dlcrnetms5_More_BodyPartsJul9shuffle1_740000_el_filtered.h5\n",
      "Loading file DMD_mal_Test_8DLC_dlcrnetms5_More_BodyPartsJul9shuffle1_740000_el_filtered.h5\n",
      "Loading file DMD_mal_Test_9DLC_dlcrnetms5_More_BodyPartsJul9shuffle1_740000_el_filtered.h5\n",
      "Loading file MDXCV_fem_Test_10DLC_dlcrnetms5_More_BodyPartsJul9shuffle1_740000_el_filtered.h5\n",
      "Loading file MDXCV_fem_Test_11DLC_dlcrnetms5_More_BodyPartsJul9shuffle1_740000_el_filtered.h5\n",
      "Loading file MDXCV_fem_Test_12DLC_dlcrnetms5_More_BodyPartsJul9shuffle1_740000_el_filtered.h5\n",
      "Loading file MDXCV_fem_Test_13DLC_dlcrnetms5_More_BodyPartsJul9shuffle1_740000_el_filtered.h5\n",
      "Loading file MDXCV_fem_Test_14DLC_dlcrnetms5_More_BodyPartsJul9shuffle1_740000_el_filtered.h5\n",
      "Loading file MDXCV_fem_Test_15DLC_dlcrnetms5_More_BodyPartsJul9shuffle1_740000_el_filtered.h5\n",
      "Loading file MDXCV_fem_Test_16DLC_dlcrnetms5_More_BodyPartsJul9shuffle1_740000_el_filtered.h5\n",
      "Loading file MDXCV_fem_Test_17DLC_dlcrnetms5_More_BodyPartsJul9shuffle1_740000_el_filtered.h5\n",
      "Loading file MDXCV_fem_Test_18DLC_dlcrnetms5_More_BodyPartsJul9shuffle1_740000_el_filtered.h5\n",
      "Loading file MDXCV_fem_Test_19DLC_dlcrnetms5_More_BodyPartsJul9shuffle1_740000_el_filtered.h5\n",
      "Loading file MDXCV_fem_Test_1DLC_dlcrnetms5_More_BodyPartsJul9shuffle1_740000_el_filtered.h5\n",
      "Loading file MDXCV_fem_Test_20DLC_dlcrnetms5_More_BodyPartsJul9shuffle1_740000_el_filtered.h5\n",
      "Loading file MDXCV_fem_Test_21DLC_dlcrnetms5_More_BodyPartsJul9shuffle1_740000_el_filtered.h5\n",
      "Loading file MDXCV_fem_Test_22DLC_dlcrnetms5_More_BodyPartsJul9shuffle1_740000_el_filtered.h5\n",
      "Loading file MDXCV_fem_Test_23DLC_dlcrnetms5_More_BodyPartsJul9shuffle1_740000_el_filtered.h5\n",
      "Loading file MDXCV_fem_Test_24DLC_dlcrnetms5_More_BodyPartsJul9shuffle1_740000_el_filtered.h5\n",
      "Loading file MDXCV_fem_Test_25DLC_dlcrnetms5_More_BodyPartsJul9shuffle1_740000_el_filtered.h5\n",
      "Loading file MDXCV_fem_Test_26DLC_dlcrnetms5_More_BodyPartsJul9shuffle1_740000_el_filtered.h5\n",
      "Loading file MDXCV_fem_Test_27DLC_dlcrnetms5_More_BodyPartsJul9shuffle1_740000_el_filtered.h5\n",
      "Loading file MDXCV_fem_Test_2DLC_dlcrnetms5_More_BodyPartsJul9shuffle1_740000_el_filtered.h5\n",
      "Loading file MDXCV_fem_Test_3DLC_dlcrnetms5_More_BodyPartsJul9shuffle1_740000_el_filtered.h5\n",
      "Loading file MDXCV_fem_Test_4DLC_dlcrnetms5_More_BodyPartsJul9shuffle1_740000_el_filtered.h5\n",
      "Loading file MDXCV_fem_Test_5DLC_dlcrnetms5_More_BodyPartsJul9shuffle1_740000_el_filtered.h5\n",
      "Loading file MDXCV_fem_Test_6DLC_dlcrnetms5_More_BodyPartsJul9shuffle1_740000_el_filtered.h5\n",
      "Loading file MDXCV_fem_Test_7DLC_dlcrnetms5_More_BodyPartsJul9shuffle1_740000_el_filtered.h5\n",
      "Loading file MDXCV_fem_Test_8DLC_dlcrnetms5_More_BodyPartsJul9shuffle1_740000_el_filtered.h5\n",
      "Loading file MDXCV_fem_Test_9DLC_dlcrnetms5_More_BodyPartsJul9shuffle1_740000_el_filtered.h5\n",
      "Loading file MDXCV_mal_Test_10DLC_dlcrnetms5_More_BodyPartsJul9shuffle1_740000_el_filtered.h5\n",
      "Loading file MDXCV_mal_Test_11DLC_dlcrnetms5_More_BodyPartsJul9shuffle1_740000_el_filtered.h5\n",
      "Loading file MDXCV_mal_Test_12DLC_dlcrnetms5_More_BodyPartsJul9shuffle1_740000_el_filtered.h5\n",
      "Loading file MDXCV_mal_Test_13DLC_dlcrnetms5_More_BodyPartsJul9shuffle1_740000_el_filtered.h5\n",
      "Loading file MDXCV_mal_Test_14DLC_dlcrnetms5_More_BodyPartsJul9shuffle1_740000_el_filtered.h5\n",
      "Loading file MDXCV_mal_Test_15DLC_dlcrnetms5_More_BodyPartsJul9shuffle1_740000_el_filtered.h5\n",
      "Loading file MDXCV_mal_Test_16DLC_dlcrnetms5_More_BodyPartsJul9shuffle1_740000_el_filtered.h5\n",
      "Loading file MDXCV_mal_Test_17DLC_dlcrnetms5_More_BodyPartsJul9shuffle1_740000_el_filtered.h5\n",
      "Loading file MDXCV_mal_Test_18DLC_dlcrnetms5_More_BodyPartsJul9shuffle1_740000_el_filtered.h5\n",
      "Loading file MDXCV_mal_Test_19DLC_dlcrnetms5_More_BodyPartsJul9shuffle1_740000_el_filtered.h5\n",
      "Loading file MDXCV_mal_Test_1DLC_dlcrnetms5_More_BodyPartsJul9shuffle1_740000_el_filtered.h5\n",
      "Loading file MDXCV_mal_Test_20DLC_dlcrnetms5_More_BodyPartsJul9shuffle1_740000_el_filtered.h5\n",
      "Loading file MDXCV_mal_Test_21DLC_dlcrnetms5_More_BodyPartsJul9shuffle1_740000_el_filtered.h5\n",
      "Loading file MDXCV_mal_Test_22DLC_dlcrnetms5_More_BodyPartsJul9shuffle1_740000_el_filtered.h5\n",
      "Loading file MDXCV_mal_Test_23DLC_dlcrnetms5_More_BodyPartsJul9shuffle1_740000_el_filtered.h5\n",
      "Loading file MDXCV_mal_Test_24DLC_dlcrnetms5_More_BodyPartsJul9shuffle1_740000_el_filtered.h5\n",
      "Loading file MDXCV_mal_Test_25DLC_dlcrnetms5_More_BodyPartsJul9shuffle1_740000_el_filtered.h5\n",
      "Loading file MDXCV_mal_Test_26DLC_dlcrnetms5_More_BodyPartsJul9shuffle1_740000_el_filtered.h5\n",
      "Loading file MDXCV_mal_Test_27DLC_dlcrnetms5_More_BodyPartsJul9shuffle1_740000_el_filtered.h5\n",
      "Loading file MDXCV_mal_Test_2DLC_dlcrnetms5_More_BodyPartsJul9shuffle1_740000_el_filtered.h5\n",
      "Loading file MDXCV_mal_Test_3DLC_dlcrnetms5_More_BodyPartsJul9shuffle1_740000_el_filtered.h5\n",
      "Loading file MDXCV_mal_Test_4DLC_dlcrnetms5_More_BodyPartsJul9shuffle1_740000_el_filtered.h5\n",
      "Loading file MDXCV_mal_Test_5DLC_dlcrnetms5_More_BodyPartsJul9shuffle1_740000_el_filtered.h5\n",
      "Loading file MDXCV_mal_Test_6DLC_dlcrnetms5_More_BodyPartsJul9shuffle1_740000_el_filtered.h5\n",
      "Loading file MDXCV_mal_Test_7DLC_dlcrnetms5_More_BodyPartsJul9shuffle1_740000_el_filtered.h5\n",
      "Loading file MDXCV_mal_Test_8DLC_dlcrnetms5_More_BodyPartsJul9shuffle1_740000_el_filtered.h5\n",
      "Loading file MDXCV_mal_Test_9DLC_dlcrnetms5_More_BodyPartsJul9shuffle1_740000_el_filtered.h5\n",
      "Number of files: 118\n"
     ]
    }
   ],
   "source": [
    "# Deactivate warnings\n",
    "import warnings\n",
    "warnings.filterwarnings('ignore')\n",
    "\n",
    "data_loader = dataloader.DLCDataLoader(r'c:\\Users\\jalvarez\\Documents\\Data\\LargeDataset', build_graph=False)"
   ]
  },
  {
   "cell_type": "code",
   "execution_count": 6,
   "metadata": {},
   "outputs": [
    {
     "data": {
      "text/plain": [
       "(2631, 108)"
      ]
     },
     "execution_count": 6,
     "metadata": {},
     "output_type": "execute_result"
    }
   ],
   "source": [
    "data_loader[0][0].values.shape"
   ]
  },
  {
   "cell_type": "markdown",
   "metadata": {},
   "source": [
    "#### Split the trainning and test dataset"
   ]
  },
  {
   "cell_type": "code",
   "execution_count": 7,
   "metadata": {},
   "outputs": [],
   "source": [
    "dataset = data_loader.data_list\n"
   ]
  },
  {
   "cell_type": "code",
   "execution_count": 8,
   "metadata": {},
   "outputs": [
    {
     "data": {
      "text/plain": [
       "Index(['General_Contacts', 'Sniffing_R', 'Sniffing_head_R', 'Sniffing_other_R',\n",
       "       'Sniffing_anal_R', 'Poursuit_R', 'Dominance_R', 'Rearing_R',\n",
       "       'Grooming_R', 'Sniffing_V', 'Sniffing_head_V', 'Sniffing_other_V',\n",
       "       'Sniffing_anal_V', 'Poursuit_V', 'Dominance_V', 'Rearing_V',\n",
       "       'Grooming_V'],\n",
       "      dtype='object')"
      ]
     },
     "execution_count": 8,
     "metadata": {},
     "output_type": "execute_result"
    }
   ],
   "source": [
    "# behaviour names\n",
    "beh_names = dataset[0][1].columns\n",
    "beh_names"
   ]
  },
  {
   "cell_type": "code",
   "execution_count": 9,
   "metadata": {},
   "outputs": [
    {
     "name": "stderr",
     "output_type": "stream",
     "text": [
      "100%|██████████| 118/118 [00:00<00:00, 207.51it/s]\n"
     ]
    }
   ],
   "source": [
    "\n",
    "y = []\n",
    "coords_dmd_null = []\n",
    "behaviour = []\n",
    "\n",
    "for i in tqdm.tqdm(range(len(dataset))):\n",
    "\n",
    "    ### Prepare a dataset wich is simply all the points concatenated\n",
    "    n_frames, n_features_coords = dataset[i][0].values.shape\n",
    "    n_bp_tot = n_features_coords // 3 # 3 coordinates per body part (body parts of both individuals)\n",
    "    coords = dataset[i][0].values.reshape(n_frames*n_bp_tot, 3) # Only to treat NANs\n",
    "\n",
    "    has_nan = np.isnan(coords).any(axis=1)\n",
    "    coords[has_nan, :] = [0, 0, 0]\n",
    "    coords = coords.reshape(n_frames, n_features_coords) # Back to the original shape\n",
    "\n",
    "    if coords.shape[0] != dataset[i][1].shape[0]:\n",
    "        print(\"Warrning: \", i, \" \", coords.shape[0], \" \", dataset[i][1].shape[0])\n",
    "    coords_dmd_null.append(coords)\n",
    "    behaviour.append(dataset[i][1].to_numpy())"
   ]
  },
  {
   "cell_type": "code",
   "execution_count": 10,
   "metadata": {},
   "outputs": [],
   "source": [
    "y = np.concatenate(behaviour)\n",
    "X = np.concatenate(coords_dmd_null)"
   ]
  },
  {
   "cell_type": "code",
   "execution_count": 11,
   "metadata": {},
   "outputs": [
    {
     "name": "stdout",
     "output_type": "stream",
     "text": [
      "(310549, 108)\n",
      "(310549, 17)\n"
     ]
    }
   ],
   "source": [
    "print(X.shape)\n",
    "print(y.shape)"
   ]
  },
  {
   "cell_type": "code",
   "execution_count": null,
   "metadata": {},
   "outputs": [],
   "source": []
  },
  {
   "cell_type": "code",
   "execution_count": 12,
   "metadata": {},
   "outputs": [],
   "source": [
    "# Split the data into training and test sets\n",
    "\n",
    "X_train, X_test, y_train, y_test = train_test_split(X, y, test_size=0.2, random_state=42, shuffle=True)"
   ]
  },
  {
   "cell_type": "code",
   "execution_count": 13,
   "metadata": {},
   "outputs": [
    {
     "data": {
      "text/plain": [
       "Index(['Center', 'Center_head', 'Left_bhip', 'Left_ear', 'Left_fhip',\n",
       "       'Left_mid', 'Nose', 'Right_bhip', 'Right_ear', 'Right_fhip',\n",
       "       'Right_mid', 'Spine_1', 'Spine_1-center', 'Spine_2', 'Spine_2-base',\n",
       "       'Spine_center-2', 'Tail_1', 'Tail_2', 'Tail_3', 'Tail_4', 'Tail_base',\n",
       "       'Tail_tip', 'Center of mass'],\n",
       "      dtype='object', name='bodyparts')"
      ]
     },
     "execution_count": 13,
     "metadata": {},
     "output_type": "execute_result"
    }
   ],
   "source": [
    "bodyparts = dataset[0][0].columns.levels[1]\n",
    "bodyparts"
   ]
  },
  {
   "cell_type": "code",
   "execution_count": 14,
   "metadata": {},
   "outputs": [
    {
     "data": {
      "text/plain": [
       "array(['Center', 'Center_head', 'Left_bhip', 'Left_ear', 'Left_fhip',\n",
       "       'Left_mid', 'Nose', 'Right_bhip', 'Right_ear', 'Right_fhip',\n",
       "       'Right_mid', 'Spine_1', 'Spine_1-center', 'Spine_2',\n",
       "       'Spine_2-base', 'Spine_center-2', 'Tail_1', 'Tail_2', 'Tail_3',\n",
       "       'Tail_4', 'Tail_base', 'Tail_tip', 'Center of mass', 'Center',\n",
       "       'Center_head', 'Left_bhip', 'Left_ear', 'Left_fhip', 'Left_mid',\n",
       "       'Nose', 'Right_bhip', 'Right_ear', 'Right_fhip', 'Right_mid',\n",
       "       'Spine_1', 'Spine_1-center', 'Spine_2', 'Spine_2-base',\n",
       "       'Spine_center-2', 'Tail_1', 'Tail_2', 'Tail_3', 'Tail_4',\n",
       "       'Tail_base', 'Tail_tip', 'Center of mass'], dtype=object)"
      ]
     },
     "execution_count": 14,
     "metadata": {},
     "output_type": "execute_result"
    }
   ],
   "source": [
    "doble_bp = np.concatenate([bodyparts, bodyparts])\n",
    "doble_bp"
   ]
  },
  {
   "cell_type": "code",
   "execution_count": 15,
   "metadata": {},
   "outputs": [
    {
     "name": "stdout",
     "output_type": "stream",
     "text": [
      "Checking outliers\n"
     ]
    },
    {
     "data": {
      "image/png": "[encoded data removed]",
      "text/plain": [
       "<Figure size 640x480 with 1 Axes>"
      ]
     },
     "metadata": {},
     "output_type": "display_data"
    },
    {
     "data": {
      "image/png": "[encoded data removed]",
      "text/plain": [
       "<Figure size 640x480 with 1 Axes>"
      ]
     },
     "metadata": {},
     "output_type": "display_data"
    },
    {
     "data": {
      "image/png": "[encoded data removed]",
      "text/plain": [
       "<Figure size 640x480 with 1 Axes>"
      ]
     },
     "metadata": {},
     "output_type": "display_data"
    },
    {
     "data": {
      "image/png": "[encoded data removed]",
      "text/plain": [
       "<Figure size 640x480 with 1 Axes>"
      ]
     },
     "metadata": {},
     "output_type": "display_data"
    },
    {
     "data": {
      "image/png": "[encoded data removed]",
      "text/plain": [
       "<Figure size 640x480 with 1 Axes>"
      ]
     },
     "metadata": {},
     "output_type": "display_data"
    },
    {
     "data": {
      "image/png": "[encoded data removed]",
      "text/plain": [
       "<Figure size 640x480 with 1 Axes>"
      ]
     },
     "metadata": {},
     "output_type": "display_data"
    },
    {
     "data": {
      "image/png": "[encoded data removed]",
      "text/plain": [
       "<Figure size 640x480 with 1 Axes>"
      ]
     },
     "metadata": {},
     "output_type": "display_data"
    },
    {
     "data": {
      "image/png": "[encoded data removed]",
      "text/plain": [
       "<Figure size 640x480 with 1 Axes>"
      ]
     },
     "metadata": {},
     "output_type": "display_data"
    },
    {
     "data": {
      "image/png": "[encoded data removed]",
      "text/plain": [
       "<Figure size 640x480 with 1 Axes>"
      ]
     },
     "metadata": {},
     "output_type": "display_data"
    },
    {
     "data": {
      "image/png": "[encoded data removed]",
      "text/plain": [
       "<Figure size 640x480 with 1 Axes>"
      ]
     },
     "metadata": {},
     "output_type": "display_data"
    },
    {
     "data": {
      "image/png": "[encoded data removed]",
      "text/plain": [
       "<Figure size 640x480 with 1 Axes>"
      ]
     },
     "metadata": {},
     "output_type": "display_data"
    },
    {
     "data": {
      "image/png": "[encoded data removed]",
      "text/plain": [
       "<Figure size 640x480 with 1 Axes>"
      ]
     },
     "metadata": {},
     "output_type": "display_data"
    },
    {
     "data": {
      "image/png": "[encoded data removed]",
      "text/plain": [
       "<Figure size 640x480 with 1 Axes>"
      ]
     },
     "metadata": {},
     "output_type": "display_data"
    },
    {
     "data": {
      "image/png": "[encoded data removed]",
      "text/plain": [
       "<Figure size 640x480 with 1 Axes>"
      ]
     },
     "metadata": {},
     "output_type": "display_data"
    },
    {
     "data": {
      "image/png": "[encoded data removed]",
      "text/plain": [
       "<Figure size 640x480 with 1 Axes>"
      ]
     },
     "metadata": {},
     "output_type": "display_data"
    },
    {
     "data": {
      "image/png": "[encoded data removed]",
      "text/plain": [
       "<Figure size 640x480 with 1 Axes>"
      ]
     },
     "metadata": {},
     "output_type": "display_data"
    },
    {
     "data": {
      "image/png": "[encoded data removed]",
      "text/plain": [
       "<Figure size 640x480 with 1 Axes>"
      ]
     },
     "metadata": {},
     "output_type": "display_data"
    },
    {
     "data": {
      "image/png": "[encoded data removed]",
      "text/plain": [
       "<Figure size 640x480 with 1 Axes>"
      ]
     },
     "metadata": {},
     "output_type": "display_data"
    },
    {
     "data": {
      "image/png": "[encoded data removed]",
      "text/plain": [
       "<Figure size 640x480 with 1 Axes>"
      ]
     },
     "metadata": {},
     "output_type": "display_data"
    },
    {
     "data": {
      "image/png": "[encoded data removed]",
      "text/plain": [
       "<Figure size 640x480 with 1 Axes>"
      ]
     },
     "metadata": {},
     "output_type": "display_data"
    },
    {
     "data": {
      "image/png": "[encoded data removed]",
      "text/plain": [
       "<Figure size 640x480 with 1 Axes>"
      ]
     },
     "metadata": {},
     "output_type": "display_data"
    },
    {
     "data": {
      "image/png": "[encoded data removed]",
      "text/plain": [
       "<Figure size 640x480 with 1 Axes>"
      ]
     },
     "metadata": {},
     "output_type": "display_data"
    },
    {
     "data": {
      "image/png": "[encoded data removed]",
      "text/plain": [
       "<Figure size 640x480 with 1 Axes>"
      ]
     },
     "metadata": {},
     "output_type": "display_data"
    },
    {
     "data": {
      "image/png": "[encoded data removed]",
      "text/plain": [
       "<Figure size 640x480 with 1 Axes>"
      ]
     },
     "metadata": {},
     "output_type": "display_data"
    },
    {
     "data": {
      "image/png": "[encoded data removed]",
      "text/plain": [
       "<Figure size 640x480 with 1 Axes>"
      ]
     },
     "metadata": {},
     "output_type": "display_data"
    },
    {
     "data": {
      "image/png": "[encoded data removed]",
      "text/plain": [
       "<Figure size 640x480 with 1 Axes>"
      ]
     },
     "metadata": {},
     "output_type": "display_data"
    },
    {
     "data": {
      "image/png": "[encoded data removed]",
      "text/plain": [
       "<Figure size 640x480 with 1 Axes>"
      ]
     },
     "metadata": {},
     "output_type": "display_data"
    },
    {
     "data": {
      "image/png": "[encoded data removed]",
      "text/plain": [
       "<Figure size 640x480 with 1 Axes>"
      ]
     },
     "metadata": {},
     "output_type": "display_data"
    },
    {
     "data": {
      "image/png": "[encoded data removed]",
      "text/plain": [
       "<Figure size 640x480 with 1 Axes>"
      ]
     },
     "metadata": {},
     "output_type": "display_data"
    },
    {
     "data": {
      "image/png": "[encoded data removed]",
      "text/plain": [
       "<Figure size 640x480 with 1 Axes>"
      ]
     },
     "metadata": {},
     "output_type": "display_data"
    },
    {
     "data": {
      "image/png": "[encoded data removed]",
      "text/plain": [
       "<Figure size 640x480 with 1 Axes>"
      ]
     },
     "metadata": {},
     "output_type": "display_data"
    },
    {
     "data": {
      "image/png": "[encoded data removed]",
      "text/plain": [
       "<Figure size 640x480 with 1 Axes>"
      ]
     },
     "metadata": {},
     "output_type": "display_data"
    },
    {
     "data": {
      "image/png": "[encoded data removed]",
      "text/plain": [
       "<Figure size 640x480 with 1 Axes>"
      ]
     },
     "metadata": {},
     "output_type": "display_data"
    },
    {
     "data": {
      "image/png": "[encoded data removed]",
      "text/plain": [
       "<Figure size 640x480 with 1 Axes>"
      ]
     },
     "metadata": {},
     "output_type": "display_data"
    },
    {
     "data": {
      "image/png": "[encoded data removed]",
      "text/plain": [
       "<Figure size 640x480 with 1 Axes>"
      ]
     },
     "metadata": {},
     "output_type": "display_data"
    },
    {
     "data": {
      "image/png": "[encoded data removed]",
      "text/plain": [
       "<Figure size 640x480 with 1 Axes>"
      ]
     },
     "metadata": {},
     "output_type": "display_data"
    }
   ],
   "source": [
    "# Check outliers\n",
    "print(\"Checking outliers\")\n",
    "# Boxplot\n",
    "for i in range(X_train.shape[1]//3):\n",
    "    plt.boxplot(X_train[:, i*3:(i+1)*3])\n",
    "    plt.title('Boxplot for body part ' + doble_bp[i])\n",
    "    plt.show()"
   ]
  },
  {
   "cell_type": "markdown",
   "metadata": {},
   "source": [
    "**Let's check the size of the videos to see the bounderies, the trainning videos were cropped to (640,480)**"
   ]
  },
  {
   "cell_type": "code",
   "execution_count": 16,
   "metadata": {},
   "outputs": [
    {
     "name": "stdout",
     "output_type": "stream",
     "text": [
      "Video size:  640 480\n"
     ]
    },
    {
     "data": {
      "text/plain": [
       "-1"
      ]
     },
     "execution_count": 16,
     "metadata": {},
     "output_type": "execute_result"
    }
   ],
   "source": [
    "# Load a video\n",
    "path = r'c:\\Users\\jalvarez\\Documents\\Data\\DLC_analyzedvid\\MDX5CV_wo_tail\\MDX5CV male\\MDXCV_mal_Test_1.mp4'\n",
    "\n",
    "# Load the video\n",
    "cap = cv2.VideoCapture(path)\n",
    "ret, frame = cap.read()\n",
    "cap.release()\n",
    "\n",
    "# Get the size of the video\n",
    "height, width, _ = frame.shape\n",
    "\n",
    "print(\"Video size: \", width, height)\n",
    "\n",
    "# Close everything\n",
    "cv2.destroyAllWindows()\n",
    "cv2.waitKey(1)"
   ]
  },
  {
   "cell_type": "code",
   "execution_count": 17,
   "metadata": {},
   "outputs": [
    {
     "name": "stdout",
     "output_type": "stream",
     "text": [
      " before clipping:  1139.667565412415 -1742.2799189725774\n",
      " before clipping:  2325.901155355654 -288.10640923857045\n",
      " after clipping:  640.0 0.0\n",
      " after clipping:  480.0 0.0\n"
     ]
    }
   ],
   "source": [
    "# Introduce boundaries in features\n",
    "x_lim = [0, width]\n",
    "y_lim = [0, height]\n",
    "\n",
    "# Cast outliers to the limits\n",
    "print( ' before clipping: ', X_train[:, 0::3].max(), X_train[:, 0::3].min())\n",
    "print( ' before clipping: ', X_train[:, 1::3].max(), X_train[:, 1::3].min())\n",
    "X_train[:, 0::3] = np.clip(X_train[:, 0::3], x_lim[0], x_lim[1])\n",
    "X_train[:, 1::3] = np.clip(X_train[:, 1::3], y_lim[0], y_lim[1])\n",
    "X_test[:, 0::3] = np.clip(X_test[:, 0::3], x_lim[0], x_lim[1])\n",
    "X_test[:, 1::3] = np.clip(X_test[:, 1::3], y_lim[0], y_lim[1])\n",
    "print( ' after clipping: ', X_train[:, 0::3].max(), X_train[:, 0::3].min())\n",
    "print( ' after clipping: ', X_train[:, 1::3].max(), X_train[:, 1::3].min())\n"
   ]
  },
  {
   "cell_type": "code",
   "execution_count": 18,
   "metadata": {},
   "outputs": [],
   "source": [
    "# Scale the data \n",
    "X_train[:, 0::3] = (X_train[:, 0::3] - x_lim[0]) / (x_lim[1] - x_lim[0])\n",
    "X_train[:, 1::3] = (X_train[:, 1::3] - y_lim[0]) / (y_lim[1] - y_lim[0])\n",
    "X_test[:, 0::3] = (X_test[:, 0::3] - x_lim[0]) / (x_lim[1] - x_lim[0])\n",
    "X_test[:, 1::3] = (X_test[:, 1::3] - y_lim[0]) / (y_lim[1] - y_lim[0])\n",
    "\n",
    "\n",
    "# Scale the test"
   ]
  },
  {
   "cell_type": "code",
   "execution_count": 19,
   "metadata": {},
   "outputs": [
    {
     "name": "stdout",
     "output_type": "stream",
     "text": [
      " after clipping:  1.0 0.0\n",
      " after clipping:  1.0 0.0\n"
     ]
    }
   ],
   "source": [
    "print( ' after clipping: ', X_train[:, 0::3].max(), X_train[:, 0::3].min())\n",
    "print( ' after clipping: ', X_train[:, 1::3].max(), X_train[:, 1::3].min())"
   ]
  },
  {
   "cell_type": "code",
   "execution_count": 20,
   "metadata": {},
   "outputs": [
    {
     "name": "stdout",
     "output_type": "stream",
     "text": [
      "(248439, 108)\n",
      "(62110, 108)\n"
     ]
    }
   ],
   "source": [
    "print(X_train.shape)\n",
    "print(X_test.shape)\n"
   ]
  },
  {
   "cell_type": "markdown",
   "metadata": {},
   "source": [
    "---"
   ]
  },
  {
   "cell_type": "code",
   "execution_count": 21,
   "metadata": {},
   "outputs": [
    {
     "data": {
      "text/plain": [
       "'General_Contacts'"
      ]
     },
     "execution_count": 21,
     "metadata": {},
     "output_type": "execute_result"
    }
   ],
   "source": [
    "beh_names[0]"
   ]
  },
  {
   "cell_type": "code",
   "execution_count": 22,
   "metadata": {},
   "outputs": [
    {
     "data": {
      "text/plain": [
       "array([[0., 0., 0., ..., 0., 0., 0.],\n",
       "       [0., 1., 0., ..., 0., 0., 0.],\n",
       "       [0., 1., 0., ..., 0., 0., 0.],\n",
       "       ...,\n",
       "       [0., 0., 0., ..., 0., 0., 0.],\n",
       "       [0., 0., 0., ..., 0., 0., 0.],\n",
       "       [0., 0., 0., ..., 0., 0., 0.]])"
      ]
     },
     "execution_count": 22,
     "metadata": {},
     "output_type": "execute_result"
    }
   ],
   "source": [
    "y"
   ]
  },
  {
   "cell_type": "markdown",
   "metadata": {},
   "source": [
    "### General contact"
   ]
  },
  {
   "cell_type": "code",
   "execution_count": 21,
   "metadata": {},
   "outputs": [],
   "source": [
    "y_gencont_train = y_train[:, 0]\n",
    "y_gencont_test = y_test[:, 0]"
   ]
  },
  {
   "cell_type": "code",
   "execution_count": null,
   "metadata": {},
   "outputs": [],
   "source": [
    "# class balance\n",
    "plt.hist(y_gencont_train)\n",
    "plt.show()\n",
    "\n",
    "print()"
   ]
  },
  {
   "cell_type": "markdown",
   "metadata": {},
   "source": []
  },
  {
   "cell_type": "code",
   "execution_count": null,
   "metadata": {},
   "outputs": [],
   "source": [
    "# Load baseline model\n",
    "model = joblib.load(r'C:\\Users\\jalvarez\\Documents\\Code\\GitHubCOde\\Behavioral_Tagging_of_Mice_in_multiple_Mice_dataset_using_Deep_Learning\\src\\baseline_models\\model_gencont.pkl')\n",
    "\n",
    "# Print the model and number of parameters\n",
    "print(model)\n",
    "total_params = 0\n",
    "for layer in model.coefs_:\n",
    "    total_params += layer.size\n",
    "print(\"Total number of parameters: \", total_params)"
   ]
  },
  {
   "cell_type": "code",
   "execution_count": 24,
   "metadata": {},
   "outputs": [],
   "source": [
    "# Create the model\n",
    "model = MLPClassifier(hidden_layer_sizes=(100, 100), max_iter=1000, verbose=True)"
   ]
  },
  {
   "cell_type": "code",
   "execution_count": null,
   "metadata": {},
   "outputs": [],
   "source": [
    "# 5 train to see variance\n",
    "n_train = 5\n",
    "accs = []\n",
    "models = []\n",
    "for i in range(n_train):\n",
    "    print(\"Train \", i)\n",
    "    model = MLPClassifier(hidden_layer_sizes=(100, 100), max_iter=1000, verbose=True, random_state=np.random.randint(0, 1000))\n",
    "    model.fit(X_train, y_gencont_train)\n",
    "    y_pred = model.predict(X_test)\n",
    "    acc = accuracy_score(y_gencont_test, y_pred)\n",
    "    accs.append(acc)\n",
    "    models.append(model)\n",
    "    print(\"Accuracy: \", acc)\n"
   ]
  },
  {
   "cell_type": "code",
   "execution_count": null,
   "metadata": {},
   "outputs": [],
   "source": [
    "# accuracy\n",
    "print(\"Mean accuracy: \", np.mean(accs))\n",
    "print(\"Std accuracy: \", np.std(accs))\n",
    "print(\" variance accuracy: \", np.var(accs))\n",
    "\n",
    "print(\"The accuracy is:\", np.mean(accs), \" +/- \", np.std(accs))"
   ]
  },
  {
   "cell_type": "code",
   "execution_count": null,
   "metadata": {},
   "outputs": [],
   "source": [
    "# Best model\n",
    "model = models[np.argmax(accs)]\n",
    "y_pred = model.predict(X_test)\n",
    "acc = accuracy_score(y_gencont_test, y_pred)\n",
    "print(\"Accuracy: \", acc)\n",
    "\n",
    "# Confusion matrix\n",
    "cm = confusion_matrix(y_gencont_test, y_pred)\n",
    "cm = cm / cm.sum(axis=1)[:, np.newaxis]\n",
    "plt.figure()\n",
    "plt.title('Confusion matrix of the best model for general contact')\n",
    "sns.heatmap(cm, annot=True, xticklabels=['Not Contact', 'Contact'], yticklabels=['Not Contact', 'Contact'], cmap='Blues')\n",
    "plt.xlabel('Predicted')\n",
    "plt.ylabel('True')\n",
    "plt.show()\n",
    "\n"
   ]
  },
  {
   "cell_type": "code",
   "execution_count": null,
   "metadata": {},
   "outputs": [],
   "source": [
    "model.fit(X_train, y_gencont_train)"
   ]
  },
  {
   "cell_type": "code",
   "execution_count": null,
   "metadata": {},
   "outputs": [],
   "source": [
    "y_pred = model.predict(X_test)\n",
    "\n",
    "accuracy_score(y_gencont_test, y_pred)"
   ]
  },
  {
   "cell_type": "code",
   "execution_count": null,
   "metadata": {},
   "outputs": [],
   "source": [
    "# Confusion matrix\n",
    "\n",
    "\n",
    "conf_matrix = confusion_matrix(y_gencont_test, y_pred)\n",
    "conf_matrix = conf_matrix / conf_matrix.sum(axis=1)[:, np.newaxis]\n",
    "sns.heatmap(conf_matrix, annot=True)\n",
    "plt.xlabel('Predicted')\n",
    "plt.ylabel('True')\n",
    "plt.show()\n"
   ]
  },
  {
   "cell_type": "code",
   "execution_count": null,
   "metadata": {},
   "outputs": [],
   "source": [
    "# save model\n",
    "\n",
    "joblib.dump(model, 'baseline_models/new_dataset/model_gencont.pkl')"
   ]
  },
  {
   "cell_type": "markdown",
   "metadata": {},
   "source": [
    "---"
   ]
  },
  {
   "cell_type": "code",
   "execution_count": null,
   "metadata": {},
   "outputs": [],
   "source": [
    "beh_names[1]"
   ]
  },
  {
   "cell_type": "markdown",
   "metadata": {},
   "source": [
    "## Sniff resident"
   ]
  },
  {
   "cell_type": "code",
   "execution_count": 20,
   "metadata": {},
   "outputs": [],
   "source": [
    "y_sniffR_train = y_train[:, 1]\n",
    "y_sniffR_test = y_test[:, 1]\n"
   ]
  },
  {
   "cell_type": "code",
   "execution_count": null,
   "metadata": {},
   "outputs": [],
   "source": [
    "# Class Balance\n",
    "plt.hist(y_sniffR_train)\n",
    "plt.title('Train class balance')\n",
    "plt.show()\n"
   ]
  },
  {
   "cell_type": "code",
   "execution_count": 24,
   "metadata": {},
   "outputs": [],
   "source": [
    "model = MLPClassifier(hidden_layer_sizes=(100, 100), max_iter=1000, verbose=True)"
   ]
  },
  {
   "cell_type": "code",
   "execution_count": null,
   "metadata": {},
   "outputs": [],
   "source": [
    "# number of parameters\n",
    "total_params = 0\n",
    "for layer in model.coefs_:\n",
    "    total_params += layer.size\n",
    "print(\"Total number of parameters: \", total_params)\n"
   ]
  },
  {
   "cell_type": "code",
   "execution_count": null,
   "metadata": {},
   "outputs": [],
   "source": [
    "# 5 train to see variance\n",
    "n_train = 5\n",
    "accs = []\n",
    "models = []\n",
    "for i in range(n_train):\n",
    "    print(\"Train \", i)\n",
    "    model = MLPClassifier(hidden_layer_sizes=(100, 100), max_iter=1000, verbose=True)\n",
    "    model.fit(X_train, y_sniffR_train)\n",
    "    y_pred = model.predict(X_test)\n",
    "    acc = accuracy_score(y_sniffR_test, y_pred)\n",
    "    accs.append(acc)\n",
    "    models.append(model)\n",
    "    print(\"Accuracy: \", acc)\n"
   ]
  },
  {
   "cell_type": "code",
   "execution_count": null,
   "metadata": {},
   "outputs": [],
   "source": [
    "# accuracy\n",
    "print(\"Mean accuracy: \", np.mean(accs))\n",
    "print(\"Std accuracy: \", np.std(accs))\n",
    "print(\" variance accuracy: \", np.var(accs))\n",
    "\n",
    "print(\"The accuracy is:\", np.mean(accs), \" +/- \", np.std(accs))"
   ]
  },
  {
   "cell_type": "code",
   "execution_count": null,
   "metadata": {},
   "outputs": [],
   "source": [
    "# Best model\n",
    "model = models[np.argmax(accs)]\n"
   ]
  },
  {
   "cell_type": "code",
   "execution_count": 23,
   "metadata": {},
   "outputs": [],
   "source": [
    "# load model\n",
    "model = joblib.load('baseline_models/new_dataset/model_sniffR.pkl')"
   ]
  },
  {
   "cell_type": "code",
   "execution_count": null,
   "metadata": {},
   "outputs": [],
   "source": [
    "\n",
    "y_pred = model.predict(X_test)\n",
    "acc = accuracy_score(y_sniffR_test, y_pred)\n",
    "print(\"Accuracy: \", acc)\n",
    "\n",
    "# Confusion matrix\n",
    "cm = confusion_matrix(y_sniffR_test, y_pred)\n",
    "cm = cm / cm.sum(axis=1)[:, np.newaxis]\n",
    "plt.figure()\n",
    "plt.title('Confusion matrix of the best model for Sniffing')\n",
    "sns.heatmap(cm, annot=True, xticklabels=['No Sniffing', 'Sniffing'], yticklabels=['No Sniffing', 'Sniffing'], cmap='Blues')\n",
    "plt.xlabel('Predicted')\n",
    "plt.ylabel('True')\n",
    "plt.show()\n"
   ]
  },
  {
   "cell_type": "code",
   "execution_count": null,
   "metadata": {},
   "outputs": [],
   "source": [
    "# Save the model\n",
    "joblib.dump(model, 'baseline_models/new_dataset/model_sniffR.pkl')"
   ]
  },
  {
   "cell_type": "code",
   "execution_count": null,
   "metadata": {},
   "outputs": [],
   "source": [
    "train_errors = model.loss_curve_\n",
    "plt.plot(train_errors)\n",
    "plt.xlabel('Iteration')\n",
    "plt.ylabel('Training Error')\n",
    "plt.show()\n"
   ]
  },
  {
   "cell_type": "code",
   "execution_count": null,
   "metadata": {},
   "outputs": [],
   "source": [
    "# Save the model\n",
    "joblib.dump(model, 'baseline_models/new_dataset/model_sniffR.pkl')"
   ]
  },
  {
   "cell_type": "markdown",
   "metadata": {},
   "source": [
    "---"
   ]
  },
  {
   "cell_type": "code",
   "execution_count": null,
   "metadata": {},
   "outputs": [],
   "source": [
    "beh_names[2]"
   ]
  },
  {
   "cell_type": "markdown",
   "metadata": {},
   "source": [
    "### Sniffing_head_R"
   ]
  },
  {
   "cell_type": "code",
   "execution_count": 26,
   "metadata": {},
   "outputs": [],
   "source": [
    "y_Shead_train = y_train[:, 2]\n",
    "y_Shead_test = y_test[:, 2]"
   ]
  },
  {
   "cell_type": "code",
   "execution_count": null,
   "metadata": {},
   "outputs": [],
   "source": [
    "#Class balance\n",
    "plt.hist(y_Shead_train)\n",
    "plt.title('Train class balance')\n",
    "plt.show()\n",
    "\n",
    "print(\"Train active: \", int(np.sum(y_Shead_train)))\n",
    "print(\"Train inactive: \", np.sum(y_Shead_train == 0))\n",
    "print(\"Percentage active: \", np.sum(y_Shead_train)*100 / len(y_Shead_train), \"%\")\n"
   ]
  },
  {
   "cell_type": "code",
   "execution_count": 38,
   "metadata": {},
   "outputs": [],
   "source": [
    "# Downsample the inactive class\n",
    "idx = np.where(y_Shead_train == 0)[0]\n",
    "idx = np.random.choice(idx, np.sum(y_Shead_train == 1), replace=False)\n",
    "idx = np.concatenate([np.where(y_Shead_train == 1)[0], idx])\n",
    "\n",
    "X_train_Shead = X_train[idx]\n",
    "y_Shead_train = y_Shead_train[idx]"
   ]
  },
  {
   "cell_type": "code",
   "execution_count": null,
   "metadata": {},
   "outputs": [],
   "source": [
    "# class balance\n",
    "plt.hist(y_Shead_train)\n",
    "plt.title('Train class balance')\n",
    "plt.show()\n"
   ]
  },
  {
   "cell_type": "code",
   "execution_count": null,
   "metadata": {},
   "outputs": [],
   "source": [
    "n_train = 5\n",
    "accs = []\n",
    "models = []\n",
    "for i in range(n_train):\n",
    "    print(\"Train \", i)\n",
    "    model = MLPClassifier(hidden_layer_sizes=(100, 100), max_iter=1000, verbose=True)\n",
    "    model.fit(X_train_Shead, y_Shead_train)\n",
    "    y_pred = model.predict(X_test)\n",
    "    acc = accuracy_score(y_Shead_test, y_pred)\n",
    "    accs.append(acc)\n",
    "    models.append(model)\n",
    "    print(\"Accuracy: \", acc)"
   ]
  },
  {
   "cell_type": "code",
   "execution_count": null,
   "metadata": {},
   "outputs": [],
   "source": [
    "#accuracy \n",
    "print(\"Mean accuracy: \", np.mean(accs))\n",
    "print(\"Std accuracy: \", np.std(accs))\n",
    "print(\"Accuracy = \", np.mean(accs), \" +/- \", np.std(accs))\n"
   ]
  },
  {
   "cell_type": "code",
   "execution_count": null,
   "metadata": {},
   "outputs": [],
   "source": [
    "# best model\n",
    "model = models[np.argmax(accs)]\n",
    "y_pred = model.predict(X_test)\n",
    "acc = accuracy_score(y_Shead_test, y_pred)\n",
    "print(\"Accuracy: \", acc)"
   ]
  },
  {
   "cell_type": "code",
   "execution_count": null,
   "metadata": {},
   "outputs": [],
   "source": [
    "# Confusion matrix\n",
    "cm = confusion_matrix(y_Shead_test, y_pred)\n",
    "cm = cm / cm.sum(axis=1)[:, np.newaxis]\n",
    "plt.figure()\n",
    "plt.title('Confusion matrix of the best model for Sniffing Head')\n",
    "sns.heatmap(cm, annot=True, xticklabels=['Not Sniffing Head', 'Sniffing Head'], yticklabels=['Not Sniffing Head', 'Sniffing Head'], cmap='Blues')\n",
    "plt.xlabel('Predicted')\n",
    "plt.ylabel('True')\n",
    "plt.show()\n"
   ]
  },
  {
   "cell_type": "code",
   "execution_count": null,
   "metadata": {},
   "outputs": [],
   "source": [
    "# Save the model\n",
    "joblib.dump(model, 'baseline_models/new_dataset/model_Shead.pkl')"
   ]
  },
  {
   "cell_type": "markdown",
   "metadata": {},
   "source": [
    "---"
   ]
  },
  {
   "cell_type": "code",
   "execution_count": 23,
   "metadata": {},
   "outputs": [
    {
     "data": {
      "text/plain": [
       "'Sniffing_other_R'"
      ]
     },
     "execution_count": 23,
     "metadata": {},
     "output_type": "execute_result"
    }
   ],
   "source": [
    "beh_names[3]"
   ]
  },
  {
   "cell_type": "code",
   "execution_count": 47,
   "metadata": {},
   "outputs": [],
   "source": [
    "y_Sbody_train = y_train[:, 3]\n",
    "y_Sbody_test = y_test[:, 3]"
   ]
  },
  {
   "cell_type": "code",
   "execution_count": null,
   "metadata": {},
   "outputs": [],
   "source": [
    "# Class balance\n",
    "plt.hist(y_Sbody_train)\n",
    "plt.title('Train class balance')\n",
    "plt.show()\n",
    "\n",
    "print(\"Train active: \", int(np.sum(y_Sbody_train)))\n",
    "print(\"Train inactive: \", np.sum(y_Sbody_train == 0))\n",
    "print(\"Percentage active: \", np.sum(y_Sbody_train)*100 / len(y_Sbody_train), \"%\")\n"
   ]
  },
  {
   "cell_type": "code",
   "execution_count": 49,
   "metadata": {},
   "outputs": [],
   "source": [
    "# Downsample the inactive class\n",
    "idx = np.where(y_Sbody_train == 0)[0]\n",
    "idx = np.random.choice(idx, np.sum(y_Sbody_train == 1), replace=False)\n",
    "idx = np.concatenate([np.where(y_Sbody_train == 1)[0], idx])\n",
    "\n",
    "X_train_Sbody = X_train[idx]\n",
    "y_Sbody_train = y_Sbody_train[idx]"
   ]
  },
  {
   "cell_type": "code",
   "execution_count": null,
   "metadata": {},
   "outputs": [],
   "source": [
    "# class balance\n",
    "plt.hist(y_Sbody_train)\n",
    "plt.title('Train class balance')\n",
    "plt.show()\n"
   ]
  },
  {
   "cell_type": "code",
   "execution_count": null,
   "metadata": {},
   "outputs": [],
   "source": [
    "n_train = 5\n",
    "accs = []\n",
    "models = []\n",
    "for i in range(n_train):\n",
    "    print(\"Train \", i)\n",
    "    model = MLPClassifier(hidden_layer_sizes=(100, 100), max_iter=1000, verbose=True)\n",
    "    model.fit(X_train_Sbody, y_Sbody_train)\n",
    "    y_pred = model.predict(X_test)\n",
    "    acc = accuracy_score(y_Sbody_test, y_pred)\n",
    "    accs.append(acc)\n",
    "    models.append(model)\n",
    "    print(\"Accuracy: \", acc)"
   ]
  },
  {
   "cell_type": "code",
   "execution_count": null,
   "metadata": {},
   "outputs": [],
   "source": [
    "# accuracy\n",
    "print(\"Mean accuracy: \", np.mean(accs))\n",
    "print(\"Std accuracy: \", np.std(accs))\n",
    "print(\"Accuracy = \", np.mean(accs), \" +/- \", np.std(accs))"
   ]
  },
  {
   "cell_type": "code",
   "execution_count": null,
   "metadata": {},
   "outputs": [],
   "source": [
    "# best model\n",
    "model = models[np.argmax(accs)]\n",
    "y_pred = model.predict(X_test)\n",
    "acc = accuracy_score(y_Sbody_test, y_pred)\n",
    "print(\"Accuracy: \", acc)\n"
   ]
  },
  {
   "cell_type": "code",
   "execution_count": null,
   "metadata": {},
   "outputs": [],
   "source": [
    "# Confusion matrix\n",
    "cm = confusion_matrix(y_Sbody_test, y_pred)\n",
    "cm = cm / cm.sum(axis=1)[:, np.newaxis]\n",
    "plt.figure()\n",
    "plt.title('Confusion matrix of the best model for Sniffing Body')\n",
    "sns.heatmap(cm, annot=True, xticklabels=['Not Sniffing Body', 'Sniffing Body'], yticklabels=['Not Sniffing Body', 'Sniffing Body'], cmap='Blues')\n",
    "plt.xlabel('Predicted')\n",
    "plt.ylabel('True')\n",
    "plt.show()\n"
   ]
  },
  {
   "cell_type": "code",
   "execution_count": null,
   "metadata": {},
   "outputs": [],
   "source": [
    "# Save the model\n",
    "joblib.dump(model, 'baseline_models/new_dataset/model_Sbody.pkl')"
   ]
  },
  {
   "cell_type": "markdown",
   "metadata": {},
   "source": [
    "---"
   ]
  },
  {
   "cell_type": "code",
   "execution_count": 24,
   "metadata": {},
   "outputs": [
    {
     "data": {
      "text/plain": [
       "'Sniffing_anal_R'"
      ]
     },
     "execution_count": 24,
     "metadata": {},
     "output_type": "execute_result"
    }
   ],
   "source": [
    "beh_names[4]"
   ]
  },
  {
   "cell_type": "code",
   "execution_count": 25,
   "metadata": {},
   "outputs": [],
   "source": [
    "y_Sanus_train = y_train[:, 4]\n",
    "y_Sanus_test = y_test[:, 4]\n"
   ]
  },
  {
   "cell_type": "code",
   "execution_count": 26,
   "metadata": {},
   "outputs": [
    {
     "data": {
      "image/png": "[encoded data removed]",
      "text/plain": [
       "<Figure size 640x480 with 1 Axes>"
      ]
     },
     "metadata": {},
     "output_type": "display_data"
    },
    {
     "name": "stdout",
     "output_type": "stream",
     "text": [
      "Train active:  44036\n",
      "Train inactive:  204403\n",
      "Percentage active:  17.725075370614114 %\n"
     ]
    }
   ],
   "source": [
    "# Class balance\n",
    "plt.hist(y_Sanus_train)\n",
    "plt.title('Train class balance')\n",
    "plt.show()\n",
    "\n",
    "print(\"Train active: \", int(np.sum(y_Sanus_train)))\n",
    "print(\"Train inactive: \", np.sum(y_Sanus_train == 0))\n",
    "print(\"Percentage active: \", np.sum(y_Sanus_train)*100 / len(y_Sanus_train), \"%\")\n",
    "\n"
   ]
  },
  {
   "cell_type": "code",
   "execution_count": 27,
   "metadata": {},
   "outputs": [],
   "source": [
    "# Downsample the inactive class\n",
    "idx = np.where(y_Sanus_train == 0)[0]\n",
    "idx = np.random.choice(idx, np.sum(y_Sanus_train == 1), replace=False)\n",
    "idx = np.concatenate([np.where(y_Sanus_train == 1)[0], idx])\n",
    "\n",
    "X_train_Sanus = X_train[idx]\n",
    "y_Sanus_train = y_Sanus_train[idx]\n"
   ]
  },
  {
   "cell_type": "code",
   "execution_count": 28,
   "metadata": {},
   "outputs": [
    {
     "data": {
      "image/png": "[encoded data removed]",
      "text/plain": [
       "<Figure size 640x480 with 1 Axes>"
      ]
     },
     "metadata": {},
     "output_type": "display_data"
    }
   ],
   "source": [
    "# class balance\n",
    "plt.hist(y_Sanus_train)\n",
    "plt.title('Train class balance')\n",
    "plt.show()\n"
   ]
  },
  {
   "cell_type": "code",
   "execution_count": 29,
   "metadata": {},
   "outputs": [
    {
     "name": "stdout",
     "output_type": "stream",
     "text": [
      "Train  0\n",
      "Iteration 1, loss = 0.57969133\n",
      "Iteration 2, loss = 0.48421692\n",
      "Iteration 3, loss = 0.45755116\n",
      "Iteration 4, loss = 0.44780486\n",
      "Iteration 5, loss = 0.43989002\n",
      "Iteration 6, loss = 0.43571418\n",
      "Iteration 7, loss = 0.43009672\n",
      "Iteration 8, loss = 0.42811664\n",
      "Iteration 9, loss = 0.42484285\n",
      "Iteration 10, loss = 0.42219335\n",
      "Iteration 11, loss = 0.41866042\n",
      "Iteration 12, loss = 0.41658457\n",
      "Iteration 13, loss = 0.41373934\n",
      "Iteration 14, loss = 0.41295758\n",
      "Iteration 15, loss = 0.41039242\n",
      "Iteration 16, loss = 0.40882426\n",
      "Iteration 17, loss = 0.40638930\n",
      "Iteration 18, loss = 0.40533120\n",
      "Iteration 19, loss = 0.40432093\n",
      "Iteration 20, loss = 0.40136469\n",
      "Iteration 21, loss = 0.39901072\n",
      "Iteration 22, loss = 0.39820654\n",
      "Iteration 23, loss = 0.39377787\n",
      "Iteration 24, loss = 0.39526832\n",
      "Iteration 25, loss = 0.39305155\n",
      "Iteration 26, loss = 0.39141750\n",
      "Iteration 27, loss = 0.38827931\n",
      "Iteration 28, loss = 0.38904204\n",
      "Iteration 29, loss = 0.38617557\n",
      "Iteration 30, loss = 0.38346105\n",
      "Iteration 31, loss = 0.38302257\n",
      "Iteration 32, loss = 0.38100004\n",
      "Iteration 33, loss = 0.38277068\n",
      "Iteration 34, loss = 0.37846491\n",
      "Iteration 35, loss = 0.37959827\n",
      "Iteration 36, loss = 0.37870540\n",
      "Iteration 37, loss = 0.37460510\n",
      "Iteration 38, loss = 0.37388851\n",
      "Iteration 39, loss = 0.37220541\n",
      "Iteration 40, loss = 0.37094354\n",
      "Iteration 41, loss = 0.37043643\n",
      "Iteration 42, loss = 0.36805623\n",
      "Iteration 43, loss = 0.36788908\n",
      "Iteration 44, loss = 0.36691587\n",
      "Iteration 45, loss = 0.36638269\n",
      "Iteration 46, loss = 0.36640148\n",
      "Iteration 47, loss = 0.36421936\n",
      "Iteration 48, loss = 0.36231779\n",
      "Iteration 49, loss = 0.36211156\n",
      "Iteration 50, loss = 0.36091968\n",
      "Iteration 51, loss = 0.35975656\n",
      "Iteration 52, loss = 0.35876915\n",
      "Iteration 53, loss = 0.35825264\n",
      "Iteration 54, loss = 0.35730514\n",
      "Iteration 55, loss = 0.35695387\n",
      "Iteration 56, loss = 0.35635193\n",
      "Iteration 57, loss = 0.35428120\n",
      "Iteration 58, loss = 0.35424406\n",
      "Iteration 59, loss = 0.35431558\n",
      "Iteration 60, loss = 0.35402249\n",
      "Iteration 61, loss = 0.35048921\n",
      "Iteration 62, loss = 0.35210780\n",
      "Iteration 63, loss = 0.35049335\n",
      "Iteration 64, loss = 0.34953353\n",
      "Iteration 65, loss = 0.34741341\n",
      "Iteration 66, loss = 0.34826759\n",
      "Iteration 67, loss = 0.34728153\n",
      "Iteration 68, loss = 0.34754780\n",
      "Iteration 69, loss = 0.34551554\n",
      "Iteration 70, loss = 0.34500787\n",
      "Iteration 71, loss = 0.34566197\n",
      "Iteration 72, loss = 0.34197410\n",
      "Iteration 73, loss = 0.34160799\n",
      "Iteration 74, loss = 0.34111017\n",
      "Iteration 75, loss = 0.33983626\n",
      "Iteration 76, loss = 0.34036976\n",
      "Iteration 77, loss = 0.33903480\n",
      "Iteration 78, loss = 0.33782975\n",
      "Iteration 79, loss = 0.33804355\n",
      "Iteration 80, loss = 0.33692203\n",
      "Iteration 81, loss = 0.33555255\n",
      "Iteration 82, loss = 0.33401381\n",
      "Iteration 83, loss = 0.33478531\n",
      "Iteration 84, loss = 0.33465293\n",
      "Iteration 85, loss = 0.33366722\n",
      "Iteration 86, loss = 0.33363141\n",
      "Iteration 87, loss = 0.33235823\n",
      "Iteration 88, loss = 0.33243360\n",
      "Iteration 89, loss = 0.33067590\n",
      "Iteration 90, loss = 0.32910762\n",
      "Iteration 91, loss = 0.33031065\n",
      "Iteration 92, loss = 0.32706458\n",
      "Iteration 93, loss = 0.32768863\n",
      "Iteration 94, loss = 0.32822763\n",
      "Iteration 95, loss = 0.32573217\n",
      "Iteration 96, loss = 0.32547900\n",
      "Iteration 97, loss = 0.32436046\n",
      "Iteration 98, loss = 0.32319398\n",
      "Iteration 99, loss = 0.32541042\n",
      "Iteration 100, loss = 0.32322044\n",
      "Iteration 101, loss = 0.32260335\n",
      "Iteration 102, loss = 0.32158125\n",
      "Iteration 103, loss = 0.32323849\n",
      "Iteration 104, loss = 0.32064103\n",
      "Iteration 105, loss = 0.32129604\n",
      "Iteration 106, loss = 0.31902905\n",
      "Iteration 107, loss = 0.31962378\n",
      "Iteration 108, loss = 0.31887146\n",
      "Iteration 109, loss = 0.31682422\n",
      "Iteration 110, loss = 0.31824024\n",
      "Iteration 111, loss = 0.31744952\n",
      "Iteration 112, loss = 0.31602486\n",
      "Iteration 113, loss = 0.31486698\n",
      "Iteration 114, loss = 0.31588689\n",
      "Iteration 115, loss = 0.31349684\n",
      "Iteration 116, loss = 0.31358063\n",
      "Iteration 117, loss = 0.31308718\n",
      "Iteration 118, loss = 0.31346027\n",
      "Iteration 119, loss = 0.31213432\n",
      "Iteration 120, loss = 0.31093505\n",
      "Iteration 121, loss = 0.30985631\n",
      "Iteration 122, loss = 0.30977886\n",
      "Iteration 123, loss = 0.30899103\n",
      "Iteration 124, loss = 0.31094958\n",
      "Iteration 125, loss = 0.30879902\n",
      "Iteration 126, loss = 0.30797601\n",
      "Iteration 127, loss = 0.30647429\n",
      "Iteration 128, loss = 0.30629027\n",
      "Iteration 129, loss = 0.30775627\n",
      "Iteration 130, loss = 0.30563582\n",
      "Iteration 131, loss = 0.30528165\n",
      "Iteration 132, loss = 0.30383677\n",
      "Iteration 133, loss = 0.30344788\n",
      "Iteration 134, loss = 0.30540895\n",
      "Iteration 135, loss = 0.30329322\n",
      "Iteration 136, loss = 0.30190694\n",
      "Iteration 137, loss = 0.30309173\n",
      "Iteration 138, loss = 0.30238048\n",
      "Iteration 139, loss = 0.30254710\n",
      "Iteration 140, loss = 0.30216262\n",
      "Iteration 141, loss = 0.30199879\n",
      "Iteration 142, loss = 0.30049896\n",
      "Iteration 143, loss = 0.29975896\n",
      "Iteration 144, loss = 0.29991166\n",
      "Iteration 145, loss = 0.29945533\n",
      "Iteration 146, loss = 0.29997265\n",
      "Iteration 147, loss = 0.29979059\n",
      "Iteration 148, loss = 0.29724274\n",
      "Iteration 149, loss = 0.29850912\n",
      "Iteration 150, loss = 0.29774225\n",
      "Iteration 151, loss = 0.29573663\n",
      "Iteration 152, loss = 0.29596830\n",
      "Iteration 153, loss = 0.29480409\n",
      "Iteration 154, loss = 0.29669647\n",
      "Iteration 155, loss = 0.29617606\n",
      "Iteration 156, loss = 0.29458413\n",
      "Iteration 157, loss = 0.29402217\n",
      "Iteration 158, loss = 0.29369817\n",
      "Iteration 159, loss = 0.29365880\n",
      "Iteration 160, loss = 0.29246912\n",
      "Iteration 161, loss = 0.29330872\n",
      "Iteration 162, loss = 0.29191367\n",
      "Iteration 163, loss = 0.29211167\n",
      "Iteration 164, loss = 0.29043357\n",
      "Iteration 165, loss = 0.28949866\n",
      "Iteration 166, loss = 0.29150517\n",
      "Iteration 167, loss = 0.28953089\n",
      "Iteration 168, loss = 0.28867321\n",
      "Iteration 169, loss = 0.28946742\n",
      "Iteration 170, loss = 0.28911226\n",
      "Iteration 171, loss = 0.28907059\n",
      "Iteration 172, loss = 0.28831362\n",
      "Iteration 173, loss = 0.28703463\n",
      "Iteration 174, loss = 0.28743108\n",
      "Iteration 175, loss = 0.28717747\n",
      "Iteration 176, loss = 0.28706500\n",
      "Iteration 177, loss = 0.28785639\n",
      "Iteration 178, loss = 0.28467333\n",
      "Iteration 179, loss = 0.28795944\n",
      "Iteration 180, loss = 0.28579448\n",
      "Iteration 181, loss = 0.28353899\n",
      "Iteration 182, loss = 0.28876089\n",
      "Iteration 183, loss = 0.28503516\n",
      "Iteration 184, loss = 0.28460050\n",
      "Iteration 185, loss = 0.28306813\n",
      "Iteration 186, loss = 0.28534386\n",
      "Iteration 187, loss = 0.28199279\n",
      "Iteration 188, loss = 0.28209993\n",
      "Iteration 189, loss = 0.28327576\n",
      "Iteration 190, loss = 0.28314189\n",
      "Iteration 191, loss = 0.28095878\n",
      "Iteration 192, loss = 0.28137814\n",
      "Iteration 193, loss = 0.28108921\n",
      "Iteration 194, loss = 0.27996227\n",
      "Iteration 195, loss = 0.28138247\n",
      "Iteration 196, loss = 0.28169386\n",
      "Iteration 197, loss = 0.27800716\n",
      "Iteration 198, loss = 0.27945450\n",
      "Iteration 199, loss = 0.27870841\n",
      "Iteration 200, loss = 0.28066808\n",
      "Iteration 201, loss = 0.27776764\n",
      "Iteration 202, loss = 0.27660052\n",
      "Iteration 203, loss = 0.27654402\n",
      "Iteration 204, loss = 0.27672863\n",
      "Iteration 205, loss = 0.27576598\n",
      "Iteration 206, loss = 0.27717845\n",
      "Iteration 207, loss = 0.27477437\n",
      "Iteration 208, loss = 0.27642309\n",
      "Iteration 209, loss = 0.27602098\n",
      "Iteration 210, loss = 0.27547279\n",
      "Iteration 211, loss = 0.27521694\n",
      "Iteration 212, loss = 0.27483533\n",
      "Iteration 213, loss = 0.27627426\n",
      "Iteration 214, loss = 0.27437115\n",
      "Iteration 215, loss = 0.27429559\n",
      "Iteration 216, loss = 0.27464575\n",
      "Iteration 217, loss = 0.27399871\n",
      "Iteration 218, loss = 0.27213883\n",
      "Iteration 219, loss = 0.27152783\n",
      "Iteration 220, loss = 0.27007681\n",
      "Iteration 221, loss = 0.27136231\n",
      "Iteration 222, loss = 0.27238358\n",
      "Iteration 223, loss = 0.27199829\n",
      "Iteration 224, loss = 0.27216186\n",
      "Iteration 225, loss = 0.26992061\n",
      "Iteration 226, loss = 0.27100202\n",
      "Iteration 227, loss = 0.27007348\n",
      "Iteration 228, loss = 0.27051048\n",
      "Iteration 229, loss = 0.26980150\n",
      "Iteration 230, loss = 0.27027505\n",
      "Iteration 231, loss = 0.26809342\n",
      "Iteration 232, loss = 0.26923130\n",
      "Iteration 233, loss = 0.26787056\n",
      "Iteration 234, loss = 0.26770682\n",
      "Iteration 235, loss = 0.26662953\n",
      "Iteration 236, loss = 0.26873945\n",
      "Iteration 237, loss = 0.26640792\n",
      "Iteration 238, loss = 0.26842089\n",
      "Iteration 239, loss = 0.26583261\n",
      "Iteration 240, loss = 0.26563103\n",
      "Iteration 241, loss = 0.26546058\n",
      "Iteration 242, loss = 0.26559137\n",
      "Iteration 243, loss = 0.26532083\n",
      "Iteration 244, loss = 0.26709924\n",
      "Iteration 245, loss = 0.26494197\n",
      "Iteration 246, loss = 0.26677050\n",
      "Iteration 247, loss = 0.26437951\n",
      "Iteration 248, loss = 0.26323172\n",
      "Iteration 249, loss = 0.26366045\n",
      "Iteration 250, loss = 0.26545611\n",
      "Iteration 251, loss = 0.26411949\n",
      "Iteration 252, loss = 0.26296917\n",
      "Iteration 253, loss = 0.26384535\n",
      "Iteration 254, loss = 0.26195548\n",
      "Iteration 255, loss = 0.26333782\n",
      "Iteration 256, loss = 0.26143885\n",
      "Iteration 257, loss = 0.26288256\n",
      "Iteration 258, loss = 0.26288949\n",
      "Iteration 259, loss = 0.25951503\n",
      "Iteration 260, loss = 0.25987406\n",
      "Iteration 261, loss = 0.26105633\n",
      "Iteration 262, loss = 0.26243788\n",
      "Iteration 263, loss = 0.26088458\n",
      "Iteration 264, loss = 0.26039950\n",
      "Iteration 265, loss = 0.25871191\n",
      "Iteration 266, loss = 0.25923880\n",
      "Iteration 267, loss = 0.25877193\n",
      "Iteration 268, loss = 0.25799310\n",
      "Iteration 269, loss = 0.26032328\n",
      "Iteration 270, loss = 0.25996351\n",
      "Iteration 271, loss = 0.26015502\n",
      "Iteration 272, loss = 0.25794541\n",
      "Iteration 273, loss = 0.25836722\n",
      "Iteration 274, loss = 0.25929495\n",
      "Iteration 275, loss = 0.25778062\n",
      "Iteration 276, loss = 0.25757074\n",
      "Iteration 277, loss = 0.25611769\n",
      "Iteration 278, loss = 0.25798117\n",
      "Iteration 279, loss = 0.25679610\n",
      "Iteration 280, loss = 0.25606977\n",
      "Iteration 281, loss = 0.25766441\n",
      "Iteration 282, loss = 0.25436287\n",
      "Iteration 283, loss = 0.25703444\n",
      "Iteration 284, loss = 0.25679588\n",
      "Iteration 285, loss = 0.25672396\n",
      "Iteration 286, loss = 0.25523418\n",
      "Iteration 287, loss = 0.25455703\n",
      "Iteration 288, loss = 0.25644341\n",
      "Iteration 289, loss = 0.25506380\n",
      "Iteration 290, loss = 0.25275750\n",
      "Iteration 291, loss = 0.25441205\n",
      "Iteration 292, loss = 0.25374232\n",
      "Iteration 293, loss = 0.25187491\n",
      "Iteration 294, loss = 0.25170163\n",
      "Iteration 295, loss = 0.25424621\n",
      "Iteration 296, loss = 0.25390814\n",
      "Iteration 297, loss = 0.25324424\n",
      "Iteration 298, loss = 0.25200565\n",
      "Iteration 299, loss = 0.25125173\n",
      "Iteration 300, loss = 0.25338766\n",
      "Iteration 301, loss = 0.25181707\n",
      "Iteration 302, loss = 0.25307285\n",
      "Iteration 303, loss = 0.25265245\n",
      "Iteration 304, loss = 0.25091129\n",
      "Iteration 305, loss = 0.25275367\n",
      "Iteration 306, loss = 0.24822135\n",
      "Iteration 307, loss = 0.25166364\n",
      "Iteration 308, loss = 0.25000607\n",
      "Iteration 309, loss = 0.24976819\n",
      "Iteration 310, loss = 0.24910722\n",
      "Iteration 311, loss = 0.25216708\n",
      "Iteration 312, loss = 0.25121393\n",
      "Iteration 313, loss = 0.24985733\n",
      "Iteration 314, loss = 0.24850635\n",
      "Iteration 315, loss = 0.24851733\n",
      "Iteration 316, loss = 0.24937570\n",
      "Iteration 317, loss = 0.24894407\n",
      "Training loss did not improve more than tol=0.000100 for 10 consecutive epochs. Stopping.\n",
      "Accuracy:  0.8208340041861214\n",
      "Train  1\n",
      "Iteration 1, loss = 0.58181346\n",
      "Iteration 2, loss = 0.48479479\n",
      "Iteration 3, loss = 0.45801173\n",
      "Iteration 4, loss = 0.44790432\n",
      "Iteration 5, loss = 0.43601068\n",
      "Iteration 6, loss = 0.43416235\n",
      "Iteration 7, loss = 0.42942067\n",
      "Iteration 8, loss = 0.42646314\n",
      "Iteration 9, loss = 0.42356150\n",
      "Iteration 10, loss = 0.42019640\n",
      "Iteration 11, loss = 0.41855561\n",
      "Iteration 12, loss = 0.41484869\n",
      "Iteration 13, loss = 0.41383841\n",
      "Iteration 14, loss = 0.41193232\n",
      "Iteration 15, loss = 0.41112097\n",
      "Iteration 16, loss = 0.40774889\n",
      "Iteration 17, loss = 0.40381057\n",
      "Iteration 18, loss = 0.40514100\n",
      "Iteration 19, loss = 0.40204203\n",
      "Iteration 20, loss = 0.40081486\n",
      "Iteration 21, loss = 0.39767593\n",
      "Iteration 22, loss = 0.39614079\n",
      "Iteration 23, loss = 0.39461506\n",
      "Iteration 24, loss = 0.39545824\n",
      "Iteration 25, loss = 0.39208202\n",
      "Iteration 26, loss = 0.39220872\n",
      "Iteration 27, loss = 0.38818951\n",
      "Iteration 28, loss = 0.38831767\n",
      "Iteration 29, loss = 0.38716499\n",
      "Iteration 30, loss = 0.38463757\n",
      "Iteration 31, loss = 0.38361809\n",
      "Iteration 32, loss = 0.38167269\n",
      "Iteration 33, loss = 0.38099442\n",
      "Iteration 34, loss = 0.38090583\n",
      "Iteration 35, loss = 0.37659498\n",
      "Iteration 36, loss = 0.37641721\n",
      "Iteration 37, loss = 0.37617943\n",
      "Iteration 38, loss = 0.37613153\n",
      "Iteration 39, loss = 0.37257600\n",
      "Iteration 40, loss = 0.37221966\n",
      "Iteration 41, loss = 0.37097997\n",
      "Iteration 42, loss = 0.37190870\n",
      "Iteration 43, loss = 0.36870605\n",
      "Iteration 44, loss = 0.36912447\n",
      "Iteration 45, loss = 0.36678858\n",
      "Iteration 46, loss = 0.36542777\n",
      "Iteration 47, loss = 0.36554380\n",
      "Iteration 48, loss = 0.36389885\n",
      "Iteration 49, loss = 0.36228612\n",
      "Iteration 50, loss = 0.36239209\n",
      "Iteration 51, loss = 0.36010861\n",
      "Iteration 52, loss = 0.36052888\n",
      "Iteration 53, loss = 0.35984330\n",
      "Iteration 54, loss = 0.35767064\n",
      "Iteration 55, loss = 0.35639343\n",
      "Iteration 56, loss = 0.35753217\n",
      "Iteration 57, loss = 0.35450691\n",
      "Iteration 58, loss = 0.35206889\n",
      "Iteration 59, loss = 0.35331793\n",
      "Iteration 60, loss = 0.35219409\n",
      "Iteration 61, loss = 0.35213238\n",
      "Iteration 62, loss = 0.34996071\n",
      "Iteration 63, loss = 0.34867714\n",
      "Iteration 64, loss = 0.34930871\n",
      "Iteration 65, loss = 0.34736418\n",
      "Iteration 66, loss = 0.34741042\n",
      "Iteration 67, loss = 0.34581622\n",
      "Iteration 68, loss = 0.34502198\n",
      "Iteration 69, loss = 0.34491692\n",
      "Iteration 70, loss = 0.34298579\n",
      "Iteration 71, loss = 0.34369744\n",
      "Iteration 72, loss = 0.34255821\n",
      "Iteration 73, loss = 0.34267434\n",
      "Iteration 74, loss = 0.34034930\n",
      "Iteration 75, loss = 0.34065354\n",
      "Iteration 76, loss = 0.33702641\n",
      "Iteration 77, loss = 0.33896224\n",
      "Iteration 78, loss = 0.33799264\n",
      "Iteration 79, loss = 0.33703272\n",
      "Iteration 80, loss = 0.33590299\n",
      "Iteration 81, loss = 0.33515802\n",
      "Iteration 82, loss = 0.33581953\n",
      "Iteration 83, loss = 0.33348575\n",
      "Iteration 84, loss = 0.33211254\n",
      "Iteration 85, loss = 0.33167617\n",
      "Iteration 86, loss = 0.33046909\n",
      "Iteration 87, loss = 0.33036645\n",
      "Iteration 88, loss = 0.33062381\n",
      "Iteration 89, loss = 0.32995347\n",
      "Iteration 90, loss = 0.32890860\n",
      "Iteration 91, loss = 0.32718654\n",
      "Iteration 92, loss = 0.32775296\n",
      "Iteration 93, loss = 0.32650010\n",
      "Iteration 94, loss = 0.32540925\n",
      "Iteration 95, loss = 0.32394011\n",
      "Iteration 96, loss = 0.32449369\n",
      "Iteration 97, loss = 0.32308581\n",
      "Iteration 98, loss = 0.32345484\n",
      "Iteration 99, loss = 0.32299050\n",
      "Iteration 100, loss = 0.32291986\n",
      "Iteration 101, loss = 0.31980974\n",
      "Iteration 102, loss = 0.32060959\n",
      "Iteration 103, loss = 0.31990150\n",
      "Iteration 104, loss = 0.31868103\n",
      "Iteration 105, loss = 0.32037842\n",
      "Iteration 106, loss = 0.31743350\n",
      "Iteration 107, loss = 0.31780874\n",
      "Iteration 108, loss = 0.31702898\n",
      "Iteration 109, loss = 0.31553996\n",
      "Iteration 110, loss = 0.31694056\n",
      "Iteration 111, loss = 0.31385924\n",
      "Iteration 112, loss = 0.31622172\n",
      "Iteration 113, loss = 0.31383909\n",
      "Iteration 114, loss = 0.31325846\n",
      "Iteration 115, loss = 0.31294021\n",
      "Iteration 116, loss = 0.31253932\n",
      "Iteration 117, loss = 0.31120086\n",
      "Iteration 118, loss = 0.31005834\n",
      "Iteration 119, loss = 0.31156647\n",
      "Iteration 120, loss = 0.31031994\n",
      "Iteration 121, loss = 0.31023037\n",
      "Iteration 122, loss = 0.30965853\n",
      "Iteration 123, loss = 0.30762329\n",
      "Iteration 124, loss = 0.30858229\n",
      "Iteration 125, loss = 0.30770026\n",
      "Iteration 126, loss = 0.30675216\n",
      "Iteration 127, loss = 0.30790128\n",
      "Iteration 128, loss = 0.30577155\n",
      "Iteration 129, loss = 0.30308669\n",
      "Iteration 130, loss = 0.30580712\n",
      "Iteration 131, loss = 0.30496557\n",
      "Iteration 132, loss = 0.30405152\n",
      "Iteration 133, loss = 0.30250874\n",
      "Iteration 134, loss = 0.30170979\n",
      "Iteration 135, loss = 0.30213431\n",
      "Iteration 136, loss = 0.30200461\n",
      "Iteration 137, loss = 0.30125029\n",
      "Iteration 138, loss = 0.30021054\n",
      "Iteration 139, loss = 0.29978163\n",
      "Iteration 140, loss = 0.29960486\n",
      "Iteration 141, loss = 0.30165397\n",
      "Iteration 142, loss = 0.30021219\n",
      "Iteration 143, loss = 0.29884150\n",
      "Iteration 144, loss = 0.29662300\n",
      "Iteration 145, loss = 0.29796013\n",
      "Iteration 146, loss = 0.29645656\n",
      "Iteration 147, loss = 0.29572042\n",
      "Iteration 148, loss = 0.29522458\n",
      "Iteration 149, loss = 0.29499073\n",
      "Iteration 150, loss = 0.29662940\n",
      "Iteration 151, loss = 0.29380298\n",
      "Iteration 152, loss = 0.29467929\n",
      "Iteration 153, loss = 0.29436816\n",
      "Iteration 154, loss = 0.29373091\n",
      "Iteration 155, loss = 0.29294444\n",
      "Iteration 156, loss = 0.29281694\n",
      "Iteration 157, loss = 0.29269395\n",
      "Iteration 158, loss = 0.29317434\n",
      "Iteration 159, loss = 0.29158359\n",
      "Iteration 160, loss = 0.28962442\n",
      "Iteration 161, loss = 0.29141482\n",
      "Iteration 162, loss = 0.28915394\n",
      "Iteration 163, loss = 0.29106104\n",
      "Iteration 164, loss = 0.28946360\n",
      "Iteration 165, loss = 0.28853354\n",
      "Iteration 166, loss = 0.28718486\n",
      "Iteration 167, loss = 0.28824525\n",
      "Iteration 168, loss = 0.28693062\n",
      "Iteration 169, loss = 0.28823565\n",
      "Iteration 170, loss = 0.28477923\n",
      "Iteration 171, loss = 0.28829936\n",
      "Iteration 172, loss = 0.28684329\n",
      "Iteration 173, loss = 0.28670048\n",
      "Iteration 174, loss = 0.28434864\n",
      "Iteration 175, loss = 0.28581474\n",
      "Iteration 176, loss = 0.28449988\n",
      "Iteration 177, loss = 0.28382319\n",
      "Iteration 178, loss = 0.28419201\n",
      "Iteration 179, loss = 0.28370475\n",
      "Iteration 180, loss = 0.28260762\n",
      "Iteration 181, loss = 0.28381181\n",
      "Iteration 182, loss = 0.28315710\n",
      "Iteration 183, loss = 0.28277395\n",
      "Iteration 184, loss = 0.28164950\n",
      "Iteration 185, loss = 0.28153600\n",
      "Iteration 186, loss = 0.28127394\n",
      "Iteration 187, loss = 0.28088925\n",
      "Iteration 188, loss = 0.28034076\n",
      "Iteration 189, loss = 0.27968328\n",
      "Iteration 190, loss = 0.28016934\n",
      "Iteration 191, loss = 0.27923003\n",
      "Iteration 192, loss = 0.27762517\n",
      "Iteration 193, loss = 0.27897044\n",
      "Iteration 194, loss = 0.27829476\n",
      "Iteration 195, loss = 0.27939498\n",
      "Iteration 196, loss = 0.27709912\n",
      "Iteration 197, loss = 0.27634763\n",
      "Iteration 198, loss = 0.27603852\n",
      "Iteration 199, loss = 0.27696014\n",
      "Iteration 200, loss = 0.27522172\n",
      "Iteration 201, loss = 0.27471109\n",
      "Iteration 202, loss = 0.27564848\n",
      "Iteration 203, loss = 0.27339645\n",
      "Iteration 204, loss = 0.27494001\n",
      "Iteration 205, loss = 0.27297492\n",
      "Iteration 206, loss = 0.27434708\n",
      "Iteration 207, loss = 0.27363779\n",
      "Iteration 208, loss = 0.27217291\n",
      "Iteration 209, loss = 0.27434342\n",
      "Iteration 210, loss = 0.27262019\n",
      "Iteration 211, loss = 0.27283337\n",
      "Iteration 212, loss = 0.27260240\n",
      "Iteration 213, loss = 0.27050470\n",
      "Iteration 214, loss = 0.27251357\n",
      "Iteration 215, loss = 0.27263146\n",
      "Iteration 216, loss = 0.27283487\n",
      "Iteration 217, loss = 0.27132870\n",
      "Iteration 218, loss = 0.26843942\n",
      "Iteration 219, loss = 0.26965713\n",
      "Iteration 220, loss = 0.26849522\n",
      "Iteration 221, loss = 0.27008512\n",
      "Iteration 222, loss = 0.26864791\n",
      "Iteration 223, loss = 0.26761416\n",
      "Iteration 224, loss = 0.26757577\n",
      "Iteration 225, loss = 0.26942980\n",
      "Iteration 226, loss = 0.26660367\n",
      "Iteration 227, loss = 0.26924860\n",
      "Iteration 228, loss = 0.26850539\n",
      "Iteration 229, loss = 0.26742157\n",
      "Iteration 230, loss = 0.26619889\n",
      "Iteration 231, loss = 0.26866721\n",
      "Iteration 232, loss = 0.26583757\n",
      "Iteration 233, loss = 0.26544947\n",
      "Iteration 234, loss = 0.26496517\n",
      "Iteration 235, loss = 0.26486433\n",
      "Iteration 236, loss = 0.26658883\n",
      "Iteration 237, loss = 0.26282762\n",
      "Iteration 238, loss = 0.26409238\n",
      "Iteration 239, loss = 0.26737514\n",
      "Iteration 240, loss = 0.26562739\n",
      "Iteration 241, loss = 0.26399901\n",
      "Iteration 242, loss = 0.26356822\n",
      "Iteration 243, loss = 0.26343410\n",
      "Iteration 244, loss = 0.26292245\n",
      "Iteration 245, loss = 0.26308794\n",
      "Iteration 246, loss = 0.26163715\n",
      "Iteration 247, loss = 0.26063207\n",
      "Iteration 248, loss = 0.26199664\n",
      "Iteration 249, loss = 0.26172033\n",
      "Iteration 250, loss = 0.26397318\n",
      "Iteration 251, loss = 0.26112934\n",
      "Iteration 252, loss = 0.26013603\n",
      "Iteration 253, loss = 0.26196160\n",
      "Iteration 254, loss = 0.26117470\n",
      "Iteration 255, loss = 0.26125287\n",
      "Iteration 256, loss = 0.25745959\n",
      "Iteration 257, loss = 0.26195301\n",
      "Iteration 258, loss = 0.25868430\n",
      "Iteration 259, loss = 0.25909869\n",
      "Iteration 260, loss = 0.25989813\n",
      "Iteration 261, loss = 0.25788701\n",
      "Iteration 262, loss = 0.25952914\n",
      "Iteration 263, loss = 0.25728490\n",
      "Iteration 264, loss = 0.25899402\n",
      "Iteration 265, loss = 0.25780812\n",
      "Iteration 266, loss = 0.25813590\n",
      "Iteration 267, loss = 0.25656444\n",
      "Iteration 268, loss = 0.25716029\n",
      "Iteration 269, loss = 0.25843813\n",
      "Iteration 270, loss = 0.25563714\n",
      "Iteration 271, loss = 0.25683837\n",
      "Iteration 272, loss = 0.25853208\n",
      "Iteration 273, loss = 0.25678481\n",
      "Iteration 274, loss = 0.25576832\n",
      "Iteration 275, loss = 0.25524019\n",
      "Iteration 276, loss = 0.25864108\n",
      "Iteration 277, loss = 0.25709048\n",
      "Iteration 278, loss = 0.25232552\n",
      "Iteration 279, loss = 0.25508267\n",
      "Iteration 280, loss = 0.25530969\n",
      "Iteration 281, loss = 0.25500681\n",
      "Iteration 282, loss = 0.25506187\n",
      "Iteration 283, loss = 0.25548653\n",
      "Iteration 284, loss = 0.25351527\n",
      "Iteration 285, loss = 0.25289849\n",
      "Iteration 286, loss = 0.25557361\n",
      "Iteration 287, loss = 0.25271825\n",
      "Iteration 288, loss = 0.25217453\n",
      "Iteration 289, loss = 0.25311202\n",
      "Iteration 290, loss = 0.25173804\n",
      "Iteration 291, loss = 0.25294793\n",
      "Iteration 292, loss = 0.25216438\n",
      "Iteration 293, loss = 0.25126805\n",
      "Iteration 294, loss = 0.25203675\n",
      "Iteration 295, loss = 0.25174226\n",
      "Iteration 296, loss = 0.25107980\n",
      "Iteration 297, loss = 0.25053982\n",
      "Iteration 298, loss = 0.25036246\n",
      "Iteration 299, loss = 0.25193448\n",
      "Iteration 300, loss = 0.24924192\n",
      "Iteration 301, loss = 0.25071478\n",
      "Iteration 302, loss = 0.25103989\n",
      "Iteration 303, loss = 0.25046739\n",
      "Iteration 304, loss = 0.24842332\n",
      "Iteration 305, loss = 0.24975768\n",
      "Iteration 306, loss = 0.24863982\n",
      "Iteration 307, loss = 0.24910077\n",
      "Iteration 308, loss = 0.24903873\n",
      "Iteration 309, loss = 0.24837526\n",
      "Iteration 310, loss = 0.24864223\n",
      "Iteration 311, loss = 0.24775721\n",
      "Iteration 312, loss = 0.24640745\n",
      "Iteration 313, loss = 0.24717643\n",
      "Iteration 314, loss = 0.24823421\n",
      "Iteration 315, loss = 0.24709711\n",
      "Iteration 316, loss = 0.24469384\n",
      "Iteration 317, loss = 0.24514336\n",
      "Iteration 318, loss = 0.24617808\n",
      "Iteration 319, loss = 0.24705133\n",
      "Iteration 320, loss = 0.24536923\n",
      "Iteration 321, loss = 0.24466649\n",
      "Iteration 322, loss = 0.24626727\n",
      "Iteration 323, loss = 0.24514433\n",
      "Iteration 324, loss = 0.24418176\n",
      "Iteration 325, loss = 0.24646792\n",
      "Iteration 326, loss = 0.24347282\n",
      "Iteration 327, loss = 0.24298328\n",
      "Iteration 328, loss = 0.24476878\n",
      "Iteration 329, loss = 0.24360449\n",
      "Iteration 330, loss = 0.24107873\n",
      "Iteration 331, loss = 0.24407661\n",
      "Iteration 332, loss = 0.24478058\n",
      "Iteration 333, loss = 0.24278067\n",
      "Iteration 334, loss = 0.24352177\n",
      "Iteration 335, loss = 0.24348186\n",
      "Iteration 336, loss = 0.24198991\n",
      "Iteration 337, loss = 0.24143249\n",
      "Iteration 338, loss = 0.24219753\n",
      "Iteration 339, loss = 0.24384174\n",
      "Iteration 340, loss = 0.24225548\n",
      "Iteration 341, loss = 0.24347568\n",
      "Training loss did not improve more than tol=0.000100 for 10 consecutive epochs. Stopping.\n",
      "Accuracy:  0.8169376911930446\n",
      "Train  2\n",
      "Iteration 1, loss = 0.58458462\n",
      "Iteration 2, loss = 0.48563381\n",
      "Iteration 3, loss = 0.45853887\n",
      "Iteration 4, loss = 0.44637031\n",
      "Iteration 5, loss = 0.44388067\n",
      "Iteration 6, loss = 0.43711495\n",
      "Iteration 7, loss = 0.43367078\n",
      "Iteration 8, loss = 0.43013723\n",
      "Iteration 9, loss = 0.42775344\n",
      "Iteration 10, loss = 0.42434109\n",
      "Iteration 11, loss = 0.42123784\n",
      "Iteration 12, loss = 0.41758634\n",
      "Iteration 13, loss = 0.41702122\n",
      "Iteration 14, loss = 0.41439134\n",
      "Iteration 15, loss = 0.41399737\n",
      "Iteration 16, loss = 0.40818777\n",
      "Iteration 17, loss = 0.40844616\n",
      "Iteration 18, loss = 0.40622926\n",
      "Iteration 19, loss = 0.40360646\n",
      "Iteration 20, loss = 0.40367058\n",
      "Iteration 21, loss = 0.40032772\n",
      "Iteration 22, loss = 0.39925462\n",
      "Iteration 23, loss = 0.39898280\n",
      "Iteration 24, loss = 0.39540285\n",
      "Iteration 25, loss = 0.39517420\n",
      "Iteration 26, loss = 0.39112010\n",
      "Iteration 27, loss = 0.39169105\n",
      "Iteration 28, loss = 0.38999587\n",
      "Iteration 29, loss = 0.38727047\n",
      "Iteration 30, loss = 0.38707838\n",
      "Iteration 31, loss = 0.38468502\n",
      "Iteration 32, loss = 0.38422270\n",
      "Iteration 33, loss = 0.38152260\n",
      "Iteration 34, loss = 0.38088443\n",
      "Iteration 35, loss = 0.37982901\n",
      "Iteration 36, loss = 0.37618379\n",
      "Iteration 37, loss = 0.37623113\n",
      "Iteration 38, loss = 0.37495872\n",
      "Iteration 39, loss = 0.37309733\n",
      "Iteration 40, loss = 0.37227859\n",
      "Iteration 41, loss = 0.37008279\n",
      "Iteration 42, loss = 0.37022688\n",
      "Iteration 43, loss = 0.36724083\n",
      "Iteration 44, loss = 0.36794369\n",
      "Iteration 45, loss = 0.36600638\n",
      "Iteration 46, loss = 0.36522462\n",
      "Iteration 47, loss = 0.36386186\n",
      "Iteration 48, loss = 0.36374855\n",
      "Iteration 49, loss = 0.36155561\n",
      "Iteration 50, loss = 0.36242599\n",
      "Iteration 51, loss = 0.35925531\n",
      "Iteration 52, loss = 0.35770456\n",
      "Iteration 53, loss = 0.35770044\n",
      "Iteration 54, loss = 0.35831196\n",
      "Iteration 55, loss = 0.35583683\n",
      "Iteration 56, loss = 0.35546782\n",
      "Iteration 57, loss = 0.35484857\n",
      "Iteration 58, loss = 0.35219828\n",
      "Iteration 59, loss = 0.35349658\n",
      "Iteration 60, loss = 0.35260006\n",
      "Iteration 61, loss = 0.35026425\n",
      "Iteration 62, loss = 0.34891257\n",
      "Iteration 63, loss = 0.34923456\n",
      "Iteration 64, loss = 0.34894195\n",
      "Iteration 65, loss = 0.34726427\n",
      "Iteration 66, loss = 0.34670678\n",
      "Iteration 67, loss = 0.34478532\n",
      "Iteration 68, loss = 0.34544775\n",
      "Iteration 69, loss = 0.34445921\n",
      "Iteration 70, loss = 0.34292851\n",
      "Iteration 71, loss = 0.34267039\n",
      "Iteration 72, loss = 0.34222145\n",
      "Iteration 73, loss = 0.34065993\n",
      "Iteration 74, loss = 0.34086232\n",
      "Iteration 75, loss = 0.33861976\n",
      "Iteration 76, loss = 0.33882561\n",
      "Iteration 77, loss = 0.33764577\n",
      "Iteration 78, loss = 0.33586287\n",
      "Iteration 79, loss = 0.33722287\n",
      "Iteration 80, loss = 0.33664518\n",
      "Iteration 81, loss = 0.33569808\n",
      "Iteration 82, loss = 0.33601661\n",
      "Iteration 83, loss = 0.33319811\n",
      "Iteration 84, loss = 0.33304260\n",
      "Iteration 85, loss = 0.33171500\n",
      "Iteration 86, loss = 0.33077207\n",
      "Iteration 87, loss = 0.33117924\n",
      "Iteration 88, loss = 0.32914247\n",
      "Iteration 89, loss = 0.32772225\n",
      "Iteration 90, loss = 0.32838200\n",
      "Iteration 91, loss = 0.32818536\n",
      "Iteration 92, loss = 0.32788938\n",
      "Iteration 93, loss = 0.32425197\n",
      "Iteration 94, loss = 0.32451359\n",
      "Iteration 95, loss = 0.32622764\n",
      "Iteration 96, loss = 0.32373488\n",
      "Iteration 97, loss = 0.32318375\n",
      "Iteration 98, loss = 0.32408281\n",
      "Iteration 99, loss = 0.32142789\n",
      "Iteration 100, loss = 0.32173663\n",
      "Iteration 101, loss = 0.32185626\n",
      "Iteration 102, loss = 0.31914676\n",
      "Iteration 103, loss = 0.31984128\n",
      "Iteration 104, loss = 0.31879341\n",
      "Iteration 105, loss = 0.31994626\n",
      "Iteration 106, loss = 0.31943039\n",
      "Iteration 107, loss = 0.31804240\n",
      "Iteration 108, loss = 0.31799846\n",
      "Iteration 109, loss = 0.31767367\n",
      "Iteration 110, loss = 0.31686154\n",
      "Iteration 111, loss = 0.31659356\n",
      "Iteration 112, loss = 0.31488713\n",
      "Iteration 113, loss = 0.31351716\n",
      "Iteration 114, loss = 0.31582861\n",
      "Iteration 115, loss = 0.31353370\n",
      "Iteration 116, loss = 0.31359142\n",
      "Iteration 117, loss = 0.31255522\n",
      "Iteration 118, loss = 0.31051689\n",
      "Iteration 119, loss = 0.31067657\n",
      "Iteration 120, loss = 0.31052992\n",
      "Iteration 121, loss = 0.31027643\n",
      "Iteration 122, loss = 0.30813025\n",
      "Iteration 123, loss = 0.31059111\n",
      "Iteration 124, loss = 0.30652616\n",
      "Iteration 125, loss = 0.30786786\n",
      "Iteration 126, loss = 0.30708005\n",
      "Iteration 127, loss = 0.30533155\n",
      "Iteration 128, loss = 0.30611955\n",
      "Iteration 129, loss = 0.30488884\n",
      "Iteration 130, loss = 0.30643786\n",
      "Iteration 131, loss = 0.30640800\n",
      "Iteration 132, loss = 0.30174795\n",
      "Iteration 133, loss = 0.30370930\n",
      "Iteration 134, loss = 0.30291777\n",
      "Iteration 135, loss = 0.30096901\n",
      "Iteration 136, loss = 0.30074059\n",
      "Iteration 137, loss = 0.30224039\n",
      "Iteration 138, loss = 0.30279667\n",
      "Iteration 139, loss = 0.29990647\n",
      "Iteration 140, loss = 0.30125734\n",
      "Iteration 141, loss = 0.29922652\n",
      "Iteration 142, loss = 0.29932424\n",
      "Iteration 143, loss = 0.29805052\n",
      "Iteration 144, loss = 0.29953789\n",
      "Iteration 145, loss = 0.29926026\n",
      "Iteration 146, loss = 0.29646340\n",
      "Iteration 147, loss = 0.29600682\n",
      "Iteration 148, loss = 0.29657812\n",
      "Iteration 149, loss = 0.29742781\n",
      "Iteration 150, loss = 0.29572531\n",
      "Iteration 151, loss = 0.29568106\n",
      "Iteration 152, loss = 0.29662174\n",
      "Iteration 153, loss = 0.29570177\n",
      "Iteration 154, loss = 0.29254620\n",
      "Iteration 155, loss = 0.29396008\n",
      "Iteration 156, loss = 0.29312974\n",
      "Iteration 157, loss = 0.29332635\n",
      "Iteration 158, loss = 0.29418883\n",
      "Iteration 159, loss = 0.29202780\n",
      "Iteration 160, loss = 0.29078914\n",
      "Iteration 161, loss = 0.29346847\n",
      "Iteration 162, loss = 0.29252692\n",
      "Iteration 163, loss = 0.29089200\n",
      "Iteration 164, loss = 0.28991121\n",
      "Iteration 165, loss = 0.28930303\n",
      "Iteration 166, loss = 0.28971771\n",
      "Iteration 167, loss = 0.28936634\n",
      "Iteration 168, loss = 0.28942801\n",
      "Iteration 169, loss = 0.28752117\n",
      "Iteration 170, loss = 0.28747357\n",
      "Iteration 171, loss = 0.28798469\n",
      "Iteration 172, loss = 0.28749572\n",
      "Iteration 173, loss = 0.28882245\n",
      "Iteration 174, loss = 0.28662685\n",
      "Iteration 175, loss = 0.28640748\n",
      "Iteration 176, loss = 0.28575692\n",
      "Iteration 177, loss = 0.28703460\n",
      "Iteration 178, loss = 0.28686199\n",
      "Iteration 179, loss = 0.28681223\n",
      "Iteration 180, loss = 0.28486164\n",
      "Iteration 181, loss = 0.28331968\n",
      "Iteration 182, loss = 0.28508243\n",
      "Iteration 183, loss = 0.28149347\n",
      "Iteration 184, loss = 0.28300771\n",
      "Iteration 185, loss = 0.28172675\n",
      "Iteration 186, loss = 0.28263203\n",
      "Iteration 187, loss = 0.28481613\n",
      "Iteration 188, loss = 0.28090951\n",
      "Iteration 189, loss = 0.28128062\n",
      "Iteration 190, loss = 0.28157021\n",
      "Iteration 191, loss = 0.28007029\n",
      "Iteration 192, loss = 0.28107095\n",
      "Iteration 193, loss = 0.28019772\n",
      "Iteration 194, loss = 0.27836825\n",
      "Iteration 195, loss = 0.27958810\n",
      "Iteration 196, loss = 0.27891544\n",
      "Iteration 197, loss = 0.27816036\n",
      "Iteration 198, loss = 0.27806279\n",
      "Iteration 199, loss = 0.27818918\n",
      "Iteration 200, loss = 0.27811458\n",
      "Iteration 201, loss = 0.27717454\n",
      "Iteration 202, loss = 0.27800766\n",
      "Iteration 203, loss = 0.27627261\n",
      "Iteration 204, loss = 0.27529151\n",
      "Iteration 205, loss = 0.27578298\n",
      "Iteration 206, loss = 0.27670849\n",
      "Iteration 207, loss = 0.27496805\n",
      "Iteration 208, loss = 0.27364197\n",
      "Iteration 209, loss = 0.27603577\n",
      "Iteration 210, loss = 0.27408685\n",
      "Iteration 211, loss = 0.27435368\n",
      "Iteration 212, loss = 0.27409200\n",
      "Iteration 213, loss = 0.27358616\n",
      "Iteration 214, loss = 0.27209252\n",
      "Iteration 215, loss = 0.27372157\n",
      "Iteration 216, loss = 0.27274338\n",
      "Iteration 217, loss = 0.27453081\n",
      "Iteration 218, loss = 0.27237618\n",
      "Iteration 219, loss = 0.27285233\n",
      "Iteration 220, loss = 0.27058711\n",
      "Iteration 221, loss = 0.27272521\n",
      "Iteration 222, loss = 0.26991916\n",
      "Iteration 223, loss = 0.27259289\n",
      "Iteration 224, loss = 0.27081015\n",
      "Iteration 225, loss = 0.26959887\n",
      "Iteration 226, loss = 0.27047557\n",
      "Iteration 227, loss = 0.27006966\n",
      "Iteration 228, loss = 0.26991217\n",
      "Iteration 229, loss = 0.26781128\n",
      "Iteration 230, loss = 0.26723162\n",
      "Iteration 231, loss = 0.26682992\n",
      "Iteration 232, loss = 0.26822577\n",
      "Iteration 233, loss = 0.26873269\n",
      "Iteration 234, loss = 0.26793969\n",
      "Iteration 235, loss = 0.26748886\n",
      "Iteration 236, loss = 0.26794081\n",
      "Iteration 237, loss = 0.26672053\n",
      "Iteration 238, loss = 0.26636867\n",
      "Iteration 239, loss = 0.26858785\n",
      "Iteration 240, loss = 0.26549277\n",
      "Iteration 241, loss = 0.26588506\n",
      "Iteration 242, loss = 0.26569480\n",
      "Iteration 243, loss = 0.26801425\n",
      "Iteration 244, loss = 0.26714114\n",
      "Iteration 245, loss = 0.26364835\n",
      "Iteration 246, loss = 0.26416555\n",
      "Iteration 247, loss = 0.26544991\n",
      "Iteration 248, loss = 0.26421747\n",
      "Iteration 249, loss = 0.26334925\n",
      "Iteration 250, loss = 0.26307380\n",
      "Iteration 251, loss = 0.26243133\n",
      "Iteration 252, loss = 0.26298524\n",
      "Iteration 253, loss = 0.26406894\n",
      "Iteration 254, loss = 0.26185497\n",
      "Iteration 255, loss = 0.26011048\n",
      "Iteration 256, loss = 0.26228208\n",
      "Iteration 257, loss = 0.26271135\n",
      "Iteration 258, loss = 0.26065454\n",
      "Iteration 259, loss = 0.26162065\n",
      "Iteration 260, loss = 0.26051512\n",
      "Iteration 261, loss = 0.25952151\n",
      "Iteration 262, loss = 0.26189956\n",
      "Iteration 263, loss = 0.26052544\n",
      "Iteration 264, loss = 0.25801546\n",
      "Iteration 265, loss = 0.26082898\n",
      "Iteration 266, loss = 0.25909601\n",
      "Iteration 267, loss = 0.25954360\n",
      "Iteration 268, loss = 0.26204730\n",
      "Iteration 269, loss = 0.25851160\n",
      "Iteration 270, loss = 0.25673845\n",
      "Iteration 271, loss = 0.26000148\n",
      "Iteration 272, loss = 0.25796146\n",
      "Iteration 273, loss = 0.25702563\n",
      "Iteration 274, loss = 0.25636722\n",
      "Iteration 275, loss = 0.25622407\n",
      "Iteration 276, loss = 0.25797926\n",
      "Iteration 277, loss = 0.25578216\n",
      "Iteration 278, loss = 0.25707482\n",
      "Iteration 279, loss = 0.25720240\n",
      "Iteration 280, loss = 0.25579735\n",
      "Iteration 281, loss = 0.25790263\n",
      "Iteration 282, loss = 0.25551188\n",
      "Iteration 283, loss = 0.25521915\n",
      "Iteration 284, loss = 0.25639480\n",
      "Iteration 285, loss = 0.25681186\n",
      "Iteration 286, loss = 0.25529284\n",
      "Iteration 287, loss = 0.25445632\n",
      "Iteration 288, loss = 0.25391669\n",
      "Iteration 289, loss = 0.25399073\n",
      "Iteration 290, loss = 0.25490633\n",
      "Iteration 291, loss = 0.25388951\n",
      "Iteration 292, loss = 0.25329177\n",
      "Iteration 293, loss = 0.25420334\n",
      "Iteration 294, loss = 0.25249351\n",
      "Iteration 295, loss = 0.25365579\n",
      "Iteration 296, loss = 0.25356148\n",
      "Iteration 297, loss = 0.25115444\n",
      "Iteration 298, loss = 0.25286283\n",
      "Iteration 299, loss = 0.25265138\n",
      "Iteration 300, loss = 0.24978835\n",
      "Iteration 301, loss = 0.25052811\n",
      "Iteration 302, loss = 0.25007419\n",
      "Iteration 303, loss = 0.25209470\n",
      "Iteration 304, loss = 0.25223375\n",
      "Iteration 305, loss = 0.24977953\n",
      "Iteration 306, loss = 0.25136216\n",
      "Iteration 307, loss = 0.25004061\n",
      "Iteration 308, loss = 0.25079820\n",
      "Iteration 309, loss = 0.24925738\n",
      "Iteration 310, loss = 0.25083985\n",
      "Iteration 311, loss = 0.25073952\n",
      "Iteration 312, loss = 0.24765533\n",
      "Iteration 313, loss = 0.25068897\n",
      "Iteration 314, loss = 0.25039909\n",
      "Iteration 315, loss = 0.24862824\n",
      "Iteration 316, loss = 0.24817975\n",
      "Iteration 317, loss = 0.25049182\n",
      "Iteration 318, loss = 0.24712292\n",
      "Iteration 319, loss = 0.24900694\n",
      "Iteration 320, loss = 0.24799052\n",
      "Iteration 321, loss = 0.24588572\n",
      "Iteration 322, loss = 0.24860438\n",
      "Iteration 323, loss = 0.24762127\n",
      "Iteration 324, loss = 0.24960272\n",
      "Iteration 325, loss = 0.24581646\n",
      "Iteration 326, loss = 0.24757577\n",
      "Iteration 327, loss = 0.24665661\n",
      "Iteration 328, loss = 0.24787728\n",
      "Iteration 329, loss = 0.24634406\n",
      "Iteration 330, loss = 0.24728699\n",
      "Iteration 331, loss = 0.24460046\n",
      "Iteration 332, loss = 0.24655890\n",
      "Iteration 333, loss = 0.24498977\n",
      "Iteration 334, loss = 0.24567837\n",
      "Iteration 335, loss = 0.24401363\n",
      "Iteration 336, loss = 0.24532512\n",
      "Iteration 337, loss = 0.24631347\n",
      "Iteration 338, loss = 0.24521491\n",
      "Iteration 339, loss = 0.24590407\n",
      "Iteration 340, loss = 0.24354048\n",
      "Iteration 341, loss = 0.24241835\n",
      "Iteration 342, loss = 0.24246141\n",
      "Iteration 343, loss = 0.24401514\n",
      "Iteration 344, loss = 0.24553289\n",
      "Iteration 345, loss = 0.24278657\n",
      "Iteration 346, loss = 0.24249857\n",
      "Iteration 347, loss = 0.24307005\n",
      "Iteration 348, loss = 0.24363760\n",
      "Iteration 349, loss = 0.24175631\n",
      "Iteration 350, loss = 0.24236620\n",
      "Iteration 351, loss = 0.24268631\n",
      "Iteration 352, loss = 0.24145662\n",
      "Iteration 353, loss = 0.24112735\n",
      "Iteration 354, loss = 0.23994199\n",
      "Iteration 355, loss = 0.24103550\n",
      "Iteration 356, loss = 0.24128952\n",
      "Iteration 357, loss = 0.24303253\n",
      "Iteration 358, loss = 0.24127961\n",
      "Iteration 359, loss = 0.23943866\n",
      "Iteration 360, loss = 0.23967224\n",
      "Iteration 361, loss = 0.24136129\n",
      "Iteration 362, loss = 0.24198803\n",
      "Iteration 363, loss = 0.23887023\n",
      "Iteration 364, loss = 0.24093125\n",
      "Iteration 365, loss = 0.23912938\n",
      "Iteration 366, loss = 0.24031535\n",
      "Iteration 367, loss = 0.23971557\n",
      "Iteration 368, loss = 0.24167300\n",
      "Iteration 369, loss = 0.23873763\n",
      "Iteration 370, loss = 0.24040997\n",
      "Iteration 371, loss = 0.23779206\n",
      "Iteration 372, loss = 0.23917815\n",
      "Iteration 373, loss = 0.24015989\n",
      "Iteration 374, loss = 0.24004277\n",
      "Iteration 375, loss = 0.23776390\n",
      "Iteration 376, loss = 0.23832405\n",
      "Iteration 377, loss = 0.23708855\n",
      "Iteration 378, loss = 0.23825983\n",
      "Iteration 379, loss = 0.23565673\n",
      "Iteration 380, loss = 0.23682802\n",
      "Iteration 381, loss = 0.23638851\n",
      "Iteration 382, loss = 0.23860927\n",
      "Iteration 383, loss = 0.23825002\n",
      "Iteration 384, loss = 0.23689583\n",
      "Iteration 385, loss = 0.23800430\n",
      "Iteration 386, loss = 0.23655669\n",
      "Iteration 387, loss = 0.23708739\n",
      "Iteration 388, loss = 0.23646862\n",
      "Iteration 389, loss = 0.23740290\n",
      "Iteration 390, loss = 0.23545349\n",
      "Iteration 391, loss = 0.23527891\n",
      "Iteration 392, loss = 0.23652950\n",
      "Iteration 393, loss = 0.23533486\n",
      "Iteration 394, loss = 0.23710576\n",
      "Iteration 395, loss = 0.23597680\n",
      "Iteration 396, loss = 0.23484866\n",
      "Iteration 397, loss = 0.23412743\n",
      "Iteration 398, loss = 0.23504862\n",
      "Iteration 399, loss = 0.23571404\n",
      "Iteration 400, loss = 0.23461348\n",
      "Iteration 401, loss = 0.23191680\n",
      "Iteration 402, loss = 0.23580738\n",
      "Iteration 403, loss = 0.23369833\n",
      "Iteration 404, loss = 0.23480795\n",
      "Iteration 405, loss = 0.23509277\n",
      "Iteration 406, loss = 0.23225086\n",
      "Iteration 407, loss = 0.23547306\n",
      "Iteration 408, loss = 0.23402899\n",
      "Iteration 409, loss = 0.23337485\n",
      "Iteration 410, loss = 0.23373318\n",
      "Iteration 411, loss = 0.23375484\n",
      "Iteration 412, loss = 0.23438077\n",
      "Training loss did not improve more than tol=0.000100 for 10 consecutive epochs. Stopping.\n",
      "Accuracy:  0.8370793753018837\n",
      "Train  3\n",
      "Iteration 1, loss = 0.58604021\n",
      "Iteration 2, loss = 0.48388225\n",
      "Iteration 3, loss = 0.45634887\n",
      "Iteration 4, loss = 0.44342213\n",
      "Iteration 5, loss = 0.43731795\n",
      "Iteration 6, loss = 0.43110563\n",
      "Iteration 7, loss = 0.42745982\n",
      "Iteration 8, loss = 0.42551968\n",
      "Iteration 9, loss = 0.42218709\n",
      "Iteration 10, loss = 0.41829434\n",
      "Iteration 11, loss = 0.41791493\n",
      "Iteration 12, loss = 0.41422123\n",
      "Iteration 13, loss = 0.41162439\n",
      "Iteration 14, loss = 0.41038824\n",
      "Iteration 15, loss = 0.40880972\n",
      "Iteration 16, loss = 0.40605691\n",
      "Iteration 17, loss = 0.40332435\n",
      "Iteration 18, loss = 0.40200391\n",
      "Iteration 19, loss = 0.40036126\n",
      "Iteration 20, loss = 0.39850897\n",
      "Iteration 21, loss = 0.39767614\n",
      "Iteration 22, loss = 0.39585066\n",
      "Iteration 23, loss = 0.39593866\n",
      "Iteration 24, loss = 0.39148503\n",
      "Iteration 25, loss = 0.39065389\n",
      "Iteration 26, loss = 0.38831383\n",
      "Iteration 27, loss = 0.38837271\n",
      "Iteration 28, loss = 0.38504752\n",
      "Iteration 29, loss = 0.38648600\n",
      "Iteration 30, loss = 0.38511533\n",
      "Iteration 31, loss = 0.38185499\n",
      "Iteration 32, loss = 0.38033104\n",
      "Iteration 33, loss = 0.37889209\n",
      "Iteration 34, loss = 0.37674003\n",
      "Iteration 35, loss = 0.37713338\n",
      "Iteration 36, loss = 0.37475758\n",
      "Iteration 37, loss = 0.37282039\n",
      "Iteration 38, loss = 0.37204752\n",
      "Iteration 39, loss = 0.37206371\n",
      "Iteration 40, loss = 0.37133983\n",
      "Iteration 41, loss = 0.36874339\n",
      "Iteration 42, loss = 0.36914853\n",
      "Iteration 43, loss = 0.36742600\n",
      "Iteration 44, loss = 0.36653059\n",
      "Iteration 45, loss = 0.36490829\n",
      "Iteration 46, loss = 0.36414883\n",
      "Iteration 47, loss = 0.36293368\n",
      "Iteration 48, loss = 0.36245676\n",
      "Iteration 49, loss = 0.36067807\n",
      "Iteration 50, loss = 0.35994254\n",
      "Iteration 51, loss = 0.36064939\n",
      "Iteration 52, loss = 0.36003871\n",
      "Iteration 53, loss = 0.35620281\n",
      "Iteration 54, loss = 0.35618918\n",
      "Iteration 55, loss = 0.35626234\n",
      "Iteration 56, loss = 0.35477402\n",
      "Iteration 57, loss = 0.35426960\n",
      "Iteration 58, loss = 0.35215614\n",
      "Iteration 59, loss = 0.35346509\n",
      "Iteration 60, loss = 0.35231989\n",
      "Iteration 61, loss = 0.34988979\n",
      "Iteration 62, loss = 0.35040844\n",
      "Iteration 63, loss = 0.34935712\n",
      "Iteration 64, loss = 0.34757118\n",
      "Iteration 65, loss = 0.34818607\n",
      "Iteration 66, loss = 0.34569214\n",
      "Iteration 67, loss = 0.34358655\n",
      "Iteration 68, loss = 0.34406366\n",
      "Iteration 69, loss = 0.34334636\n",
      "Iteration 70, loss = 0.34350186\n",
      "Iteration 71, loss = 0.34356520\n",
      "Iteration 72, loss = 0.34164246\n",
      "Iteration 73, loss = 0.34145874\n",
      "Iteration 74, loss = 0.33967040\n",
      "Iteration 75, loss = 0.34005091\n",
      "Iteration 76, loss = 0.33998721\n",
      "Iteration 77, loss = 0.33777396\n",
      "Iteration 78, loss = 0.33858421\n",
      "Iteration 79, loss = 0.33570596\n",
      "Iteration 80, loss = 0.33541996\n",
      "Iteration 81, loss = 0.33480037\n",
      "Iteration 82, loss = 0.33456341\n",
      "Iteration 83, loss = 0.33320024\n",
      "Iteration 84, loss = 0.33349197\n",
      "Iteration 85, loss = 0.33184859\n",
      "Iteration 86, loss = 0.33024548\n",
      "Iteration 87, loss = 0.33295635\n",
      "Iteration 88, loss = 0.33044981\n",
      "Iteration 89, loss = 0.32933573\n",
      "Iteration 90, loss = 0.32998133\n",
      "Iteration 91, loss = 0.32666147\n",
      "Iteration 92, loss = 0.32715376\n",
      "Iteration 93, loss = 0.32661467\n",
      "Iteration 94, loss = 0.32612394\n",
      "Iteration 95, loss = 0.32617311\n",
      "Iteration 96, loss = 0.32493442\n",
      "Iteration 97, loss = 0.32694486\n",
      "Iteration 98, loss = 0.32326068\n",
      "Iteration 99, loss = 0.32315135\n",
      "Iteration 100, loss = 0.32359226\n",
      "Iteration 101, loss = 0.32345399\n",
      "Iteration 102, loss = 0.32280326\n",
      "Iteration 103, loss = 0.32186694\n",
      "Iteration 104, loss = 0.32138942\n",
      "Iteration 105, loss = 0.32076098\n",
      "Iteration 106, loss = 0.31911376\n",
      "Iteration 107, loss = 0.32034142\n",
      "Iteration 108, loss = 0.31846669\n",
      "Iteration 109, loss = 0.31841640\n",
      "Iteration 110, loss = 0.31742539\n",
      "Iteration 111, loss = 0.31641021\n",
      "Iteration 112, loss = 0.31759955\n",
      "Iteration 113, loss = 0.31664552\n",
      "Iteration 114, loss = 0.31573838\n",
      "Iteration 115, loss = 0.31548864\n",
      "Iteration 116, loss = 0.31530925\n",
      "Iteration 117, loss = 0.31506793\n",
      "Iteration 118, loss = 0.31317500\n",
      "Iteration 119, loss = 0.31290448\n",
      "Iteration 120, loss = 0.31321989\n",
      "Iteration 121, loss = 0.31199970\n",
      "Iteration 122, loss = 0.31198918\n",
      "Iteration 123, loss = 0.31125026\n",
      "Iteration 124, loss = 0.30960877\n",
      "Iteration 125, loss = 0.31058682\n",
      "Iteration 126, loss = 0.30980698\n",
      "Iteration 127, loss = 0.30992850\n",
      "Iteration 128, loss = 0.30976049\n",
      "Iteration 129, loss = 0.30865737\n",
      "Iteration 130, loss = 0.30842880\n",
      "Iteration 131, loss = 0.30816826\n",
      "Iteration 132, loss = 0.30735292\n",
      "Iteration 133, loss = 0.30474688\n",
      "Iteration 134, loss = 0.30757980\n",
      "Iteration 135, loss = 0.30653287\n",
      "Iteration 136, loss = 0.30694397\n",
      "Iteration 137, loss = 0.30612322\n",
      "Iteration 138, loss = 0.30355064\n",
      "Iteration 139, loss = 0.30374176\n",
      "Iteration 140, loss = 0.30275631\n",
      "Iteration 141, loss = 0.30198299\n",
      "Iteration 142, loss = 0.30355029\n",
      "Iteration 143, loss = 0.30195383\n",
      "Iteration 144, loss = 0.30053554\n",
      "Iteration 145, loss = 0.30187658\n",
      "Iteration 146, loss = 0.30162193\n",
      "Iteration 147, loss = 0.30133499\n",
      "Iteration 148, loss = 0.30155139\n",
      "Iteration 149, loss = 0.29876962\n",
      "Iteration 150, loss = 0.30066721\n",
      "Iteration 151, loss = 0.29905261\n",
      "Iteration 152, loss = 0.29785462\n",
      "Iteration 153, loss = 0.29725157\n",
      "Iteration 154, loss = 0.29901594\n",
      "Iteration 155, loss = 0.29684277\n",
      "Iteration 156, loss = 0.29554745\n",
      "Iteration 157, loss = 0.29546393\n",
      "Iteration 158, loss = 0.29585100\n",
      "Iteration 159, loss = 0.29659123\n",
      "Iteration 160, loss = 0.29515626\n",
      "Iteration 161, loss = 0.29620673\n",
      "Iteration 162, loss = 0.29600783\n",
      "Iteration 163, loss = 0.29319280\n",
      "Iteration 164, loss = 0.29515948\n",
      "Iteration 165, loss = 0.29336972\n",
      "Iteration 166, loss = 0.29415750\n",
      "Iteration 167, loss = 0.29330520\n",
      "Iteration 168, loss = 0.29204204\n",
      "Iteration 169, loss = 0.29269727\n",
      "Iteration 170, loss = 0.29105891\n",
      "Iteration 171, loss = 0.29024452\n",
      "Iteration 172, loss = 0.29192518\n",
      "Iteration 173, loss = 0.28939097\n",
      "Iteration 174, loss = 0.29087977\n",
      "Iteration 175, loss = 0.28976006\n",
      "Iteration 176, loss = 0.28913506\n",
      "Iteration 177, loss = 0.28911980\n",
      "Iteration 178, loss = 0.28811143\n",
      "Iteration 179, loss = 0.28740588\n",
      "Iteration 180, loss = 0.28642614\n",
      "Iteration 181, loss = 0.28918693\n",
      "Iteration 182, loss = 0.28721294\n",
      "Iteration 183, loss = 0.28594304\n",
      "Iteration 184, loss = 0.28680493\n",
      "Iteration 185, loss = 0.28504089\n",
      "Iteration 186, loss = 0.28616828\n",
      "Iteration 187, loss = 0.28637855\n",
      "Iteration 188, loss = 0.28583214\n",
      "Iteration 189, loss = 0.28389808\n",
      "Iteration 190, loss = 0.28418421\n",
      "Iteration 191, loss = 0.28461032\n",
      "Iteration 192, loss = 0.28328173\n",
      "Iteration 193, loss = 0.28329884\n",
      "Iteration 194, loss = 0.28477112\n",
      "Iteration 195, loss = 0.28259920\n",
      "Iteration 196, loss = 0.28307934\n",
      "Iteration 197, loss = 0.28290242\n",
      "Iteration 198, loss = 0.28189984\n",
      "Iteration 199, loss = 0.28074617\n",
      "Iteration 200, loss = 0.28204720\n",
      "Iteration 201, loss = 0.28183994\n",
      "Iteration 202, loss = 0.28072090\n",
      "Iteration 203, loss = 0.28071502\n",
      "Iteration 204, loss = 0.28172053\n",
      "Iteration 205, loss = 0.27819632\n",
      "Iteration 206, loss = 0.28013069\n",
      "Iteration 207, loss = 0.27906673\n",
      "Iteration 208, loss = 0.27916995\n",
      "Iteration 209, loss = 0.27913780\n",
      "Iteration 210, loss = 0.27757578\n",
      "Iteration 211, loss = 0.27703986\n",
      "Iteration 212, loss = 0.27780262\n",
      "Iteration 213, loss = 0.27897986\n",
      "Iteration 214, loss = 0.27810136\n",
      "Iteration 215, loss = 0.27751480\n",
      "Iteration 216, loss = 0.27718698\n",
      "Iteration 217, loss = 0.27521633\n",
      "Iteration 218, loss = 0.27497451\n",
      "Iteration 219, loss = 0.27568169\n",
      "Iteration 220, loss = 0.27444710\n",
      "Iteration 221, loss = 0.27459198\n",
      "Iteration 222, loss = 0.27332007\n",
      "Iteration 223, loss = 0.27480150\n",
      "Iteration 224, loss = 0.27483600\n",
      "Iteration 225, loss = 0.27206733\n",
      "Iteration 226, loss = 0.27324268\n",
      "Iteration 227, loss = 0.27461236\n",
      "Iteration 228, loss = 0.27201342\n",
      "Iteration 229, loss = 0.27312645\n",
      "Iteration 230, loss = 0.27193131\n",
      "Iteration 231, loss = 0.27137163\n",
      "Iteration 232, loss = 0.27028856\n",
      "Iteration 233, loss = 0.27162651\n",
      "Iteration 234, loss = 0.27199387\n",
      "Iteration 235, loss = 0.27191333\n",
      "Iteration 236, loss = 0.26978500\n",
      "Iteration 237, loss = 0.26908778\n",
      "Iteration 238, loss = 0.27014132\n",
      "Iteration 239, loss = 0.27015284\n",
      "Iteration 240, loss = 0.26870499\n",
      "Iteration 241, loss = 0.27067419\n",
      "Iteration 242, loss = 0.27069550\n",
      "Iteration 243, loss = 0.26700726\n",
      "Iteration 244, loss = 0.26927972\n",
      "Iteration 245, loss = 0.26836750\n",
      "Iteration 246, loss = 0.26830459\n",
      "Iteration 247, loss = 0.26862099\n",
      "Iteration 248, loss = 0.26773893\n",
      "Iteration 249, loss = 0.26815547\n",
      "Iteration 250, loss = 0.26661387\n",
      "Iteration 251, loss = 0.26764575\n",
      "Iteration 252, loss = 0.26498787\n",
      "Iteration 253, loss = 0.26568135\n",
      "Iteration 254, loss = 0.26470078\n",
      "Iteration 255, loss = 0.26827559\n",
      "Iteration 256, loss = 0.26602744\n",
      "Iteration 257, loss = 0.26699639\n",
      "Iteration 258, loss = 0.26638252\n",
      "Iteration 259, loss = 0.26425773\n",
      "Iteration 260, loss = 0.26353118\n",
      "Iteration 261, loss = 0.26605914\n",
      "Iteration 262, loss = 0.26505644\n",
      "Iteration 263, loss = 0.26498362\n",
      "Iteration 264, loss = 0.26309462\n",
      "Iteration 265, loss = 0.26285816\n",
      "Iteration 266, loss = 0.26316652\n",
      "Iteration 267, loss = 0.25995252\n",
      "Iteration 268, loss = 0.26222123\n",
      "Iteration 269, loss = 0.26282648\n",
      "Iteration 270, loss = 0.26272055\n",
      "Iteration 271, loss = 0.26242177\n",
      "Iteration 272, loss = 0.26112545\n",
      "Iteration 273, loss = 0.26358311\n",
      "Iteration 274, loss = 0.25953710\n",
      "Iteration 275, loss = 0.26195660\n",
      "Iteration 276, loss = 0.26403119\n",
      "Iteration 277, loss = 0.25919282\n",
      "Iteration 278, loss = 0.25904989\n",
      "Iteration 279, loss = 0.25820985\n",
      "Iteration 280, loss = 0.26096819\n",
      "Iteration 281, loss = 0.25654447\n",
      "Iteration 282, loss = 0.25806674\n",
      "Iteration 283, loss = 0.26053811\n",
      "Iteration 284, loss = 0.26114307\n",
      "Iteration 285, loss = 0.25769829\n",
      "Iteration 286, loss = 0.25979629\n",
      "Iteration 287, loss = 0.25934530\n",
      "Iteration 288, loss = 0.25732204\n",
      "Iteration 289, loss = 0.25749305\n",
      "Iteration 290, loss = 0.25826650\n",
      "Iteration 291, loss = 0.25676168\n",
      "Iteration 292, loss = 0.25688007\n",
      "Training loss did not improve more than tol=0.000100 for 10 consecutive epochs. Stopping.\n",
      "Accuracy:  0.8085654483980036\n",
      "Train  4\n",
      "Iteration 1, loss = 0.58053098\n",
      "Iteration 2, loss = 0.48604924\n",
      "Iteration 3, loss = 0.46438448\n",
      "Iteration 4, loss = 0.44952589\n",
      "Iteration 5, loss = 0.44442678\n",
      "Iteration 6, loss = 0.43933478\n",
      "Iteration 7, loss = 0.43550143\n",
      "Iteration 8, loss = 0.43081583\n",
      "Iteration 9, loss = 0.42691360\n",
      "Iteration 10, loss = 0.42570056\n",
      "Iteration 11, loss = 0.42308033\n",
      "Iteration 12, loss = 0.41900150\n",
      "Iteration 13, loss = 0.41712531\n",
      "Iteration 14, loss = 0.41668113\n",
      "Iteration 15, loss = 0.41325457\n",
      "Iteration 16, loss = 0.41133956\n",
      "Iteration 17, loss = 0.41033149\n",
      "Iteration 18, loss = 0.40773041\n",
      "Iteration 19, loss = 0.40522480\n",
      "Iteration 20, loss = 0.40138820\n",
      "Iteration 21, loss = 0.40127266\n",
      "Iteration 22, loss = 0.39937862\n",
      "Iteration 23, loss = 0.39770097\n",
      "Iteration 24, loss = 0.39559344\n",
      "Iteration 25, loss = 0.39589387\n",
      "Iteration 26, loss = 0.39239280\n",
      "Iteration 27, loss = 0.39164657\n",
      "Iteration 28, loss = 0.38976825\n",
      "Iteration 29, loss = 0.38905369\n",
      "Iteration 30, loss = 0.38676906\n",
      "Iteration 31, loss = 0.38464830\n",
      "Iteration 32, loss = 0.38301086\n",
      "Iteration 33, loss = 0.38236692\n",
      "Iteration 34, loss = 0.38012731\n",
      "Iteration 35, loss = 0.37888744\n",
      "Iteration 36, loss = 0.37842915\n",
      "Iteration 37, loss = 0.37755611\n",
      "Iteration 38, loss = 0.37540950\n",
      "Iteration 39, loss = 0.37520858\n",
      "Iteration 40, loss = 0.37492342\n",
      "Iteration 41, loss = 0.37311986\n",
      "Iteration 42, loss = 0.37152489\n",
      "Iteration 43, loss = 0.36877311\n",
      "Iteration 44, loss = 0.37058625\n",
      "Iteration 45, loss = 0.36744724\n",
      "Iteration 46, loss = 0.36599692\n",
      "Iteration 47, loss = 0.36556494\n",
      "Iteration 48, loss = 0.36613302\n",
      "Iteration 49, loss = 0.36531733\n",
      "Iteration 50, loss = 0.36299326\n",
      "Iteration 51, loss = 0.36196398\n",
      "Iteration 52, loss = 0.36145240\n",
      "Iteration 53, loss = 0.36104976\n",
      "Iteration 54, loss = 0.35793553\n",
      "Iteration 55, loss = 0.35785731\n",
      "Iteration 56, loss = 0.35768160\n",
      "Iteration 57, loss = 0.35521556\n",
      "Iteration 58, loss = 0.35419384\n",
      "Iteration 59, loss = 0.35408038\n",
      "Iteration 60, loss = 0.35427944\n",
      "Iteration 61, loss = 0.35106725\n",
      "Iteration 62, loss = 0.35134266\n",
      "Iteration 63, loss = 0.35218209\n",
      "Iteration 64, loss = 0.34969956\n",
      "Iteration 65, loss = 0.34990514\n",
      "Iteration 66, loss = 0.34799333\n",
      "Iteration 67, loss = 0.34746461\n",
      "Iteration 68, loss = 0.34610592\n",
      "Iteration 69, loss = 0.34601309\n",
      "Iteration 70, loss = 0.34485878\n",
      "Iteration 71, loss = 0.34336449\n",
      "Iteration 72, loss = 0.34276428\n",
      "Iteration 73, loss = 0.34247793\n",
      "Iteration 74, loss = 0.34126982\n",
      "Iteration 75, loss = 0.34083779\n",
      "Iteration 76, loss = 0.33934907\n",
      "Iteration 77, loss = 0.34009976\n",
      "Iteration 78, loss = 0.33788723\n",
      "Iteration 79, loss = 0.33886512\n",
      "Iteration 80, loss = 0.33747258\n",
      "Iteration 81, loss = 0.33400418\n",
      "Iteration 82, loss = 0.33635938\n",
      "Iteration 83, loss = 0.33551508\n",
      "Iteration 84, loss = 0.33311034\n",
      "Iteration 85, loss = 0.33252723\n",
      "Iteration 86, loss = 0.33239003\n",
      "Iteration 87, loss = 0.33058567\n",
      "Iteration 88, loss = 0.32985220\n",
      "Iteration 89, loss = 0.33094532\n",
      "Iteration 90, loss = 0.32907225\n",
      "Iteration 91, loss = 0.32815373\n",
      "Iteration 92, loss = 0.32857604\n",
      "Iteration 93, loss = 0.32708240\n",
      "Iteration 94, loss = 0.32622902\n",
      "Iteration 95, loss = 0.32629932\n",
      "Iteration 96, loss = 0.32510562\n",
      "Iteration 97, loss = 0.32572245\n",
      "Iteration 98, loss = 0.32598556\n",
      "Iteration 99, loss = 0.32397618\n",
      "Iteration 100, loss = 0.32257729\n",
      "Iteration 101, loss = 0.32281326\n",
      "Iteration 102, loss = 0.32271224\n",
      "Iteration 103, loss = 0.32078637\n",
      "Iteration 104, loss = 0.32018936\n",
      "Iteration 105, loss = 0.31909161\n",
      "Iteration 106, loss = 0.31933751\n",
      "Iteration 107, loss = 0.32022139\n",
      "Iteration 108, loss = 0.31906202\n",
      "Iteration 109, loss = 0.31755301\n",
      "Iteration 110, loss = 0.31567022\n",
      "Iteration 111, loss = 0.31679188\n",
      "Iteration 112, loss = 0.31700738\n",
      "Iteration 113, loss = 0.31489478\n",
      "Iteration 114, loss = 0.31474595\n",
      "Iteration 115, loss = 0.31384940\n",
      "Iteration 116, loss = 0.31268197\n",
      "Iteration 117, loss = 0.31266064\n",
      "Iteration 118, loss = 0.31150762\n",
      "Iteration 119, loss = 0.31160099\n",
      "Iteration 120, loss = 0.31180793\n",
      "Iteration 121, loss = 0.31094695\n",
      "Iteration 122, loss = 0.30943720\n",
      "Iteration 123, loss = 0.30961667\n",
      "Iteration 124, loss = 0.30993624\n",
      "Iteration 125, loss = 0.30759163\n",
      "Iteration 126, loss = 0.30703279\n",
      "Iteration 127, loss = 0.30561981\n",
      "Iteration 128, loss = 0.30761315\n",
      "Iteration 129, loss = 0.30598119\n",
      "Iteration 130, loss = 0.30604437\n",
      "Iteration 131, loss = 0.30615249\n",
      "Iteration 132, loss = 0.30457339\n",
      "Iteration 133, loss = 0.30389466\n",
      "Iteration 134, loss = 0.30475441\n",
      "Iteration 135, loss = 0.30281894\n",
      "Iteration 136, loss = 0.30297504\n",
      "Iteration 137, loss = 0.30184759\n",
      "Iteration 138, loss = 0.30101489\n",
      "Iteration 139, loss = 0.30135716\n",
      "Iteration 140, loss = 0.29920941\n",
      "Iteration 141, loss = 0.29887556\n",
      "Iteration 142, loss = 0.30147276\n",
      "Iteration 143, loss = 0.30002307\n",
      "Iteration 144, loss = 0.29846998\n",
      "Iteration 145, loss = 0.29777572\n",
      "Iteration 146, loss = 0.29763179\n",
      "Iteration 147, loss = 0.29794352\n",
      "Iteration 148, loss = 0.29718227\n",
      "Iteration 149, loss = 0.29566155\n",
      "Iteration 150, loss = 0.29661545\n",
      "Iteration 151, loss = 0.29464012\n",
      "Iteration 152, loss = 0.29529456\n",
      "Iteration 153, loss = 0.29393593\n",
      "Iteration 154, loss = 0.29495827\n",
      "Iteration 155, loss = 0.29534578\n",
      "Iteration 156, loss = 0.29335840\n",
      "Iteration 157, loss = 0.29300860\n",
      "Iteration 158, loss = 0.29035090\n",
      "Iteration 159, loss = 0.29196674\n",
      "Iteration 160, loss = 0.29140875\n",
      "Iteration 161, loss = 0.29061049\n",
      "Iteration 162, loss = 0.29071869\n",
      "Iteration 163, loss = 0.28960788\n",
      "Iteration 164, loss = 0.29027461\n",
      "Iteration 165, loss = 0.28945882\n",
      "Iteration 166, loss = 0.28978036\n",
      "Iteration 167, loss = 0.28965781\n",
      "Iteration 168, loss = 0.28707708\n",
      "Iteration 169, loss = 0.28713810\n",
      "Iteration 170, loss = 0.28784608\n",
      "Iteration 171, loss = 0.28688877\n",
      "Iteration 172, loss = 0.28689599\n",
      "Iteration 173, loss = 0.28644141\n",
      "Iteration 174, loss = 0.28602348\n",
      "Iteration 175, loss = 0.28569437\n",
      "Iteration 176, loss = 0.28644362\n",
      "Iteration 177, loss = 0.28486115\n",
      "Iteration 178, loss = 0.28280741\n",
      "Iteration 179, loss = 0.28175586\n",
      "Iteration 180, loss = 0.28470466\n",
      "Iteration 181, loss = 0.28196420\n",
      "Iteration 182, loss = 0.28287754\n",
      "Iteration 183, loss = 0.28149372\n",
      "Iteration 184, loss = 0.28122113\n",
      "Iteration 185, loss = 0.28026239\n",
      "Iteration 186, loss = 0.28002823\n",
      "Iteration 187, loss = 0.27945885\n",
      "Iteration 188, loss = 0.27821392\n",
      "Iteration 189, loss = 0.27997213\n",
      "Iteration 190, loss = 0.28112998\n",
      "Iteration 191, loss = 0.28101384\n",
      "Iteration 192, loss = 0.27817790\n",
      "Iteration 193, loss = 0.27777424\n",
      "Iteration 194, loss = 0.27811459\n",
      "Iteration 195, loss = 0.27489798\n",
      "Iteration 196, loss = 0.27836044\n",
      "Iteration 197, loss = 0.27614414\n",
      "Iteration 198, loss = 0.27582269\n",
      "Iteration 199, loss = 0.27620613\n",
      "Iteration 200, loss = 0.27498671\n",
      "Iteration 201, loss = 0.27562291\n",
      "Iteration 202, loss = 0.27514717\n",
      "Iteration 203, loss = 0.27410145\n",
      "Iteration 204, loss = 0.27457451\n",
      "Iteration 205, loss = 0.27401752\n",
      "Iteration 206, loss = 0.27469115\n",
      "Iteration 207, loss = 0.27412160\n",
      "Iteration 208, loss = 0.27291938\n",
      "Iteration 209, loss = 0.27321389\n",
      "Iteration 210, loss = 0.27136936\n",
      "Iteration 211, loss = 0.27190363\n",
      "Iteration 212, loss = 0.27171290\n",
      "Iteration 213, loss = 0.27029137\n",
      "Iteration 214, loss = 0.27085751\n",
      "Iteration 215, loss = 0.26977090\n",
      "Iteration 216, loss = 0.27063209\n",
      "Iteration 217, loss = 0.27011304\n",
      "Iteration 218, loss = 0.27175754\n",
      "Iteration 219, loss = 0.26884025\n",
      "Iteration 220, loss = 0.26994527\n",
      "Iteration 221, loss = 0.26697817\n",
      "Iteration 222, loss = 0.26793919\n",
      "Iteration 223, loss = 0.26954141\n",
      "Iteration 224, loss = 0.26946632\n",
      "Iteration 225, loss = 0.26718837\n",
      "Iteration 226, loss = 0.26846965\n",
      "Iteration 227, loss = 0.26689959\n",
      "Iteration 228, loss = 0.26752063\n",
      "Iteration 229, loss = 0.26498566\n",
      "Iteration 230, loss = 0.26746655\n",
      "Iteration 231, loss = 0.26420826\n",
      "Iteration 232, loss = 0.26446090\n",
      "Iteration 233, loss = 0.26512758\n",
      "Iteration 234, loss = 0.26755085\n",
      "Iteration 235, loss = 0.26681971\n",
      "Iteration 236, loss = 0.26389087\n",
      "Iteration 237, loss = 0.26332793\n",
      "Iteration 238, loss = 0.26639213\n",
      "Iteration 239, loss = 0.26280186\n",
      "Iteration 240, loss = 0.26191289\n",
      "Iteration 241, loss = 0.26310438\n",
      "Iteration 242, loss = 0.26354245\n",
      "Iteration 243, loss = 0.26391497\n",
      "Iteration 244, loss = 0.26092733\n",
      "Iteration 245, loss = 0.26139844\n",
      "Iteration 246, loss = 0.26357771\n",
      "Iteration 247, loss = 0.26219083\n",
      "Iteration 248, loss = 0.26030496\n",
      "Iteration 249, loss = 0.26003491\n",
      "Iteration 250, loss = 0.26266793\n",
      "Iteration 251, loss = 0.25970192\n",
      "Iteration 252, loss = 0.25845374\n",
      "Iteration 253, loss = 0.26056001\n",
      "Iteration 254, loss = 0.25744844\n",
      "Iteration 255, loss = 0.25942725\n",
      "Iteration 256, loss = 0.25786959\n",
      "Iteration 257, loss = 0.25853675\n",
      "Iteration 258, loss = 0.25710659\n",
      "Iteration 259, loss = 0.25619097\n",
      "Iteration 260, loss = 0.25782969\n",
      "Iteration 261, loss = 0.25759036\n",
      "Iteration 262, loss = 0.25812671\n",
      "Iteration 263, loss = 0.25755002\n",
      "Iteration 264, loss = 0.25723035\n",
      "Iteration 265, loss = 0.25754634\n",
      "Iteration 266, loss = 0.25455447\n",
      "Iteration 267, loss = 0.25560003\n",
      "Iteration 268, loss = 0.25588751\n",
      "Iteration 269, loss = 0.25499427\n",
      "Iteration 270, loss = 0.25384930\n",
      "Iteration 271, loss = 0.25582990\n",
      "Iteration 272, loss = 0.25528058\n",
      "Iteration 273, loss = 0.25632858\n",
      "Iteration 274, loss = 0.25531715\n",
      "Iteration 275, loss = 0.25322517\n",
      "Iteration 276, loss = 0.25446187\n",
      "Iteration 277, loss = 0.25370629\n",
      "Iteration 278, loss = 0.25210009\n",
      "Iteration 279, loss = 0.25624232\n",
      "Iteration 280, loss = 0.25310949\n",
      "Iteration 281, loss = 0.25133236\n",
      "Iteration 282, loss = 0.25210743\n",
      "Iteration 283, loss = 0.25219097\n",
      "Iteration 284, loss = 0.25133582\n",
      "Iteration 285, loss = 0.25103999\n",
      "Iteration 286, loss = 0.25056740\n",
      "Iteration 287, loss = 0.25055682\n",
      "Iteration 288, loss = 0.24910881\n",
      "Iteration 289, loss = 0.25314195\n",
      "Iteration 290, loss = 0.24916627\n",
      "Iteration 291, loss = 0.25061122\n",
      "Iteration 292, loss = 0.25015299\n",
      "Iteration 293, loss = 0.25148721\n",
      "Iteration 294, loss = 0.24850251\n",
      "Iteration 295, loss = 0.24759532\n",
      "Iteration 296, loss = 0.24763219\n",
      "Iteration 297, loss = 0.25001814\n",
      "Iteration 298, loss = 0.24790049\n",
      "Iteration 299, loss = 0.24953049\n",
      "Iteration 300, loss = 0.24646799\n",
      "Iteration 301, loss = 0.24838356\n",
      "Iteration 302, loss = 0.24609321\n",
      "Iteration 303, loss = 0.24675109\n",
      "Iteration 304, loss = 0.24662293\n",
      "Iteration 305, loss = 0.24715464\n",
      "Iteration 306, loss = 0.24668910\n",
      "Iteration 307, loss = 0.24816676\n",
      "Iteration 308, loss = 0.24547209\n",
      "Iteration 309, loss = 0.24506126\n",
      "Iteration 310, loss = 0.24386780\n",
      "Iteration 311, loss = 0.24632984\n",
      "Iteration 312, loss = 0.24388502\n",
      "Iteration 313, loss = 0.24664948\n",
      "Iteration 314, loss = 0.24347528\n",
      "Iteration 315, loss = 0.24604585\n",
      "Iteration 316, loss = 0.24609306\n",
      "Iteration 317, loss = 0.24578030\n",
      "Iteration 318, loss = 0.24305663\n",
      "Iteration 319, loss = 0.24204869\n",
      "Iteration 320, loss = 0.24280841\n",
      "Iteration 321, loss = 0.24522114\n",
      "Iteration 322, loss = 0.24300244\n",
      "Iteration 323, loss = 0.24557909\n",
      "Iteration 324, loss = 0.24218642\n",
      "Iteration 325, loss = 0.24416670\n",
      "Iteration 326, loss = 0.24087590\n",
      "Iteration 327, loss = 0.24277920\n",
      "Iteration 328, loss = 0.24250006\n",
      "Iteration 329, loss = 0.24164406\n",
      "Iteration 330, loss = 0.24036580\n",
      "Iteration 331, loss = 0.24009930\n",
      "Iteration 332, loss = 0.24118062\n",
      "Iteration 333, loss = 0.24048610\n",
      "Iteration 334, loss = 0.23975579\n",
      "Iteration 335, loss = 0.23926671\n",
      "Iteration 336, loss = 0.23922661\n",
      "Iteration 337, loss = 0.24051837\n",
      "Iteration 338, loss = 0.24064971\n",
      "Iteration 339, loss = 0.23927867\n",
      "Iteration 340, loss = 0.23947806\n",
      "Iteration 341, loss = 0.23970189\n",
      "Iteration 342, loss = 0.23805430\n",
      "Iteration 343, loss = 0.23909243\n",
      "Iteration 344, loss = 0.23876650\n",
      "Iteration 345, loss = 0.23939716\n",
      "Iteration 346, loss = 0.23773764\n",
      "Iteration 347, loss = 0.23820810\n",
      "Iteration 348, loss = 0.23751888\n",
      "Iteration 349, loss = 0.23709454\n",
      "Iteration 350, loss = 0.23574877\n",
      "Iteration 351, loss = 0.23682129\n",
      "Iteration 352, loss = 0.23674775\n",
      "Iteration 353, loss = 0.23595399\n",
      "Iteration 354, loss = 0.23484728\n",
      "Iteration 355, loss = 0.23754082\n",
      "Iteration 356, loss = 0.23589357\n",
      "Iteration 357, loss = 0.23586496\n",
      "Iteration 358, loss = 0.23593882\n",
      "Iteration 359, loss = 0.23759791\n",
      "Iteration 360, loss = 0.23809417\n",
      "Iteration 361, loss = 0.23465804\n",
      "Iteration 362, loss = 0.23499576\n",
      "Iteration 363, loss = 0.23312022\n",
      "Iteration 364, loss = 0.23376742\n",
      "Iteration 365, loss = 0.23497448\n",
      "Iteration 366, loss = 0.23355426\n",
      "Iteration 367, loss = 0.23412246\n",
      "Iteration 368, loss = 0.23220254\n",
      "Iteration 369, loss = 0.23313927\n",
      "Iteration 370, loss = 0.23419534\n",
      "Iteration 371, loss = 0.23274202\n",
      "Iteration 372, loss = 0.23446663\n",
      "Iteration 373, loss = 0.23405734\n",
      "Iteration 374, loss = 0.23368646\n",
      "Iteration 375, loss = 0.23436563\n",
      "Iteration 376, loss = 0.23270036\n",
      "Iteration 377, loss = 0.23195652\n",
      "Iteration 378, loss = 0.23178171\n",
      "Iteration 379, loss = 0.23203789\n",
      "Iteration 380, loss = 0.23421685\n",
      "Iteration 381, loss = 0.23227516\n",
      "Iteration 382, loss = 0.23191183\n",
      "Iteration 383, loss = 0.23168283\n",
      "Iteration 384, loss = 0.23053418\n",
      "Iteration 385, loss = 0.23053521\n",
      "Iteration 386, loss = 0.22924537\n",
      "Iteration 387, loss = 0.22831427\n",
      "Iteration 388, loss = 0.23202310\n",
      "Iteration 389, loss = 0.23108737\n",
      "Iteration 390, loss = 0.23090716\n",
      "Iteration 391, loss = 0.22968149\n",
      "Iteration 392, loss = 0.22903857\n",
      "Iteration 393, loss = 0.22938654\n",
      "Iteration 394, loss = 0.22885302\n",
      "Iteration 395, loss = 0.23030352\n",
      "Iteration 396, loss = 0.22777350\n",
      "Iteration 397, loss = 0.22833393\n",
      "Iteration 398, loss = 0.23039652\n",
      "Iteration 399, loss = 0.23055061\n",
      "Iteration 400, loss = 0.22781262\n",
      "Iteration 401, loss = 0.22760713\n",
      "Iteration 402, loss = 0.22779931\n",
      "Iteration 403, loss = 0.22852756\n",
      "Iteration 404, loss = 0.22835171\n",
      "Iteration 405, loss = 0.22719700\n",
      "Iteration 406, loss = 0.22684508\n",
      "Iteration 407, loss = 0.22654737\n",
      "Iteration 408, loss = 0.22830512\n",
      "Iteration 409, loss = 0.22823731\n",
      "Iteration 410, loss = 0.22727105\n",
      "Iteration 411, loss = 0.22720355\n",
      "Iteration 412, loss = 0.22860945\n",
      "Iteration 413, loss = 0.22528528\n",
      "Iteration 414, loss = 0.22563744\n",
      "Iteration 415, loss = 0.22474244\n",
      "Iteration 416, loss = 0.22565878\n",
      "Iteration 417, loss = 0.22679320\n",
      "Iteration 418, loss = 0.22774261\n",
      "Iteration 419, loss = 0.22502139\n",
      "Iteration 420, loss = 0.22440417\n",
      "Iteration 421, loss = 0.22509559\n",
      "Iteration 422, loss = 0.22568033\n",
      "Iteration 423, loss = 0.22470492\n",
      "Iteration 424, loss = 0.22660297\n",
      "Iteration 425, loss = 0.22486375\n",
      "Iteration 426, loss = 0.22322146\n",
      "Iteration 427, loss = 0.22524725\n",
      "Iteration 428, loss = 0.22590285\n",
      "Iteration 429, loss = 0.22546994\n",
      "Iteration 430, loss = 0.22508400\n",
      "Iteration 431, loss = 0.22359656\n",
      "Iteration 432, loss = 0.22385227\n",
      "Iteration 433, loss = 0.22351506\n",
      "Iteration 434, loss = 0.22265982\n",
      "Iteration 435, loss = 0.22307025\n",
      "Iteration 436, loss = 0.22271315\n",
      "Iteration 437, loss = 0.22347322\n",
      "Iteration 438, loss = 0.22192550\n",
      "Iteration 439, loss = 0.22447221\n",
      "Iteration 440, loss = 0.22374571\n",
      "Iteration 441, loss = 0.22134482\n",
      "Iteration 442, loss = 0.22029563\n",
      "Iteration 443, loss = 0.22299289\n",
      "Iteration 444, loss = 0.22212023\n",
      "Iteration 445, loss = 0.22125294\n",
      "Iteration 446, loss = 0.22147598\n",
      "Iteration 447, loss = 0.22293746\n",
      "Iteration 448, loss = 0.22263607\n",
      "Iteration 449, loss = 0.22195784\n",
      "Iteration 450, loss = 0.22128532\n",
      "Iteration 451, loss = 0.22173338\n",
      "Iteration 452, loss = 0.22102192\n",
      "Iteration 453, loss = 0.22109597\n",
      "Training loss did not improve more than tol=0.000100 for 10 consecutive epochs. Stopping.\n",
      "Accuracy:  0.8272902914184511\n"
     ]
    }
   ],
   "source": [
    "n_train = 5\n",
    "accs = []\n",
    "models = []\n",
    "for i in range(n_train):\n",
    "    print(\"Train \", i)\n",
    "    model = MLPClassifier(hidden_layer_sizes=(100, 100), max_iter=1000, verbose=True, random_state=np.random.randint(0, 1000))\n",
    "    model.fit(X_train_Sanus, y_Sanus_train)\n",
    "    y_pred = model.predict(X_test)\n",
    "    acc = accuracy_score(y_Sanus_test, y_pred)\n",
    "    accs.append(acc)\n",
    "    models.append(model)\n",
    "    print(\"Accuracy: \", acc)"
   ]
  },
  {
   "cell_type": "code",
   "execution_count": 33,
   "metadata": {},
   "outputs": [
    {
     "name": "stdout",
     "output_type": "stream",
     "text": [
      "Mean accuracy:  0.8221413620995008\n",
      "Std accuracy:  0.009620275671860821\n",
      "Accuracy =  0.8221413620995008  +/-  0.009620275671860821\n"
     ]
    }
   ],
   "source": [
    "# accuracy\n",
    "print(\"Mean accuracy: \", np.mean(accs))\n",
    "print(\"Std accuracy: \", np.std(accs))\n",
    "print(\"Accuracy = \", np.mean(accs), \" +/- \", np.std(accs))\n"
   ]
  },
  {
   "cell_type": "code",
   "execution_count": 34,
   "metadata": {},
   "outputs": [
    {
     "name": "stdout",
     "output_type": "stream",
     "text": [
      "Accuracy:  0.8370793753018837\n"
     ]
    }
   ],
   "source": [
    "# best model\n",
    "model = models[np.argmax(accs)]\n",
    "y_pred = model.predict(X_test)\n",
    "acc = accuracy_score(y_Sanus_test, y_pred)\n",
    "print(\"Accuracy: \", acc)\n"
   ]
  },
  {
   "cell_type": "code",
   "execution_count": 35,
   "metadata": {},
   "outputs": [
    {
     "data": {
      "image/png": "[encoded data removed]",
      "text/plain": [
       "<Figure size 640x480 with 2 Axes>"
      ]
     },
     "metadata": {},
     "output_type": "display_data"
    }
   ],
   "source": [
    "# Confusion matrix\n",
    "cm = confusion_matrix(y_Sanus_test, y_pred)\n",
    "cm = cm / cm.sum(axis=1)[:, np.newaxis]\n",
    "plt.figure()\n",
    "plt.title('Confusion matrix of the best model for Sniffing Anogenital')\n",
    "sns.heatmap(cm, annot=True, xticklabels=['Not Sniffing', 'Sniffing '], yticklabels=['Not Sniffing', 'Sniffing'], cmap='Blues')\n",
    "plt.xlabel('Predicted')\n",
    "plt.ylabel('True')\n",
    "plt.show()\n"
   ]
  },
  {
   "cell_type": "code",
   "execution_count": 36,
   "metadata": {},
   "outputs": [
    {
     "data": {
      "text/plain": [
       "['baseline_models/new_dataset/model_Sanus.pkl']"
      ]
     },
     "execution_count": 36,
     "metadata": {},
     "output_type": "execute_result"
    }
   ],
   "source": [
    "# Save the model\n",
    "joblib.dump(model, 'baseline_models/new_dataset/model_Sanus.pkl')"
   ]
  },
  {
   "cell_type": "markdown",
   "metadata": {},
   "source": [
    "---"
   ]
  },
  {
   "cell_type": "code",
   "execution_count": null,
   "metadata": {},
   "outputs": [],
   "source": [
    "print(beh_names[5])\n",
    "print(beh_names.shape)\n",
    "print(y_train.shape)"
   ]
  },
  {
   "cell_type": "markdown",
   "metadata": {},
   "source": [
    "### Poursuite Resident"
   ]
  },
  {
   "cell_type": "code",
   "execution_count": 68,
   "metadata": {},
   "outputs": [],
   "source": [
    "y_poursuitR_train = y_train[:, 5]\n",
    "y_poursuitR_test = y_test[:, 5]"
   ]
  },
  {
   "cell_type": "code",
   "execution_count": null,
   "metadata": {},
   "outputs": [],
   "source": [
    "# Check Nans in the data\n",
    "\n",
    "print(np.isnan(y_poursuitR_train).sum())\n",
    "\n",
    "# Discard the Nans\n",
    "X_train_pourR = X_train[~np.isnan(y_poursuitR_train)]\n",
    "y_poursuitR_train = y_poursuitR_train[~np.isnan(y_poursuitR_train)]\n",
    "\n",
    "X_test_pourR = X_test[~np.isnan(y_poursuitR_test)]\n",
    "y_poursuitR_test = y_poursuitR_test[~np.isnan(y_poursuitR_test)]\n",
    "\n",
    "\n"
   ]
  },
  {
   "cell_type": "code",
   "execution_count": null,
   "metadata": {},
   "outputs": [],
   "source": [
    "# Class Balance\n",
    "plt.hist(y_poursuitR_train)\n",
    "plt.title('Train class balance')\n",
    "plt.show()\n",
    "\n",
    "print('Active: ', y_poursuitR_train.sum())\n",
    "print('Inactive: ', (1-y_poursuitR_train).sum())\n",
    "print(' Percentage of active: ', y_poursuitR_train.sum() / len(y_poursuitR_train))"
   ]
  },
  {
   "cell_type": "markdown",
   "metadata": {},
   "source": [
    "**I don't have yet sufficient data, but let's try it anyway**"
   ]
  },
  {
   "cell_type": "code",
   "execution_count": 71,
   "metadata": {},
   "outputs": [],
   "source": [
    "# Downsample the inactive class\n",
    "idx = np.where(y_poursuitR_train == 0)[0]\n",
    "idx = np.random.choice(idx, np.sum(y_poursuitR_train == 1), replace=False)\n",
    "idx = np.concatenate([np.where(y_poursuitR_train == 1)[0], idx])\n",
    "\n",
    "X_train_pourR = X_train[idx]\n",
    "y_poursuitR_train = y_poursuitR_train[idx]\n"
   ]
  },
  {
   "cell_type": "code",
   "execution_count": null,
   "metadata": {},
   "outputs": [],
   "source": [
    "# class balance\n",
    "plt.hist(y_poursuitR_train)\n",
    "plt.title('Train class balance')\n",
    "plt.show()\n",
    "\n",
    "print('Dimension of the training set: ', X_train_pourR.shape)\n"
   ]
  },
  {
   "cell_type": "code",
   "execution_count": 27,
   "metadata": {},
   "outputs": [],
   "source": [
    "# Too many features"
   ]
  },
  {
   "cell_type": "code",
   "execution_count": null,
   "metadata": {},
   "outputs": [],
   "source": [
    "# 5 train to see variance\n",
    "n_train = 5\n",
    "accs = []\n",
    "models = []\n",
    "for i in range(n_train):\n",
    "    print(\"Train \", i)\n",
    "    model = MLPClassifier(hidden_layer_sizes=(100, 100), max_iter=1000, verbose=True)\n",
    "    model.fit(X_train_pourR, y_poursuitR_train)\n",
    "    y_pred = model.predict(X_test)\n",
    "    acc = accuracy_score(y_poursuitR_test, y_pred)\n",
    "    accs.append(acc)\n",
    "    models.append(model)\n",
    "    print(\"Accuracy: \", acc)"
   ]
  },
  {
   "cell_type": "code",
   "execution_count": null,
   "metadata": {},
   "outputs": [],
   "source": [
    "# accuracy\n",
    "print(\"accuracy: \", accs)\n",
    "print(\" variance accuracy: \", np.var(accs))\n",
    "\n",
    "print(\"The accuracy is:\", np.mean(accs), \" +/- \", np.std(accs))\n",
    "\n",
    "# Best model\n",
    "model = models[np.argmax(accs)]\n",
    "y_pred = model.predict(X_test)\n",
    "acc = accuracy_score(y_poursuitR_test, y_pred)\n",
    "print(\"Accuracy: \", acc)\n",
    "\n",
    "# Confusion matrix\n",
    "cm = confusion_matrix(y_poursuitR_test, y_pred)\n",
    "cm = cm / cm.sum(axis=1)[:, np.newaxis]\n",
    "plt.figure()\n",
    "plt.title('Confusion matrix of the best model for Following')\n",
    "sns.heatmap(cm, annot=True, xticklabels=['Not Following', 'Following'], yticklabels=['Not Following', 'Following'], cmap='Blues')\n",
    "plt.xlabel('Predicted')\n",
    "plt.ylabel('True')\n",
    "plt.show()\n"
   ]
  },
  {
   "cell_type": "code",
   "execution_count": null,
   "metadata": {},
   "outputs": [],
   "source": [
    "# Save the model\n",
    "joblib.dump(model, 'baseline_models/new_dataset/model_poursuitR.pkl')"
   ]
  },
  {
   "cell_type": "markdown",
   "metadata": {},
   "source": [
    "---"
   ]
  },
  {
   "cell_type": "code",
   "execution_count": null,
   "metadata": {},
   "outputs": [],
   "source": [
    "beh_names[6]"
   ]
  },
  {
   "cell_type": "markdown",
   "metadata": {},
   "source": [
    "## Dominance Resident"
   ]
  },
  {
   "cell_type": "code",
   "execution_count": 83,
   "metadata": {},
   "outputs": [],
   "source": [
    "y_domR_train = y_train[:,6]\n",
    "y_domR_test = y_test[:,6]\n",
    "\n"
   ]
  },
  {
   "cell_type": "code",
   "execution_count": null,
   "metadata": {},
   "outputs": [],
   "source": [
    "# class balance\n",
    "plt.hist(y_domR_train)\n",
    "plt.title('Train class balance')\n",
    "plt.show()\n",
    "\n",
    "print('Active: ', y_domR_train.sum())\n",
    "print('Inactive: ', (1-y_domR_train).sum())\n",
    "print(' Percentage of active: ', y_domR_train.sum() / len(y_domR_train))\n",
    "\n"
   ]
  },
  {
   "cell_type": "code",
   "execution_count": 86,
   "metadata": {},
   "outputs": [],
   "source": [
    "# Downsample the inactive class\n",
    "idx = np.where(y_domR_train == 0)[0]\n",
    "idx = np.random.choice(idx, np.sum(y_domR_train == 1), replace=False)\n",
    "idx = np.concatenate([np.where(y_domR_train == 1)[0], idx])\n",
    "\n",
    "X_train_domR = X_train[idx]\n",
    "y_domR_train = y_domR_train[idx]\n",
    "\n"
   ]
  },
  {
   "cell_type": "code",
   "execution_count": null,
   "metadata": {},
   "outputs": [],
   "source": [
    "# class balance\n",
    "plt.hist(y_domR_train)\n",
    "plt.title('Train class balance')\n",
    "plt.show()\n"
   ]
  },
  {
   "cell_type": "code",
   "execution_count": null,
   "metadata": {},
   "outputs": [],
   "source": [
    "# 5 train to see variance\n",
    "n_train = 5\n",
    "accs = []\n",
    "models = []\n",
    "for i in range(n_train):\n",
    "    print(\"Train \", i)\n",
    "    model = MLPClassifier(hidden_layer_sizes=(100, 100), max_iter=1000, verbose=True)\n",
    "    model.fit(X_train_domR, y_domR_train)\n",
    "    y_pred = model.predict(X_test)\n",
    "    acc = accuracy_score(y_domR_test, y_pred)\n",
    "    accs.append(acc)\n",
    "    models.append(model)\n",
    "    print(\"Accuracy: \", acc)\n",
    "\n",
    "    "
   ]
  },
  {
   "cell_type": "code",
   "execution_count": null,
   "metadata": {},
   "outputs": [],
   "source": [
    "# accuracy\n",
    "print(\"accuracy: \", accs)\n",
    "print(\" variance accuracy: \", np.var(accs))\n",
    "\n",
    "print(\"The accuracy is:\", np.mean(accs), \" +/- \", np.std(accs))\n",
    "\n",
    "# Best model\n",
    "model = models[np.argmax(accs)]\n",
    "y_pred = model.predict(X_test)\n",
    "acc = accuracy_score(y_domR_test, y_pred)\n",
    "print(\"Accuracy: \", acc)\n",
    "\n",
    "# Confusion matrix\n",
    "cm = confusion_matrix(y_domR_test, y_pred)\n",
    "cm = cm / cm.sum(axis=1)[:, np.newaxis]\n",
    "plt.figure()\n",
    "plt.title('Confusion matrix of the best model for Dominance')\n",
    "sns.heatmap(cm, annot=True, xticklabels=['Not Dominance', 'Dominance'], yticklabels=['Not Dominance', 'Dominance'], cmap='Blues')\n",
    "plt.xlabel('Predicted')\n",
    "plt.ylabel('True')\n",
    "plt.show()\n"
   ]
  },
  {
   "cell_type": "code",
   "execution_count": null,
   "metadata": {},
   "outputs": [],
   "source": [
    "# Save the model\n",
    "joblib.dump(model, 'baseline_models/new_dataset/model_domR.pkl')"
   ]
  },
  {
   "cell_type": "markdown",
   "metadata": {},
   "source": [
    "---"
   ]
  },
  {
   "cell_type": "code",
   "execution_count": null,
   "metadata": {},
   "outputs": [],
   "source": [
    "beh_names[7]"
   ]
  },
  {
   "cell_type": "markdown",
   "metadata": {},
   "source": [
    "# Rearing R"
   ]
  },
  {
   "cell_type": "code",
   "execution_count": 93,
   "metadata": {},
   "outputs": [],
   "source": [
    "y_rearingR_train = y_train[:, 7]\n",
    "y_rearingR_test = y_test[:, 7]"
   ]
  },
  {
   "cell_type": "code",
   "execution_count": null,
   "metadata": {},
   "outputs": [],
   "source": [
    "# Check Nans in the data\n",
    "np.isnan(y_rearingR_train).sum()"
   ]
  },
  {
   "cell_type": "code",
   "execution_count": null,
   "metadata": {},
   "outputs": [],
   "source": [
    "# Class Balance\n",
    "plt.hist(y_rearingR_train)\n",
    "plt.title('Train class balance')\n",
    "plt.show()\n",
    "\n",
    "print('Active: ', np.sum(y_rearingR_train == 1))\n",
    "print('Inactive: ', np.sum(y_rearingR_train == 0))\n",
    "print('Percentage: ', np.sum(y_rearingR_train == 1) / len(y_rearingR_train))\n",
    "\n"
   ]
  },
  {
   "cell_type": "code",
   "execution_count": null,
   "metadata": {},
   "outputs": [],
   "source": [
    "# Downsample the inactive class\n",
    "idx = np.where(y_rearingR_train == 0)[0]\n",
    "idx = np.random.choice(idx, np.sum(y_rearingR_train == 1), replace=False)\n",
    "idx = np.concatenate([np.where(y_rearingR_train == 1)[0], idx])\n",
    "idx = np.random.permutation(idx)\n",
    "\n",
    "X_rearingR_train = X_train[idx]\n",
    "y_rearingR_train = y_rearingR_train[idx]\n",
    "\n",
    "# class balance\n",
    "plt.hist(y_rearingR_train)\n",
    "plt.title('Train class balance')\n",
    "plt.show()\n",
    "\n",
    "print(' Train dataset size: ', X_rearingR_train.shape)\n"
   ]
  },
  {
   "cell_type": "code",
   "execution_count": null,
   "metadata": {},
   "outputs": [],
   "source": [
    "# 5 train to see variance\n",
    "n_train = 5\n",
    "accs = []\n",
    "models = []\n",
    "for i in range(n_train):\n",
    "    print(\"Train \", i)\n",
    "    model = MLPClassifier(hidden_layer_sizes=(100, 100), max_iter=1000, verbose=True)\n",
    "    model.fit(X_rearingR_train, y_rearingR_train)\n",
    "    y_pred = model.predict(X_test)\n",
    "    acc = accuracy_score(y_rearingR_test, y_pred)\n",
    "    accs.append(acc)\n",
    "    models.append(model)\n",
    "    print(\"Accuracy: \", acc)"
   ]
  },
  {
   "cell_type": "code",
   "execution_count": null,
   "metadata": {},
   "outputs": [],
   "source": [
    "beh_names"
   ]
  },
  {
   "cell_type": "code",
   "execution_count": null,
   "metadata": {},
   "outputs": [],
   "source": [
    "# accuracy\n",
    "print(\"accuracy: \", accs)\n",
    "print(\" variance accuracy: \", np.var(accs))\n",
    "\n",
    "print(\"The accuracy is:\", np.mean(accs), \" +/- \", np.std(accs))\n",
    "\n",
    "# Best model\n",
    "model = models[np.argmax(accs)]\n",
    "y_pred = model.predict(X_test)\n",
    "acc = accuracy_score(y_rearingR_test, y_pred)\n",
    "print(\"Accuracy: \", acc)\n",
    "\n",
    "# Confusion matrix\n",
    "cm = confusion_matrix(y_rearingR_test, y_pred)\n",
    "cm = cm / cm.sum(axis=1)[:, np.newaxis]\n",
    "plt.figure()\n",
    "plt.title('Confusion matrix of the best model for Rearing')\n",
    "sns.heatmap(cm, annot=True, xticklabels=['No Rearing', 'Rearing'], yticklabels=['No Rearing', 'Rearing'], cmap='Blues')\n",
    "plt.xlabel('Predicted')\n",
    "plt.ylabel('True')\n",
    "plt.show()"
   ]
  },
  {
   "cell_type": "code",
   "execution_count": null,
   "metadata": {},
   "outputs": [],
   "source": [
    "# save the model\n",
    "joblib.dump(model, 'baseline_models/new_dataset/model_rearingR.pkl')"
   ]
  },
  {
   "cell_type": "markdown",
   "metadata": {},
   "source": [
    "---"
   ]
  },
  {
   "cell_type": "code",
   "execution_count": null,
   "metadata": {},
   "outputs": [],
   "source": [
    "beh_names[8]"
   ]
  },
  {
   "cell_type": "markdown",
   "metadata": {},
   "source": [
    "## Grooming Resident"
   ]
  },
  {
   "cell_type": "code",
   "execution_count": null,
   "metadata": {},
   "outputs": [],
   "source": [
    "y_groomR_train = y_train[:, 8]\n",
    "y_groomR_test = y_test[:, 8]\n",
    "\n",
    "# Check Nans in the data\n",
    "print(\"Nan's \", np.isnan(y_groomR_train).sum())\n",
    "\n",
    "# Class Balance\n",
    "plt.hist(y_groomR_train)\n",
    "plt.title('Train class balance')\n",
    "plt.show()\n",
    "\n",
    "print('Active: ', np.sum(y_groomR_train == 1))\n",
    "print('Inactive: ', np.sum(y_groomR_train == 0))\n",
    "print('Percentage: ', np.sum(y_groomR_train == 1) / len(y_groomR_train))\n",
    "\n"
   ]
  },
  {
   "cell_type": "code",
   "execution_count": null,
   "metadata": {},
   "outputs": [],
   "source": [
    "# Downsample the inactive class\n",
    "idx = np.where(y_groomR_train == 0)[0]\n",
    "idx = np.random.choice(idx, np.sum(y_groomR_train == 1), replace=False)\n",
    "idx = np.concatenate([np.where(y_groomR_train == 1)[0], idx])\n",
    "idx = np.random.permutation(idx)\n",
    "\n",
    "X_groomR_train = X_train[idx]\n",
    "y_groomR_train = y_groomR_train[idx]\n",
    "\n",
    "# class balance\n",
    "plt.hist(y_groomR_train)\n",
    "plt.title('Train class balance')\n",
    "plt.show()\n",
    "\n",
    "print(' Train dataset size: ', X_groomR_train.shape)\n"
   ]
  },
  {
   "cell_type": "code",
   "execution_count": null,
   "metadata": {},
   "outputs": [],
   "source": [
    "# 5 train to see variance\n",
    "n_train = 5\n",
    "accs = []\n",
    "models = []\n",
    "for i in range(n_train):\n",
    "    print(\"Train \", i)\n",
    "    model = MLPClassifier(hidden_layer_sizes=(100, 100), max_iter=1000, verbose=True)\n",
    "    model.fit(X_groomR_train, y_groomR_train)\n",
    "    y_pred = model.predict(X_test)\n",
    "    acc = accuracy_score(y_groomR_test, y_pred)\n",
    "    accs.append(acc)\n",
    "    models.append(model)\n",
    "    print(\"Accuracy: \", acc)"
   ]
  },
  {
   "cell_type": "code",
   "execution_count": null,
   "metadata": {},
   "outputs": [],
   "source": [
    "# accuracy\n",
    "print(\"accuracy: \", accs)\n",
    "print(\" variance accuracy: \", np.var(accs))\n",
    "\n",
    "print(\"The accuracy is:\", np.mean(accs), \" +/- \", np.std(accs))\n",
    "\n",
    "# Best model\n",
    "model = models[np.argmax(accs)]\n",
    "y_pred = model.predict(X_test)\n",
    "acc = accuracy_score(y_groomR_test, y_pred)\n",
    "print(\"Accuracy: \", acc)\n",
    "\n",
    "# Confusion matrix\n",
    "cm = confusion_matrix(y_groomR_test, y_pred)\n",
    "cm = cm / cm.sum(axis=1)[:, np.newaxis]\n",
    "plt.figure()\n",
    "plt.title('Confusion matrix of the best model for Grooming')\n",
    "sns.heatmap(cm, annot=True, xticklabels=['No Grooming', 'Grooming'], yticklabels=['No Grooming', 'Grooming'], cmap='Blues')\n",
    "plt.xlabel('Predicted')\n",
    "plt.ylabel('True')\n",
    "plt.show()"
   ]
  },
  {
   "cell_type": "markdown",
   "metadata": {},
   "source": [
    "THis makes no sense"
   ]
  },
  {
   "cell_type": "code",
   "execution_count": null,
   "metadata": {},
   "outputs": [],
   "source": [
    "# save the model\n",
    "joblib.dump(model, 'baseline_models/new_dataset/model_groomR.pkl')\n"
   ]
  },
  {
   "cell_type": "code",
   "execution_count": null,
   "metadata": {},
   "outputs": [],
   "source": [
    "# run several times to get the variance of the accuracy\n",
    "acc = []\n",
    "\n",
    "for i in range(10):\n",
    "    y_groomR_train = y_train[:, 6]\n",
    "    y_groomR_test = y_test[:, 6]\n",
    "\n",
    "    # Downsample the inactive class\n",
    "    idx = np.where(y_groomR_train == 0)[0]\n",
    "    idx = np.random.choice(idx, np.sum(y_groomR_train == 1), replace=False)\n",
    "    idx = np.concatenate([np.where(y_groomR_train == 1)[0], idx])\n",
    "    idx = np.random.permutation(idx)\n",
    "\n",
    "    X_groomR_train = X_train[idx]\n",
    "    y_groomR_train = y_groomR_train[idx]\n",
    "\n",
    "    model = MLPClassifier(hidden_layer_sizes=(100), max_iter=1000, verbose=False, random_state=42) \n",
    "\n",
    "    # Train the model\n",
    "    model.fit(X_groomR_train, y_groomR_train)\n",
    "\n",
    "    # Test the model\n",
    "    y_pred = model.predict(X_test)\n",
    "\n",
    "    acc.append(accuracy_score(y_groomR_test, y_pred))\n",
    "\n",
    "print('Mean accuracy: ', np.mean(acc))\n",
    "print('Variance: ', np.var(acc))"
   ]
  },
  {
   "cell_type": "markdown",
   "metadata": {},
   "source": [
    "---"
   ]
  },
  {
   "cell_type": "code",
   "execution_count": null,
   "metadata": {},
   "outputs": [],
   "source": [
    "beh_names[7]"
   ]
  },
  {
   "cell_type": "markdown",
   "metadata": {},
   "source": [
    "## Sinff Visiteur"
   ]
  },
  {
   "cell_type": "code",
   "execution_count": 383,
   "metadata": {},
   "outputs": [],
   "source": [
    "y_sniffV_train = y_train[:, 7]\n",
    "y_sniffV_test = y_test[:, 7]\n"
   ]
  },
  {
   "cell_type": "code",
   "execution_count": null,
   "metadata": {},
   "outputs": [],
   "source": [
    "# Class Balance\n",
    "plt.hist(y_sniffV_train)\n",
    "plt.title('Train class balance')\n",
    "plt.show()\n",
    "\n",
    "print('Active: ', np.sum(y_sniffV_train == 1))\n",
    "print('Inactive: ', np.sum(y_sniffV_train == 0))\n",
    "print('Percentage: ', np.sum(y_sniffV_train == 1) / len(y_sniffV_train))\n",
    "\n"
   ]
  },
  {
   "cell_type": "code",
   "execution_count": 385,
   "metadata": {},
   "outputs": [],
   "source": [
    "# Downsample the Inactive class\n",
    "np.random.seed(42)\n",
    "idx = np.where(y_sniffV_train == 0)[0]\n",
    "idx = np.random.choice(idx, np.sum(y_sniffV_train == 1), replace=False)\n",
    "idx = np.concatenate([idx, np.where(y_sniffV_train == 1)[0]])\n",
    "idx = np.random.permutation(idx)\n",
    "X_train_sniff_V = X_train[idx]\n",
    "y_sniffV_train = y_sniffV_train[idx]"
   ]
  },
  {
   "cell_type": "code",
   "execution_count": null,
   "metadata": {},
   "outputs": [],
   "source": [
    "# class balance\n",
    "plt.hist(y_sniffV_train)\n",
    "plt.title('Train class balance')\n",
    "plt.show()\n",
    "\n",
    "print(' Train dataset size: ', X_train_sniff_V.shape)\n"
   ]
  },
  {
   "cell_type": "code",
   "execution_count": 387,
   "metadata": {},
   "outputs": [],
   "source": [
    "# Create the model\n",
    "model = MLPClassifier(hidden_layer_sizes=(100, 100), max_iter=1000, verbose=True)\n"
   ]
  },
  {
   "cell_type": "code",
   "execution_count": null,
   "metadata": {},
   "outputs": [],
   "source": [
    "# Train the model\n",
    "model.fit(X_train_sniff_V, y_sniffV_train)\n"
   ]
  },
  {
   "cell_type": "code",
   "execution_count": null,
   "metadata": {},
   "outputs": [],
   "source": [
    "y_pred = model.predict(X_test)\n",
    "\n",
    "accuracy_score(y_sniffV_test, y_pred)"
   ]
  },
  {
   "cell_type": "code",
   "execution_count": null,
   "metadata": {},
   "outputs": [],
   "source": [
    "# Confusion matrix\n",
    "conf_matrix = confusion_matrix(y_sniffV_test, y_pred)\n",
    "conf_matrix = conf_matrix / conf_matrix.sum(axis=1)[:, np.newaxis]\n",
    "sns.heatmap(conf_matrix, annot=True)\n",
    "plt.xlabel('Predicted')\n",
    "plt.ylabel('True')\n",
    "plt.show()\n"
   ]
  },
  {
   "cell_type": "code",
   "execution_count": null,
   "metadata": {},
   "outputs": [],
   "source": [
    "# Save the model\n",
    "joblib.dump(model, 'baseline_models/model_sniffV.pkl')"
   ]
  },
  {
   "cell_type": "markdown",
   "metadata": {},
   "source": [
    "---"
   ]
  },
  {
   "cell_type": "code",
   "execution_count": null,
   "metadata": {},
   "outputs": [],
   "source": [
    "beh_names[8]"
   ]
  },
  {
   "cell_type": "markdown",
   "metadata": {},
   "source": [
    "## Poursuite Visiteur"
   ]
  },
  {
   "cell_type": "code",
   "execution_count": 393,
   "metadata": {},
   "outputs": [],
   "source": [
    "y_poursuitV_train = y_train[:, 8]\n",
    "y_poursuitV_test = y_test[:, 8]\n"
   ]
  },
  {
   "cell_type": "code",
   "execution_count": null,
   "metadata": {},
   "outputs": [],
   "source": [
    "# check Nans in the data\n",
    "print(np.isnan(y_poursuitV_train).sum())\n",
    "\n",
    "# Class Balance\n",
    "plt.hist(y_poursuitV_train)\n",
    "plt.title('Train class balance')\n",
    "plt.show()\n",
    "\n",
    "print('Active: ', np.sum(y_poursuitV_train == 1))\n",
    "print('Inactive: ', np.sum(y_poursuitV_train == 0))\n",
    "print('Percentage: ', np.sum(y_poursuitV_train == 1) / len(y_poursuitV_train))\n",
    "\n"
   ]
  },
  {
   "cell_type": "markdown",
   "metadata": {},
   "source": [
    "---"
   ]
  },
  {
   "cell_type": "code",
   "execution_count": null,
   "metadata": {},
   "outputs": [],
   "source": [
    "beh_names[9]"
   ]
  },
  {
   "cell_type": "markdown",
   "metadata": {},
   "source": [
    "## Dominance Visiteur"
   ]
  },
  {
   "cell_type": "code",
   "execution_count": null,
   "metadata": {},
   "outputs": [],
   "source": [
    "y_domV_train = y_train[:, 9]\n",
    "y_domV_test = y_test[:, 9]\n",
    "\n",
    "# Check Nans in the data\n",
    "print(np.isnan(y_domV_train).sum())\n",
    "\n",
    "# Class Balance\n",
    "plt.hist(y_domV_train)\n",
    "plt.title('Train class balance')\n",
    "plt.show()\n",
    "\n",
    "print('Active: ', np.sum(y_domV_train == 1))\n",
    "print('Inactive: ', np.sum(y_domV_train == 0))\n",
    "print('Percentage: ', np.sum(y_domV_train == 1) / len(y_domV_train))\n"
   ]
  },
  {
   "cell_type": "code",
   "execution_count": null,
   "metadata": {},
   "outputs": [],
   "source": [
    "# Downsample the Inactive class\n",
    "np.random.seed(42)\n",
    "idx = np.where(y_domV_train == 0)[0]\n",
    "idx = np.random.choice(idx, np.sum(y_domV_train == 1), replace=False)\n",
    "idx = np.concatenate([idx, np.where(y_domV_train == 1)[0]])\n",
    "idx = np.random.permutation(idx)\n",
    "\n",
    "X_train_dom_V = X_train[idx]\n",
    "y_domV_train = y_domV_train[idx]\n",
    "\n",
    "# class balance\n",
    "plt.hist(y_domV_train)\n",
    "plt.title('Train class balance')\n",
    "plt.show()\n",
    "\n",
    "print(' Train dataset size: ', X_train_dom_V.shape)\n"
   ]
  },
  {
   "cell_type": "code",
   "execution_count": null,
   "metadata": {},
   "outputs": [],
   "source": [
    "# Create the model\n",
    "model = MLPClassifier(hidden_layer_sizes=(100), max_iter=1000, verbose=True)\n",
    "\n",
    "# Train the model\n",
    "model.fit(X_train_dom_V, y_domV_train)\n",
    "\n"
   ]
  },
  {
   "cell_type": "code",
   "execution_count": null,
   "metadata": {},
   "outputs": [],
   "source": [
    "# Test the model\n",
    "y_pred = model.predict(X_test)\n",
    "\n",
    "accuracy_score(y_domV_test, y_pred)"
   ]
  },
  {
   "cell_type": "code",
   "execution_count": null,
   "metadata": {},
   "outputs": [],
   "source": [
    "# Confusion matrix\n",
    "conf_matrix = confusion_matrix(y_domV_test, y_pred)\n",
    "conf_matrix = conf_matrix / conf_matrix.sum(axis=1)[:, np.newaxis]\n",
    "sns.heatmap(conf_matrix, annot=True)\n",
    "plt.xlabel('Predicted')\n",
    "plt.ylabel('True')\n",
    "plt.show()\n"
   ]
  },
  {
   "cell_type": "markdown",
   "metadata": {},
   "source": [
    "---"
   ]
  },
  {
   "cell_type": "code",
   "execution_count": null,
   "metadata": {},
   "outputs": [],
   "source": [
    "beh_names[10]"
   ]
  },
  {
   "cell_type": "markdown",
   "metadata": {},
   "source": [
    "---"
   ]
  },
  {
   "cell_type": "code",
   "execution_count": null,
   "metadata": {},
   "outputs": [],
   "source": [
    "beh_names[11]"
   ]
  },
  {
   "cell_type": "markdown",
   "metadata": {},
   "source": [
    "## Grooming Visiteur"
   ]
  },
  {
   "cell_type": "code",
   "execution_count": 150,
   "metadata": {},
   "outputs": [],
   "source": [
    "y_groomV_train = y_train[:, 11]\n",
    "y_groomV_test = y_test[:, 11]"
   ]
  },
  {
   "cell_type": "code",
   "execution_count": null,
   "metadata": {},
   "outputs": [],
   "source": [
    "print(len(y_groomV_train))"
   ]
  },
  {
   "cell_type": "code",
   "execution_count": null,
   "metadata": {},
   "outputs": [],
   "source": [
    "# Class Balance\n",
    "plt.hist(y_groomV_train)\n",
    "plt.title('Train class balance')\n",
    "plt.show()\n",
    "\n",
    "print('Active: ', np.sum(y_groomV_train == 1))\n",
    "print('Inactive: ', np.sum(y_groomV_train == 0))\n",
    "print('Percentage: ', np.sum(y_groomV_train == 1) / len(y_groomV_train))\n"
   ]
  },
  {
   "cell_type": "code",
   "execution_count": null,
   "metadata": {},
   "outputs": [],
   "source": [
    "# Downsample the Inactive class\n",
    "np.random.seed(42)\n",
    "idx = np.where(y_groomV_train == 0)[0]\n",
    "idx = np.random.choice(idx, np.sum(y_groomV_train == 1), replace=False)\n",
    "idx = np.concatenate([idx, np.where(y_groomV_train == 1)[0]])\n",
    "idx = np.random.permutation(idx)\n",
    "X_train_groom_V = X_train[idx]\n",
    "y_groomV_train = y_groomV_train[idx]\n",
    "\n",
    "# class balance\n",
    "plt.hist(y_groomV_train)\n",
    "plt.title('Train class balance')\n",
    "plt.show()\n",
    "\n",
    "print(X_train_groom_V.shape)"
   ]
  },
  {
   "cell_type": "code",
   "execution_count": 154,
   "metadata": {},
   "outputs": [],
   "source": [
    "# Create the model\n",
    "model = MLPClassifier(hidden_layer_sizes=(100, 100), max_iter=1000, verbose=True, tol = 1e-5)\n"
   ]
  },
  {
   "cell_type": "code",
   "execution_count": null,
   "metadata": {},
   "outputs": [],
   "source": [
    "# Train the model\n",
    "model.fit(X_train_groom_V, y_groomV_train)"
   ]
  },
  {
   "cell_type": "code",
   "execution_count": null,
   "metadata": {},
   "outputs": [],
   "source": [
    "y_pred = model.predict(X_test)\n",
    "accuracy_score(y_groomV_test, y_pred)"
   ]
  },
  {
   "cell_type": "code",
   "execution_count": null,
   "metadata": {},
   "outputs": [],
   "source": [
    "print(' Predicted: ', y_pred.sum())\n",
    "print(' Non predicted: ', len(y_pred) - y_pred.sum())"
   ]
  },
  {
   "cell_type": "code",
   "execution_count": null,
   "metadata": {},
   "outputs": [],
   "source": [
    "# Confusion matrix\n",
    "conf_matrix = confusion_matrix(y_groomV_test, y_pred)\n",
    "conf_matrix = conf_matrix / conf_matrix.sum(axis=1)[:, np.newaxis]\n",
    "sns.heatmap(conf_matrix, annot=True)\n",
    "plt.xlabel('Predicted')\n",
    "plt.ylabel('True')\n",
    "plt.show()\n"
   ]
  },
  {
   "cell_type": "markdown",
   "metadata": {},
   "source": [
    "---"
   ]
  },
  {
   "cell_type": "code",
   "execution_count": null,
   "metadata": {},
   "outputs": [],
   "source": [
    "beh_names[12]"
   ]
  },
  {
   "cell_type": "code",
   "execution_count": null,
   "metadata": {},
   "outputs": [],
   "source": [
    "y_pourV_train = y_train[:, 7]\n",
    "y_pourV_test = y_test[:, 10]\n",
    "\n",
    "# Class Balance\n",
    "plt.hist(y_pourV_train)\n",
    "plt.title('Train class balance')\n",
    "plt.show()\n"
   ]
  },
  {
   "cell_type": "markdown",
   "metadata": {},
   "source": [
    "---\n",
    "\n",
    "---"
   ]
  },
  {
   "cell_type": "markdown",
   "metadata": {},
   "source": [
    "---\n",
    "\n",
    "---\n",
    "\n",
    "\n",
    "---\n",
    "\n",
    "---\n",
    "\n",
    "---\n",
    "\n",
    "---\n",
    "\n",
    "---\n",
    "\n",
    "---\n",
    "\n",
    "---\n",
    "\n",
    "---\n",
    "\n",
    "---"
   ]
  },
  {
   "cell_type": "markdown",
   "metadata": {},
   "source": [
    "# This is only data cleannning, renaming, grouping, etc"
   ]
  },
  {
   "cell_type": "code",
   "execution_count": null,
   "metadata": {},
   "outputs": [],
   "source": []
  },
  {
   "cell_type": "markdown",
   "metadata": {},
   "source": [
    "#### Extra checks"
   ]
  },
  {
   "cell_type": "code",
   "execution_count": 42,
   "metadata": {},
   "outputs": [],
   "source": [
    "import os"
   ]
  },
  {
   "cell_type": "code",
   "execution_count": 44,
   "metadata": {},
   "outputs": [],
   "source": [
    "df = pd.read_csv(r'c:\\Users\\jalvarez\\Documents\\Data\\DataLoader_DMD_null_male\\DMD_mal_Test_1.csv')\n",
    "original_column = df.columns"
   ]
  },
  {
   "cell_type": "code",
   "execution_count": 45,
   "metadata": {},
   "outputs": [],
   "source": [
    "# Check that the columns are ordered in the .csv files contained in the path\n",
    "files_path = r'c:\\Users\\jalvarez\\Documents\\Data\\DataLoader_DMD_null_male' \n",
    "\n",
    "for file in os.listdir(files_path):\n",
    "    if file.endswith(\".csv\"):\n",
    "        df = pd.read_csv(os.path.join(files_path, file))\n",
    "        if not np.array_equal(original_column, df.columns):\n",
    "            print(file)\n",
    "        "
   ]
  },
  {
   "cell_type": "markdown",
   "metadata": {},
   "source": [
    "### Adding all the missing behaviors"
   ]
  },
  {
   "cell_type": "code",
   "execution_count": null,
   "metadata": {},
   "outputs": [],
   "source": [
    "csv_file = r'c:\\Users\\jalvarez\\Documents\\Data\\Behaviour\\MDX5CV\\male female\\Test_1.csv'\n",
    "\n",
    "df = pd.read_csv(csv_file)\n",
    "df.sum(axis=0)"
   ]
  },
  {
   "cell_type": "code",
   "execution_count": 47,
   "metadata": {},
   "outputs": [],
   "source": [
    "behaviours = ['Frames', 'General_Contacts', 'Sniffing_R', 'Poursuit_R', 'Dominance_R', 'Rearing_R', 'Grooming_R', 'Sniffing_V', 'Poursuit_V', 'Dominance_V', 'Rearing_V', 'Grooming_V']\n",
    "original_column = ['Frame', 'contacts generaux (R + V) active', 'sniff total resident active', 'poursuite R active', 'dominance R active', 'redressement R active', 'grooming R active',\n",
    "                    'sniff total visiteur active', 'poursuite V active', 'dominance V active', 'redressement V active', 'grooming V active']"
   ]
  },
  {
   "cell_type": "code",
   "execution_count": 48,
   "metadata": {},
   "outputs": [],
   "source": [
    "dict_columns = dict(zip(original_column, behaviours))"
   ]
  },
  {
   "cell_type": "code",
   "execution_count": null,
   "metadata": {},
   "outputs": [],
   "source": [
    "dict_columns"
   ]
  },
  {
   "cell_type": "code",
   "execution_count": null,
   "metadata": {},
   "outputs": [],
   "source": [
    "for i in range(len(behaviours)):\n",
    "    print(behaviours[i], '--', original_column[i])"
   ]
  },
  {
   "cell_type": "code",
   "execution_count": null,
   "metadata": {},
   "outputs": [],
   "source": [
    "# Reorder and rename the columns\n",
    "df = pd.read_csv(csv_file)\n",
    "df.sum(axis=0)\n"
   ]
  },
  {
   "cell_type": "code",
   "execution_count": null,
   "metadata": {},
   "outputs": [],
   "source": [
    "df = df[original_column]\n",
    "df.sum(axis=0)\n"
   ]
  },
  {
   "cell_type": "code",
   "execution_count": 41,
   "metadata": {},
   "outputs": [],
   "source": [
    "df.columns = behaviours"
   ]
  },
  {
   "cell_type": "code",
   "execution_count": null,
   "metadata": {},
   "outputs": [],
   "source": [
    "df.sum(axis=0)"
   ]
  },
  {
   "cell_type": "code",
   "execution_count": 30,
   "metadata": {},
   "outputs": [],
   "source": [
    "import os"
   ]
  },
  {
   "cell_type": "code",
   "execution_count": 44,
   "metadata": {},
   "outputs": [],
   "source": [
    "# Edit the csv files in the path\n",
    "path = r'c:\\Users\\jalvarez\\Documents\\Data\\Behaviour\\MDX5CV\\male female - Copie'\n",
    "for file in os.listdir(path):\n",
    "    if file.endswith(\".csv\"):\n",
    "        df = pd.read_csv(os.path.join(path, file))\n",
    "        df = df[original_column]\n",
    "        df.columns = behaviours\n",
    "        df.to_csv(os.path.join(path, file), index=False)\n",
    "        \n",
    "        "
   ]
  },
  {
   "cell_type": "markdown",
   "metadata": {},
   "source": [
    "**Now DMD null**"
   ]
  },
  {
   "cell_type": "code",
   "execution_count": null,
   "metadata": {},
   "outputs": [],
   "source": [
    "file = r'c:\\Users\\jalvarez\\Documents\\Data\\Behaviour\\DMD\\male female\\Test_1.csv'\n",
    "df = pd.read_csv(file)\n",
    "df.sum(axis=0)"
   ]
  },
  {
   "cell_type": "code",
   "execution_count": 74,
   "metadata": {},
   "outputs": [],
   "source": [
    "behaviours = ['Frames', 'General_Contacts', 'Sniffing_R', 'Poursuit_R', 'Dominance_R', 'Rearing_R', 'Grooming_R', 'Sniffing_V', 'Poursuit_V', 'Dominance_V', 'Rearing_V', 'Grooming_V']\n",
    "original_column = ['Frame', 'contacts generaux (R + V) active', 'sniff total R active', 'Poursuit R active', 'dominance R active', 'Redressement R active', 'Grooming R active',\n",
    "                    'sniff total V active', 'Poursuit V active', 'Dominance V active', 'Redressement Q active', 'Grooming V active']\n",
    "\n",
    "dict_columns = dict(zip(original_column, behaviours))"
   ]
  },
  {
   "cell_type": "code",
   "execution_count": null,
   "metadata": {},
   "outputs": [],
   "source": [
    "dict_columns.keys()"
   ]
  },
  {
   "cell_type": "code",
   "execution_count": null,
   "metadata": {},
   "outputs": [],
   "source": [
    "actual_columns = list(df.columns)\n",
    "actual_columns"
   ]
  },
  {
   "cell_type": "code",
   "execution_count": null,
   "metadata": {},
   "outputs": [],
   "source": [
    "for beh in dict_columns.keys():\n",
    "    if beh not in actual_columns:\n",
    "        print(beh)"
   ]
  },
  {
   "cell_type": "code",
   "execution_count": 78,
   "metadata": {},
   "outputs": [],
   "source": [
    "folder = r'c:\\Users\\jalvarez\\Documents\\Data\\Behaviour\\DMD\\male female - Copie'\n",
    "\n",
    "for file in os.listdir(folder):\n",
    "    if file.endswith(\".csv\"):\n",
    "        df = pd.read_csv(os.path.join(folder, file))\n",
    "        for beh in dict_columns.keys():\n",
    "            if beh not in df.columns:\n",
    "                # Add the column in that position, filled with NaNs\n",
    "                df[dict_columns[beh]] = np.nan\n",
    "            else:\n",
    "                df = df.rename(columns={beh: dict_columns[beh]})\n",
    "        df = df[behaviours]\n",
    "        df.to_csv(os.path.join(folder, file), index=False)\n",
    "        "
   ]
  },
  {
   "cell_type": "code",
   "execution_count": null,
   "metadata": {},
   "outputs": [],
   "source": [
    "file = r'c:\\Users\\jalvarez\\Documents\\Data\\Behaviour\\DMD\\male female - Copie\\Test_1.csv'\n",
    "df = pd.read_csv(file)\n",
    "df.sum(axis=0)\n",
    "df.isna().sum(axis=0)"
   ]
  },
  {
   "cell_type": "markdown",
   "metadata": {},
   "source": [
    "### Rename"
   ]
  },
  {
   "cell_type": "code",
   "execution_count": 83,
   "metadata": {},
   "outputs": [],
   "source": [
    "# add a name before each file\n",
    "\n",
    "folder = r'c:\\Users\\jalvarez\\Documents\\Data\\Behaviour\\MDX5CV\\male female - Copie'\n",
    "\n",
    "for file in os.listdir(folder):\n",
    "    if file.endswith(\".csv\"):\n",
    "        new_name = 'MDXCV_fem_' + file\n",
    "        os.rename(os.path.join(folder, file), os.path.join(folder, new_name))"
   ]
  },
  {
   "cell_type": "code",
   "execution_count": null,
   "metadata": {},
   "outputs": [],
   "source": [
    "importlib.reload(DataDLC)"
   ]
  },
  {
   "cell_type": "code",
   "execution_count": 268,
   "metadata": {},
   "outputs": [],
   "source": [
    "data_dlc = DataDLC.DataDLC(r'c:\\Users\\jalvarez\\Documents\\Data\\DataLoader_Baseline_models\\DMD_mal_Test_21DLC_dlcrnetms5_More_BodyPartsJul9shuffle1_740000_el_filtered.h5')"
   ]
  },
  {
   "cell_type": "code",
   "execution_count": null,
   "metadata": {},
   "outputs": [],
   "source": [
    "video_path = r'c:\\Users\\jalvarez\\Documents\\Data\\DLC_analyzedvid\\DMD_null\\DMD_null_male\\DMD_mal_Test 21DLC_dlcrnetms5_More_BodyPartsJul9shuffle1_740000_el_filtered_id_labeled.mp4'\n",
    "output_path = r'c:\\Users\\jalvarez\\Documents\\Data\\OL\\Nouveau dossier'\n",
    "behaviour_path = r'c:\\Users\\jalvarez\\Documents\\Data\\DataLoader_Baseline_models\\DMD_mal_Test_21.csv'\n",
    "\n",
    "events = pd.read_csv(behaviour_path) # Load the events\n",
    "data_dlc.create_video_per_event(video_path, output_path, events, split_behaviour=True)\n",
    "\n",
    "\n",
    "\n"
   ]
  },
  {
   "cell_type": "markdown",
   "metadata": {},
   "source": [
    "## Grooming trainning dataset"
   ]
  },
  {
   "cell_type": "code",
   "execution_count": null,
   "metadata": {},
   "outputs": [],
   "source": [
    "# For each video in the dataset, see which has more grooming events\n",
    "import os\n",
    "\n",
    "groomingR = []\n",
    "for data_point in dataset:\n",
    "    beh = data_point[1]\n",
    "    groomingR.append(beh['Grooming_R'].sum()) \n",
    "\n",
    "print('The video with more grooming events is: ', data_loader.files[40])"
   ]
  },
  {
   "cell_type": "code",
   "execution_count": null,
   "metadata": {},
   "outputs": [],
   "source": [
    "len(dataset)"
   ]
  },
  {
   "cell_type": "code",
   "execution_count": null,
   "metadata": {},
   "outputs": [],
   "source": []
  },
  {
   "cell_type": "code",
   "execution_count": null,
   "metadata": {},
   "outputs": [],
   "source": [
    "video = r'c:\\Users\\jalvarez\\Documents\\Data\\videos\\+2mice\\OBS Studio\\2024-08-29 11-37-00.mkv'\n",
    "\n",
    "# See frame rate\n",
    "cap = cv2.VideoCapture(video)\n",
    "fps = cap.get(cv2.CAP_PROP_FPS)\n",
    "cap.release()\n",
    "\n",
    "print('Frame rate: ', fps)\n",
    "\n",
    "# Close everything\n",
    "cv2.destroyAllWindows()\n",
    "cv2.waitKey(1)"
   ]
  },
  {
   "cell_type": "code",
   "execution_count": null,
   "metadata": {},
   "outputs": [],
   "source": []
  }
 ],
 "metadata": {
  "kernelspec": {
   "display_name": "projenv",
   "language": "python",
   "name": "python3"
  },
  "language_info": {
   "codemirror_mode": {
    "name": "ipython",
    "version": 3
   },
   "file_extension": ".py",
   "mimetype": "text/x-python",
   "name": "python",
   "nbconvert_exporter": "python",
   "pygments_lexer": "ipython3",
   "version": "3.12.3"
  }
 },
 "nbformat": 4,
 "nbformat_minor": 2
}
