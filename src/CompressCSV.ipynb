{
 "cells": [
  {
   "cell_type": "markdown",
   "metadata": {},
   "source": [
    "# Notebook to Compress CSVs"
   ]
  },
  {
   "cell_type": "markdown",
   "metadata": {},
   "source": [
    "## MDX5CV - Compress CSVs\n",
    "\n",
    "We will just compress the CSVs but only with general contact behaviour, is in orther to test a model."
   ]
  },
  {
   "cell_type": "code",
   "execution_count": 1,
   "metadata": {},
   "outputs": [],
   "source": [
    "import utils as ut\n",
    "import os\n",
    "import pandas as pd\n",
    "import numpy as np"
   ]
  },
  {
   "cell_type": "code",
   "execution_count": 12,
   "metadata": {},
   "outputs": [
    {
     "name": "stdout",
     "output_type": "stream",
     "text": [
      "Reading file: MDX5CV_male_General_Test_1.csv\n",
      "Reading file: MDX5CV_male_General_Test_10.csv\n",
      "Reading file: MDX5CV_male_General_Test_11.csv\n",
      "Reading file: MDX5CV_male_General_Test_12.csv\n",
      "Reading file: MDX5CV_male_General_Test_13.csv\n"
     ]
    },
    {
     "name": "stderr",
     "output_type": "stream",
     "text": [
      "C:\\Users\\Usuario\\AppData\\Local\\Temp\\ipykernel_10292\\3113699512.py:28: SettingWithCopyWarning: \n",
      "A value is trying to be set on a copy of a slice from a DataFrame\n",
      "\n",
      "See the caveats in the documentation: https://pandas.pydata.org/pandas-docs/stable/user_guide/indexing.html#returning-a-view-versus-a-copy\n",
      "  compress_df[col][starting_frame:ending_frame] = df[col][i]\n",
      "C:\\Users\\Usuario\\AppData\\Local\\Temp\\ipykernel_10292\\3113699512.py:28: SettingWithCopyWarning: \n",
      "A value is trying to be set on a copy of a slice from a DataFrame\n",
      "\n",
      "See the caveats in the documentation: https://pandas.pydata.org/pandas-docs/stable/user_guide/indexing.html#returning-a-view-versus-a-copy\n",
      "  compress_df[col][starting_frame:ending_frame] = df[col][i]\n",
      "C:\\Users\\Usuario\\AppData\\Local\\Temp\\ipykernel_10292\\3113699512.py:28: SettingWithCopyWarning: \n",
      "A value is trying to be set on a copy of a slice from a DataFrame\n",
      "\n",
      "See the caveats in the documentation: https://pandas.pydata.org/pandas-docs/stable/user_guide/indexing.html#returning-a-view-versus-a-copy\n",
      "  compress_df[col][starting_frame:ending_frame] = df[col][i]\n",
      "C:\\Users\\Usuario\\AppData\\Local\\Temp\\ipykernel_10292\\3113699512.py:28: SettingWithCopyWarning: \n",
      "A value is trying to be set on a copy of a slice from a DataFrame\n",
      "\n",
      "See the caveats in the documentation: https://pandas.pydata.org/pandas-docs/stable/user_guide/indexing.html#returning-a-view-versus-a-copy\n",
      "  compress_df[col][starting_frame:ending_frame] = df[col][i]\n",
      "C:\\Users\\Usuario\\AppData\\Local\\Temp\\ipykernel_10292\\3113699512.py:28: SettingWithCopyWarning: \n",
      "A value is trying to be set on a copy of a slice from a DataFrame\n",
      "\n",
      "See the caveats in the documentation: https://pandas.pydata.org/pandas-docs/stable/user_guide/indexing.html#returning-a-view-versus-a-copy\n",
      "  compress_df[col][starting_frame:ending_frame] = df[col][i]\n"
     ]
    },
    {
     "name": "stdout",
     "output_type": "stream",
     "text": [
      "Reading file: MDX5CV_male_General_Test_14.csv\n",
      "Reading file: MDX5CV_male_General_Test_15.csv\n",
      "Reading file: MDX5CV_male_General_Test_16.csv\n",
      "Reading file: MDX5CV_male_General_Test_17.csv\n",
      "Reading file: MDX5CV_male_General_Test_18.csv\n",
      "Reading file: MDX5CV_male_General_Test_19.csv\n"
     ]
    },
    {
     "name": "stderr",
     "output_type": "stream",
     "text": [
      "C:\\Users\\Usuario\\AppData\\Local\\Temp\\ipykernel_10292\\3113699512.py:28: SettingWithCopyWarning: \n",
      "A value is trying to be set on a copy of a slice from a DataFrame\n",
      "\n",
      "See the caveats in the documentation: https://pandas.pydata.org/pandas-docs/stable/user_guide/indexing.html#returning-a-view-versus-a-copy\n",
      "  compress_df[col][starting_frame:ending_frame] = df[col][i]\n",
      "C:\\Users\\Usuario\\AppData\\Local\\Temp\\ipykernel_10292\\3113699512.py:28: SettingWithCopyWarning: \n",
      "A value is trying to be set on a copy of a slice from a DataFrame\n",
      "\n",
      "See the caveats in the documentation: https://pandas.pydata.org/pandas-docs/stable/user_guide/indexing.html#returning-a-view-versus-a-copy\n",
      "  compress_df[col][starting_frame:ending_frame] = df[col][i]\n",
      "C:\\Users\\Usuario\\AppData\\Local\\Temp\\ipykernel_10292\\3113699512.py:28: SettingWithCopyWarning: \n",
      "A value is trying to be set on a copy of a slice from a DataFrame\n",
      "\n",
      "See the caveats in the documentation: https://pandas.pydata.org/pandas-docs/stable/user_guide/indexing.html#returning-a-view-versus-a-copy\n",
      "  compress_df[col][starting_frame:ending_frame] = df[col][i]\n",
      "C:\\Users\\Usuario\\AppData\\Local\\Temp\\ipykernel_10292\\3113699512.py:28: SettingWithCopyWarning: \n",
      "A value is trying to be set on a copy of a slice from a DataFrame\n",
      "\n",
      "See the caveats in the documentation: https://pandas.pydata.org/pandas-docs/stable/user_guide/indexing.html#returning-a-view-versus-a-copy\n",
      "  compress_df[col][starting_frame:ending_frame] = df[col][i]\n",
      "C:\\Users\\Usuario\\AppData\\Local\\Temp\\ipykernel_10292\\3113699512.py:28: SettingWithCopyWarning: \n",
      "A value is trying to be set on a copy of a slice from a DataFrame\n",
      "\n",
      "See the caveats in the documentation: https://pandas.pydata.org/pandas-docs/stable/user_guide/indexing.html#returning-a-view-versus-a-copy\n",
      "  compress_df[col][starting_frame:ending_frame] = df[col][i]\n",
      "C:\\Users\\Usuario\\AppData\\Local\\Temp\\ipykernel_10292\\3113699512.py:28: SettingWithCopyWarning: \n",
      "A value is trying to be set on a copy of a slice from a DataFrame\n",
      "\n",
      "See the caveats in the documentation: https://pandas.pydata.org/pandas-docs/stable/user_guide/indexing.html#returning-a-view-versus-a-copy\n",
      "  compress_df[col][starting_frame:ending_frame] = df[col][i]\n"
     ]
    },
    {
     "name": "stdout",
     "output_type": "stream",
     "text": [
      "Reading file: MDX5CV_male_General_Test_2.csv\n",
      "Reading file: MDX5CV_male_General_Test_20.csv\n",
      "Reading file: MDX5CV_male_General_Test_21.csv\n",
      "Reading file: MDX5CV_male_General_Test_22.csv\n",
      "Reading file: MDX5CV_male_General_Test_23.csv\n"
     ]
    },
    {
     "name": "stderr",
     "output_type": "stream",
     "text": [
      "C:\\Users\\Usuario\\AppData\\Local\\Temp\\ipykernel_10292\\3113699512.py:28: SettingWithCopyWarning: \n",
      "A value is trying to be set on a copy of a slice from a DataFrame\n",
      "\n",
      "See the caveats in the documentation: https://pandas.pydata.org/pandas-docs/stable/user_guide/indexing.html#returning-a-view-versus-a-copy\n",
      "  compress_df[col][starting_frame:ending_frame] = df[col][i]\n",
      "C:\\Users\\Usuario\\AppData\\Local\\Temp\\ipykernel_10292\\3113699512.py:28: SettingWithCopyWarning: \n",
      "A value is trying to be set on a copy of a slice from a DataFrame\n",
      "\n",
      "See the caveats in the documentation: https://pandas.pydata.org/pandas-docs/stable/user_guide/indexing.html#returning-a-view-versus-a-copy\n",
      "  compress_df[col][starting_frame:ending_frame] = df[col][i]\n",
      "C:\\Users\\Usuario\\AppData\\Local\\Temp\\ipykernel_10292\\3113699512.py:28: SettingWithCopyWarning: \n",
      "A value is trying to be set on a copy of a slice from a DataFrame\n",
      "\n",
      "See the caveats in the documentation: https://pandas.pydata.org/pandas-docs/stable/user_guide/indexing.html#returning-a-view-versus-a-copy\n",
      "  compress_df[col][starting_frame:ending_frame] = df[col][i]\n",
      "C:\\Users\\Usuario\\AppData\\Local\\Temp\\ipykernel_10292\\3113699512.py:28: SettingWithCopyWarning: \n",
      "A value is trying to be set on a copy of a slice from a DataFrame\n",
      "\n",
      "See the caveats in the documentation: https://pandas.pydata.org/pandas-docs/stable/user_guide/indexing.html#returning-a-view-versus-a-copy\n",
      "  compress_df[col][starting_frame:ending_frame] = df[col][i]\n",
      "C:\\Users\\Usuario\\AppData\\Local\\Temp\\ipykernel_10292\\3113699512.py:28: SettingWithCopyWarning: \n",
      "A value is trying to be set on a copy of a slice from a DataFrame\n",
      "\n",
      "See the caveats in the documentation: https://pandas.pydata.org/pandas-docs/stable/user_guide/indexing.html#returning-a-view-versus-a-copy\n",
      "  compress_df[col][starting_frame:ending_frame] = df[col][i]\n",
      "C:\\Users\\Usuario\\AppData\\Local\\Temp\\ipykernel_10292\\3113699512.py:28: SettingWithCopyWarning: \n",
      "A value is trying to be set on a copy of a slice from a DataFrame\n",
      "\n",
      "See the caveats in the documentation: https://pandas.pydata.org/pandas-docs/stable/user_guide/indexing.html#returning-a-view-versus-a-copy\n",
      "  compress_df[col][starting_frame:ending_frame] = df[col][i]\n"
     ]
    },
    {
     "name": "stdout",
     "output_type": "stream",
     "text": [
      "Reading file: MDX5CV_male_General_Test_24.csv\n",
      "Reading file: MDX5CV_male_General_Test_25.csv\n",
      "Reading file: MDX5CV_male_General_Test_26.csv\n",
      "Reading file: MDX5CV_male_General_Test_27.csv\n"
     ]
    },
    {
     "name": "stderr",
     "output_type": "stream",
     "text": [
      "C:\\Users\\Usuario\\AppData\\Local\\Temp\\ipykernel_10292\\3113699512.py:28: SettingWithCopyWarning: \n",
      "A value is trying to be set on a copy of a slice from a DataFrame\n",
      "\n",
      "See the caveats in the documentation: https://pandas.pydata.org/pandas-docs/stable/user_guide/indexing.html#returning-a-view-versus-a-copy\n",
      "  compress_df[col][starting_frame:ending_frame] = df[col][i]\n",
      "C:\\Users\\Usuario\\AppData\\Local\\Temp\\ipykernel_10292\\3113699512.py:28: SettingWithCopyWarning: \n",
      "A value is trying to be set on a copy of a slice from a DataFrame\n",
      "\n",
      "See the caveats in the documentation: https://pandas.pydata.org/pandas-docs/stable/user_guide/indexing.html#returning-a-view-versus-a-copy\n",
      "  compress_df[col][starting_frame:ending_frame] = df[col][i]\n",
      "C:\\Users\\Usuario\\AppData\\Local\\Temp\\ipykernel_10292\\3113699512.py:28: SettingWithCopyWarning: \n",
      "A value is trying to be set on a copy of a slice from a DataFrame\n",
      "\n",
      "See the caveats in the documentation: https://pandas.pydata.org/pandas-docs/stable/user_guide/indexing.html#returning-a-view-versus-a-copy\n",
      "  compress_df[col][starting_frame:ending_frame] = df[col][i]\n",
      "C:\\Users\\Usuario\\AppData\\Local\\Temp\\ipykernel_10292\\3113699512.py:28: SettingWithCopyWarning: \n",
      "A value is trying to be set on a copy of a slice from a DataFrame\n",
      "\n",
      "See the caveats in the documentation: https://pandas.pydata.org/pandas-docs/stable/user_guide/indexing.html#returning-a-view-versus-a-copy\n",
      "  compress_df[col][starting_frame:ending_frame] = df[col][i]\n",
      "C:\\Users\\Usuario\\AppData\\Local\\Temp\\ipykernel_10292\\3113699512.py:28: SettingWithCopyWarning: \n",
      "A value is trying to be set on a copy of a slice from a DataFrame\n",
      "\n",
      "See the caveats in the documentation: https://pandas.pydata.org/pandas-docs/stable/user_guide/indexing.html#returning-a-view-versus-a-copy\n",
      "  compress_df[col][starting_frame:ending_frame] = df[col][i]\n"
     ]
    },
    {
     "name": "stdout",
     "output_type": "stream",
     "text": [
      "Reading file: MDX5CV_male_General_Test_3.csv\n",
      "Reading file: MDX5CV_male_General_Test_4.csv\n",
      "Reading file: MDX5CV_male_General_Test_5.csv\n",
      "Reading file: MDX5CV_male_General_Test_6.csv\n"
     ]
    },
    {
     "name": "stderr",
     "output_type": "stream",
     "text": [
      "C:\\Users\\Usuario\\AppData\\Local\\Temp\\ipykernel_10292\\3113699512.py:28: SettingWithCopyWarning: \n",
      "A value is trying to be set on a copy of a slice from a DataFrame\n",
      "\n",
      "See the caveats in the documentation: https://pandas.pydata.org/pandas-docs/stable/user_guide/indexing.html#returning-a-view-versus-a-copy\n",
      "  compress_df[col][starting_frame:ending_frame] = df[col][i]\n",
      "C:\\Users\\Usuario\\AppData\\Local\\Temp\\ipykernel_10292\\3113699512.py:28: SettingWithCopyWarning: \n",
      "A value is trying to be set on a copy of a slice from a DataFrame\n",
      "\n",
      "See the caveats in the documentation: https://pandas.pydata.org/pandas-docs/stable/user_guide/indexing.html#returning-a-view-versus-a-copy\n",
      "  compress_df[col][starting_frame:ending_frame] = df[col][i]\n",
      "C:\\Users\\Usuario\\AppData\\Local\\Temp\\ipykernel_10292\\3113699512.py:28: SettingWithCopyWarning: \n",
      "A value is trying to be set on a copy of a slice from a DataFrame\n",
      "\n",
      "See the caveats in the documentation: https://pandas.pydata.org/pandas-docs/stable/user_guide/indexing.html#returning-a-view-versus-a-copy\n",
      "  compress_df[col][starting_frame:ending_frame] = df[col][i]\n"
     ]
    },
    {
     "name": "stdout",
     "output_type": "stream",
     "text": [
      "Reading file: MDX5CV_male_General_Test_7.csv\n",
      "Reading file: MDX5CV_male_General_Test_8.csv\n",
      "Reading file: MDX5CV_male_General_Test_9.csv\n"
     ]
    },
    {
     "name": "stderr",
     "output_type": "stream",
     "text": [
      "C:\\Users\\Usuario\\AppData\\Local\\Temp\\ipykernel_10292\\3113699512.py:28: SettingWithCopyWarning: \n",
      "A value is trying to be set on a copy of a slice from a DataFrame\n",
      "\n",
      "See the caveats in the documentation: https://pandas.pydata.org/pandas-docs/stable/user_guide/indexing.html#returning-a-view-versus-a-copy\n",
      "  compress_df[col][starting_frame:ending_frame] = df[col][i]\n",
      "C:\\Users\\Usuario\\AppData\\Local\\Temp\\ipykernel_10292\\3113699512.py:28: SettingWithCopyWarning: \n",
      "A value is trying to be set on a copy of a slice from a DataFrame\n",
      "\n",
      "See the caveats in the documentation: https://pandas.pydata.org/pandas-docs/stable/user_guide/indexing.html#returning-a-view-versus-a-copy\n",
      "  compress_df[col][starting_frame:ending_frame] = df[col][i]\n"
     ]
    }
   ],
   "source": [
    "path_to_csv = r'C:\\Users\\Usuario\\Documents\\Documents\\MVA\\Stage\\DLCProject\\Data\\MDX5CV BEHAVIOUR\\Alive male\\Général\\csv General files'\n",
    "\n",
    "csv_files = [f for f in os.listdir(path_to_csv) if f.endswith('.csv')]\n",
    "\n",
    "path_to_vid = r'C:\\Users\\Usuario\\Documents\\Documents\\MVA\\Stage\\DLCProject\\Data\\AnalyzedVideos\\MDX5CV male videos'\n",
    "\n",
    "path_to_save_csv = r'C:\\Users\\Usuario\\Documents\\Documents\\MVA\\Stage\\DLCProject\\Data\\DataLoaderTestFormatMDX5CV'\n",
    "\n",
    "for file in csv_files:\n",
    "    print(f\"Reading file: {file}\")\n",
    "    test_name = file.split('_')[3] + ' ' + file.split('_')[4][:-4]\n",
    "    # Video path has the same name somewhere\n",
    "    video_name = [f for f in os.listdir(path_to_vid) if test_name in f][0]\n",
    "    video_path = os.path.join(path_to_vid, video_name)\n",
    "    # Create dataframe with each row as a frame\n",
    "    num_frames, fps = ut.get_video_info(video_path)\n",
    "    compress_df = pd.DataFrame()\n",
    "    compress_df['Frame'] = np.arange(num_frames, dtype=int)\n",
    "    df = pd.read_csv(os.path.join(path_to_csv, file))\n",
    "    for col in df.columns[1:]:\n",
    "        compress_df[col] = np.zeros(num_frames)\n",
    "        for i in range(len(df)):\n",
    "            starting_frame = ut.from_time_to_frame_s(df['Time (s)'][i], fps)\n",
    "            if i == len(df) - 1:\n",
    "                ending_frame = num_frames\n",
    "            else:\n",
    "                ending_frame = ut.from_time_to_frame_s(df['Time (s)'][i+1], fps)\n",
    "            compress_df[col][starting_frame:ending_frame] = df[col][i]\n",
    "    \n",
    "    compress_df.to_csv(os.path.join(path_to_save_csv, video_name[:-4] + '.csv'), index=False)\n",
    "   "
   ]
  },
  {
   "cell_type": "markdown",
   "metadata": {},
   "source": [
    "### Change names of files"
   ]
  },
  {
   "cell_type": "code",
   "execution_count": 1,
   "metadata": {},
   "outputs": [],
   "source": [
    "import os"
   ]
  },
  {
   "cell_type": "code",
   "execution_count": 3,
   "metadata": {},
   "outputs": [],
   "source": [
    "# For all files in a folder that contains ' ' (spaces) replace them by '_'.\n",
    "\n",
    "path = r'C:\\Users\\Usuario\\Documents\\Documents\\MVA\\Stage\\DLCProject\\Data\\AnalyzedVideos\\MDX5CV male videos'\n",
    "\n",
    "for file in os.listdir(path):\n",
    "    if ' ' in file:\n",
    "        os.rename(os.path.join(path, file), os.path.join(path, file.replace(' ', '_')))\n",
    "\n"
   ]
  },
  {
   "cell_type": "code",
   "execution_count": null,
   "metadata": {},
   "outputs": [],
   "source": []
  },
  {
   "cell_type": "code",
   "execution_count": null,
   "metadata": {},
   "outputs": [],
   "source": [
    "\n",
    "print(data) for df in df_list:\n",
    "            # We need to see if in each frame, each behaviour is present or not\n",
    "            for behaviour in df.columns[1:]:\n",
    "                compress_df[behaviour] = np.zeros(num_frames)\n",
    "                # Get instances of the behaviour\n",
    "                for i in range(len(df)):\n",
    "\n",
    "                    starting_frame = from_time_to_frame(df['Time'][i], fps)\n",
    "                    if i == len(df) - 1:\n",
    "                        ending_frame = num_frames\n",
    "                    else:\n",
    "                        ending_frame = from_time_to_frame(df['Time'][i+1], fps)\n",
    "                    compress_df[behaviour][starting_frame:ending_frame] = df[behaviour][i]\n"
   ]
  }
 ],
 "metadata": {
  "kernelspec": {
   "display_name": "deepof",
   "language": "python",
   "name": "python3"
  },
  "language_info": {
   "codemirror_mode": {
    "name": "ipython",
    "version": 3
   },
   "file_extension": ".py",
   "mimetype": "text/x-python",
   "name": "python",
   "nbconvert_exporter": "python",
   "pygments_lexer": "ipython3",
   "version": "3.9.19"
  }
 },
 "nbformat": 4,
 "nbformat_minor": 2
}
