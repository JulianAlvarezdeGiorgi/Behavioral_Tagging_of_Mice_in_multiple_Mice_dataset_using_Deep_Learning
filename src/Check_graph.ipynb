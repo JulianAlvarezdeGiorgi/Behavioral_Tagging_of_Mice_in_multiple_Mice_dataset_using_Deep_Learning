{
 "cells": [
  {
   "cell_type": "code",
   "execution_count": 1,
   "metadata": {},
   "outputs": [],
   "source": [
    "import numpy as np\n",
    "import torch\n",
    "import augmentation\n",
    "import matplotlib.pyplot as plt\n",
    "from torch_geometric.data import Data, DataLoader"
   ]
  },
  {
   "cell_type": "code",
   "execution_count": null,
   "metadata": {},
   "outputs": [],
   "source": []
  },
  {
   "cell_type": "code",
   "execution_count": null,
   "metadata": {},
   "outputs": [],
   "source": []
  },
  {
   "cell_type": "code",
   "execution_count": 2,
   "metadata": {},
   "outputs": [],
   "source": [
    "dataset = torch.load(r'c:\\Users\\jalvarez\\Documents\\Data\\Dataset_DMDmaleMDX5CVmalefem\\new_dataset_large.pkl')"
   ]
  },
  {
   "cell_type": "markdown",
   "metadata": {},
   "source": [
    "## Check if both directions of the edges are present in the graphs\n",
    "\n",
    "**Rmk:** We will check also if the edges are not repeated (this is not as bad as missing edges, because we are using attention mechanism, so the attention will take care of ...)\n"
   ]
  },
  {
   "cell_type": "markdown",
   "metadata": {},
   "source": []
  },
  {
   "cell_type": "code",
   "execution_count": 9,
   "metadata": {},
   "outputs": [],
   "source": [
    "# Get first graph of the dataset\n",
    "#del graph_0\n",
    "graph_0 = dataset[0].clone()"
   ]
  },
  {
   "cell_type": "code",
   "execution_count": 10,
   "metadata": {},
   "outputs": [],
   "source": [
    "edge_index = graph_0.edge_index"
   ]
  },
  {
   "cell_type": "code",
   "execution_count": null,
   "metadata": {},
   "outputs": [],
   "source": [
    "len(edge_index[0])"
   ]
  },
  {
   "cell_type": "code",
   "execution_count": 12,
   "metadata": {},
   "outputs": [],
   "source": [
    "# Convert edge_index to list of tuples\n",
    "edges = edge_index.t().tolist()  # Transpose and convert to list\n",
    "\n",
    "# Convert edges to a set of tuples for fast lookups\n",
    "edge_set = set(map(tuple, edges))\n",
    "count = 0\n",
    "\n",
    "# Add reverse edges if missing\n",
    "for edge in edges:\n",
    "    reverse_edge = (edge[1], edge[0])\n",
    "    if reverse_edge not in edge_set and edge[0] != edge[1]:  # Ensure reverse edge doesn't exist, and avoid self-loops\n",
    "        edge_set.add(reverse_edge)  # Add the reverse edge\n",
    "        count += 1"
   ]
  },
  {
   "cell_type": "code",
   "execution_count": null,
   "metadata": {},
   "outputs": [],
   "source": [
    "print(count)"
   ]
  },
  {
   "cell_type": "code",
   "execution_count": null,
   "metadata": {},
   "outputs": [],
   "source": [
    "print(len(edges))\n",
    "print(count)"
   ]
  },
  {
   "cell_type": "code",
   "execution_count": 2,
   "metadata": {},
   "outputs": [],
   "source": [
    "def add_missing_reverse_edges(data):\n",
    "    edge_index = data.edge_index\n",
    "    \n",
    "    # Convert edge_index to list of tuples\n",
    "    edges = edge_index.t().tolist()  # Transpose and convert to list\n",
    "    \n",
    "    # Convert edges to a set of tuples for fast lookups\n",
    "    edge_set = set(map(tuple, edges))\n",
    "    \n",
    "    # Add reverse edges if missing\n",
    "    for edge in edges:\n",
    "        reverse_edge = (edge[1], edge[0])\n",
    "        if reverse_edge not in edge_set and edge[0] != edge[1]:  # Ensure reverse edge doesn't exist, and avoid self-loops\n",
    "            edge_set.add(reverse_edge)  # Add the reverse edge\n",
    "    \n",
    "    # Convert back to tensor\n",
    "    updated_edge_index = torch.tensor(list(edge_set), dtype=torch.long).t()  # Transpose back\n",
    "    \n",
    "    # Update the edge_index in the Data object\n",
    "    data.edge_index = updated_edge_index\n",
    "\n",
    "    return data\n"
   ]
  },
  {
   "cell_type": "markdown",
   "metadata": {},
   "source": [
    "## All processing"
   ]
  },
  {
   "cell_type": "code",
   "execution_count": 3,
   "metadata": {},
   "outputs": [],
   "source": [
    "dataset = torch.load(r'd:\\Data\\LargeDataset\\entire_dataset.pkl')"
   ]
  },
  {
   "cell_type": "code",
   "execution_count": 4,
   "metadata": {},
   "outputs": [],
   "source": [
    "import tqdm"
   ]
  },
  {
   "cell_type": "code",
   "execution_count": 5,
   "metadata": {},
   "outputs": [
    {
     "name": "stderr",
     "output_type": "stream",
     "text": [
      "100%|██████████| 310077/310077 [20:30<00:00, 252.00it/s] \n"
     ]
    }
   ],
   "source": [
    "for i in tqdm.tqdm(range(len(dataset))):\n",
    "    dataset[i] = add_missing_reverse_edges(dataset[i])\n",
    "\n",
    "torch.save(dataset, r'd:\\Data\\LargeDataset\\new_entire_dataset.pkl')\n",
    "\n"
   ]
  },
  {
   "cell_type": "code",
   "execution_count": null,
   "metadata": {},
   "outputs": [],
   "source": [
    "len(dataset)"
   ]
  }
 ],
 "metadata": {
  "kernelspec": {
   "display_name": "envProj",
   "language": "python",
   "name": "python3"
  },
  "language_info": {
   "codemirror_mode": {
    "name": "ipython",
    "version": 3
   },
   "file_extension": ".py",
   "mimetype": "text/x-python",
   "name": "python",
   "nbconvert_exporter": "python",
   "pygments_lexer": "ipython3",
   "version": "3.12.5"
  }
 },
 "nbformat": 4,
 "nbformat_minor": 2
}
